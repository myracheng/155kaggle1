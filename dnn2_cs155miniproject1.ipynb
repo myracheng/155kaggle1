{
  "nbformat": 4,
  "nbformat_minor": 0,
  "metadata": {
    "colab": {
      "name": "dnn_cs155miniproject1.ipynb",
      "provenance": [],
      "collapsed_sections": [],
      "toc_visible": true,
      "authorship_tag": "ABX9TyM88RDjWQKusH4r88kxPhzP",
      "include_colab_link": true
    },
    "kernelspec": {
      "name": "python3",
      "display_name": "Python 3"
    },
    "accelerator": "GPU"
  },
  "cells": [
    {
      "cell_type": "markdown",
      "metadata": {
        "id": "view-in-github",
        "colab_type": "text"
      },
      "source": [
        "<a href=\"https://colab.research.google.com/github/myracheng/155kaggle1/blob/master/dnn2_cs155miniproject1.ipynb\" target=\"_parent\"><img src=\"https://colab.research.google.com/assets/colab-badge.svg\" alt=\"Open In Colab\"/></a>"
      ]
    },
    {
      "cell_type": "code",
      "metadata": {
        "id": "Ag5XD4I2Rxvq",
        "colab_type": "code",
        "outputId": "d80815e3-bf26-489a-962c-c5e2e00228ad",
        "colab": {
          "base_uri": "https://localhost:8080/",
          "height": 122
        }
      },
      "source": [
        "# Load the Drive helper and mount\n",
        "from google.colab import drive\n",
        "\n",
        "# This will prompt for authorization.\n",
        "drive.mount('/content/drive')"
      ],
      "execution_count": 0,
      "outputs": [
        {
          "output_type": "stream",
          "text": [
            "Go to this URL in a browser: https://accounts.google.com/o/oauth2/auth?client_id=947318989803-6bn6qk8qdgf4n4g3pfee6491hc0brc4i.apps.googleusercontent.com&redirect_uri=urn%3aietf%3awg%3aoauth%3a2.0%3aoob&response_type=code&scope=email%20https%3a%2f%2fwww.googleapis.com%2fauth%2fdocs.test%20https%3a%2f%2fwww.googleapis.com%2fauth%2fdrive%20https%3a%2f%2fwww.googleapis.com%2fauth%2fdrive.photos.readonly%20https%3a%2f%2fwww.googleapis.com%2fauth%2fpeopleapi.readonly\n",
            "\n",
            "Enter your authorization code:\n",
            "··········\n",
            "Mounted at /content/drive\n"
          ],
          "name": "stdout"
        }
      ]
    },
    {
      "cell_type": "code",
      "metadata": {
        "id": "XQmRLDx0R6nX",
        "colab_type": "code",
        "outputId": "b35a018f-b1aa-4167-d95c-6d68068fff0a",
        "colab": {
          "base_uri": "https://localhost:8080/",
          "height": 153
        }
      },
      "source": [
        "from zipfile import ZipFile \n",
        "file_name = \"drive/My Drive/train.csv.zip\"\n",
        "  \n",
        "# # opening the zip file in READ mode \n",
        "with ZipFile(file_name, 'r') as zipF: \n",
        "    # printing all the contents of the zip file \n",
        "    zipF.printdir() \n",
        "  \n",
        "    # extracting all the files \n",
        "    print('Extracting all the files now...') \n",
        "    data = zipF.extract('train.csv') \n",
        "    print('Done!')\n",
        "\n",
        "file_name = \"drive/My Drive/test.csv.zip\"\n",
        "  \n",
        "# # opening the zip file in READ mode \n",
        "with ZipFile(file_name, 'r') as zipF: \n",
        "    # printing all the contents of the zip file \n",
        "    zipF.printdir() \n",
        "  \n",
        "    # extracting all the files \n",
        "    print('Extracting all the files now...') \n",
        "    data = zipF.extract('test.csv') \n",
        "    print('Done!')"
      ],
      "execution_count": 0,
      "outputs": [
        {
          "output_type": "stream",
          "text": [
            "File Name                                             Modified             Size\n",
            "train.csv                                      2020-02-09 10:27:26     77009507\n",
            "Extracting all the files now...\n",
            "Done!\n",
            "File Name                                             Modified             Size\n",
            "test.csv                                       2020-02-09 10:27:26     24378147\n",
            "Extracting all the files now...\n",
            "Done!\n"
          ],
          "name": "stdout"
        }
      ]
    },
    {
      "cell_type": "code",
      "metadata": {
        "id": "Z8R_QPebR82i",
        "colab_type": "code",
        "colab": {}
      },
      "source": [
        "\n",
        "import pandas as pd\n",
        "train_df = pd.read_csv('train.csv')\n",
        "test_df = pd.read_csv('test.csv')"
      ],
      "execution_count": 0,
      "outputs": []
    },
    {
      "cell_type": "code",
      "metadata": {
        "id": "MX0OfRFyR-RB",
        "colab_type": "code",
        "colab": {}
      },
      "source": [
        "from sklearn.model_selection import train_test_split\n",
        "# Split test and train data\n",
        "df_train = train_df\n",
        "df_train['diff'] = (df_train['last_price'] - df_train['mid'])**2\n",
        "df_train['avg_bid'] = (df_train['bid1'] * df_train['bid1vol'] + df_train['bid2'] * df_train['bid2vol'] + df_train['bid3'] * df_train['bid3vol'] + df_train['bid4'] * df_train['bid4vol'] + df_train['bid5'] * df_train['bid5vol']) / (df_train['bid1vol'] + df_train['bid2vol'] + df_train['bid3vol'] + df_train['bid4vol'] + df_train['bid5vol'])\n",
        "df_train['avg_ask'] = (df_train['ask1'] * df_train['ask1vol'] + df_train['ask2'] * df_train['ask2vol'] + df_train['ask3'] * df_train['ask3vol'] + df_train['ask4'] * df_train['ask4vol'] + df_train['ask5'] * df_train['ask5vol']) / (df_train['ask1vol'] + df_train['ask2vol'] + df_train['ask3vol'] + df_train['ask4vol'] + df_train['ask5vol'])\n",
        "df_train['diff_avg_bid'] = (df_train['last_price'] - df_train['avg_bid'])**2\n",
        "df_train['diff_avg_ask'] = (df_train['last_price'] - df_train['avg_ask'])**2\n",
        "df_train['diff_avg_bid_ask'] = (df_train['avg_ask'] - df_train['avg_bid'])**2\n",
        "\n",
        "X = df_train.drop('y', axis=1)\n",
        "y = df_train['y']\n",
        "normalized_X=(X-X.mean())/X.std()\n",
        "df_train = train_df.fillna(0)\n",
        "\n",
        "X_train, X_test, y_train, y_test = train_test_split(normalized_X, y, test_size=0.2, random_state=0)\n",
        "\n",
        "# num_samples = 10000\n",
        "# X_train = X_train[:num_samples]\n",
        "# y_train = y_train[:num_samples]\n",
        "# X_test=X_test[:int(num_samples*0.5)]\n",
        "# y_test=y_test[:int(num_samples*0.5)]"
      ],
      "execution_count": 0,
      "outputs": []
    },
    {
      "cell_type": "code",
      "metadata": {
        "id": "bb-rCBhY6jZ5",
        "colab_type": "code",
        "outputId": "acb9afde-54ca-4581-b077-5b29a1eb5223",
        "colab": {
          "base_uri": "https://localhost:8080/",
          "height": 349
        }
      },
      "source": [
        "aimport matplotlib.pyplot as plt\n",
        "import lightgbm as lgb\n",
        "d_train = lgb.Dataset(X_train, label=y_train)\n",
        "param = {\"max_depth\": 5, \"learning_rate\": 0.1, \"num_leaves\": 900, \"n_estimators\": 100}\n",
        "model2 = lgb.train(params=param,train_set=d_train)\n",
        "# print(‘Plot feature importances…’)\n",
        "ax = lgb.plot_importance(model2, max_num_features=10)\n",
        "plt.show()"
      ],
      "execution_count": 0,
      "outputs": [
        {
          "output_type": "stream",
          "text": [
            "/usr/local/lib/python3.6/dist-packages/lightgbm/engine.py:118: UserWarning: Found `n_estimators` in params. Will use it instead of argument\n",
            "  warnings.warn(\"Found `{}` in params. Will use it instead of argument\".format(alias))\n"
          ],
          "name": "stderr"
        },
        {
          "output_type": "display_data",
          "data": {
            "image/png": "[encoded data removed]",
            "text/plain": [
              "<Figure size 432x288 with 1 Axes>"
            ]
          },
          "metadata": {
            "tags": []
          }
        }
      ]
    },
    {
      "cell_type": "code",
      "metadata": {
        "id": "FRElC99GSiSz",
        "colab_type": "code",
        "outputId": "28fce168-a287-4b4c-e5a0-b32ed46337d0",
        "colab": {
          "base_uri": "https://localhost:8080/",
          "height": 80
        }
      },
      "source": [
        "import keras\n",
        "from keras.models import Sequential\n",
        "from keras.layers import Conv2D, Dense, Flatten, MaxPooling2D, Dropout,Activation,LSTM\n",
        "from keras.callbacks import EarlyStopping\n",
        "from keras.losses import sparse_categorical_crossentropy\n",
        "from keras.optimizers import SGD"
      ],
      "execution_count": 0,
      "outputs": [
        {
          "output_type": "stream",
          "text": [
            "Using TensorFlow backend.\n"
          ],
          "name": "stderr"
        },
        {
          "output_type": "display_data",
          "data": {
            "text/html": [
              "<p style=\"color: red;\">\n",
              "The default version of TensorFlow in Colab will soon switch to TensorFlow 2.x.<br>\n",
              "We recommend you <a href=\"https://www.tensorflow.org/guide/migrate\" target=\"_blank\">upgrade</a> now \n",
              "or ensure your notebook will continue to use TensorFlow 1.x via the <code>%tensorflow_version 1.x</code> magic:\n",
              "<a href=\"https://colab.research.google.com/notebooks/tensorflow_version.ipynb\" target=\"_blank\">more info</a>.</p>\n"
            ],
            "text/plain": [
              "<IPython.core.display.HTML object>"
            ]
          },
          "metadata": {
            "tags": []
          }
        }
      ]
    },
    {
      "cell_type": "code",
      "metadata": {
        "id": "YEbKt693VmlX",
        "colab_type": "code",
        "outputId": "435f2946-f96c-4b47-cf0b-787fb5877fd0",
        "colab": {
          "base_uri": "https://localhost:8080/",
          "height": 181
        }
      },
      "source": [
        "import numpy as np\n",
        "np.shape(X_train)"
      ],
      "execution_count": 0,
      "outputs": [
        {
          "output_type": "error",
          "ename": "NameError",
          "evalue": "ignored",
          "traceback": [
            "\u001b[0;31m---------------------------------------------------------------------------\u001b[0m",
            "\u001b[0;31mNameError\u001b[0m                                 Traceback (most recent call last)",
            "\u001b[0;32m<ipython-input-6-6c396d671b30>\u001b[0m in \u001b[0;36m<module>\u001b[0;34m()\u001b[0m\n\u001b[1;32m      1\u001b[0m \u001b[0;32mimport\u001b[0m \u001b[0mnumpy\u001b[0m \u001b[0;32mas\u001b[0m \u001b[0mnp\u001b[0m\u001b[0;34m\u001b[0m\u001b[0;34m\u001b[0m\u001b[0m\n\u001b[0;32m----> 2\u001b[0;31m \u001b[0mnp\u001b[0m\u001b[0;34m.\u001b[0m\u001b[0mshape\u001b[0m\u001b[0;34m(\u001b[0m\u001b[0mX_train\u001b[0m\u001b[0;34m)\u001b[0m\u001b[0;34m\u001b[0m\u001b[0;34m\u001b[0m\u001b[0m\n\u001b[0m",
            "\u001b[0;31mNameError\u001b[0m: name 'X_train' is not defined"
          ]
        }
      ]
    },
    {
      "cell_type": "code",
      "metadata": {
        "id": "ZPHOW-zcYzCV",
        "colab_type": "code",
        "outputId": "d05f087c-ed5b-432a-83e5-18c5e5e91c6a",
        "colab": {
          "base_uri": "https://localhost:8080/",
          "height": 1000
        }
      },
      "source": [
        "from keras import regularizers\n",
        "\n",
        "model_3 = Sequential([\n",
        "    Dense(500, activation='relu',input_shape=(33,)),\n",
        "    Dropout(0.3),\n",
        "    Dense(500, activation='relu'),\n",
        "    Dropout(0.3),\n",
        "    Dense(500, activation='relu'),\n",
        "    # Dropout(0.3),\n",
        "    # Dense(500, activation='relu', kernel_regularizer=regularizers.l2(0.01)),\n",
        "    # Dropout(0.3),\n",
        "    Dense(1, activation='sigmoid'),\n",
        "])\n",
        "model_3.compile(optimizer='adam',\n",
        "              loss='binary_crossentropy',\n",
        "              metrics=['accuracy'])\n",
        "hist_3 = model_3.fit(X_train, y_train,\n",
        "          batch_size=32, epochs=10,\n",
        "          validation_data=(X_test, y_test))"
      ],
      "execution_count": 0,
      "outputs": [
        {
          "output_type": "stream",
          "text": [
            "WARNING:tensorflow:From /usr/local/lib/python3.6/dist-packages/keras/backend/tensorflow_backend.py:66: The name tf.get_default_graph is deprecated. Please use tf.compat.v1.get_default_graph instead.\n",
            "\n",
            "WARNING:tensorflow:From /usr/local/lib/python3.6/dist-packages/keras/backend/tensorflow_backend.py:541: The name tf.placeholder is deprecated. Please use tf.compat.v1.placeholder instead.\n",
            "\n",
            "WARNING:tensorflow:From /usr/local/lib/python3.6/dist-packages/keras/backend/tensorflow_backend.py:4432: The name tf.random_uniform is deprecated. Please use tf.random.uniform instead.\n",
            "\n",
            "WARNING:tensorflow:From /usr/local/lib/python3.6/dist-packages/keras/backend/tensorflow_backend.py:148: The name tf.placeholder_with_default is deprecated. Please use tf.compat.v1.placeholder_with_default instead.\n",
            "\n",
            "WARNING:tensorflow:From /usr/local/lib/python3.6/dist-packages/keras/backend/tensorflow_backend.py:3733: calling dropout (from tensorflow.python.ops.nn_ops) with keep_prob is deprecated and will be removed in a future version.\n",
            "Instructions for updating:\n",
            "Please use `rate` instead of `keep_prob`. Rate should be set to `rate = 1 - keep_prob`.\n",
            "WARNING:tensorflow:From /usr/local/lib/python3.6/dist-packages/keras/optimizers.py:793: The name tf.train.Optimizer is deprecated. Please use tf.compat.v1.train.Optimizer instead.\n",
            "\n",
            "WARNING:tensorflow:From /usr/local/lib/python3.6/dist-packages/keras/backend/tensorflow_backend.py:3657: The name tf.log is deprecated. Please use tf.math.log instead.\n",
            "\n",
            "WARNING:tensorflow:From /usr/local/lib/python3.6/dist-packages/tensorflow_core/python/ops/nn_impl.py:183: where (from tensorflow.python.ops.array_ops) is deprecated and will be removed in a future version.\n",
            "Instructions for updating:\n",
            "Use tf.where in 2.0, which has the same broadcast rule as np.where\n",
            "WARNING:tensorflow:From /usr/local/lib/python3.6/dist-packages/keras/backend/tensorflow_backend.py:1033: The name tf.assign_add is deprecated. Please use tf.compat.v1.assign_add instead.\n",
            "\n",
            "WARNING:tensorflow:From /usr/local/lib/python3.6/dist-packages/keras/backend/tensorflow_backend.py:1020: The name tf.assign is deprecated. Please use tf.compat.v1.assign instead.\n",
            "\n",
            "WARNING:tensorflow:From /usr/local/lib/python3.6/dist-packages/keras/backend/tensorflow_backend.py:3005: The name tf.Session is deprecated. Please use tf.compat.v1.Session instead.\n",
            "\n",
            "Train on 355428 samples, validate on 236952 samples\n",
            "Epoch 1/10\n",
            "WARNING:tensorflow:From /usr/local/lib/python3.6/dist-packages/keras/backend/tensorflow_backend.py:190: The name tf.get_default_session is deprecated. Please use tf.compat.v1.get_default_session instead.\n",
            "\n",
            "WARNING:tensorflow:From /usr/local/lib/python3.6/dist-packages/keras/backend/tensorflow_backend.py:197: The name tf.ConfigProto is deprecated. Please use tf.compat.v1.ConfigProto instead.\n",
            "\n",
            "WARNING:tensorflow:From /usr/local/lib/python3.6/dist-packages/keras/backend/tensorflow_backend.py:207: The name tf.global_variables is deprecated. Please use tf.compat.v1.global_variables instead.\n",
            "\n",
            "WARNING:tensorflow:From /usr/local/lib/python3.6/dist-packages/keras/backend/tensorflow_backend.py:216: The name tf.is_variable_initialized is deprecated. Please use tf.compat.v1.is_variable_initialized instead.\n",
            "\n",
            "WARNING:tensorflow:From /usr/local/lib/python3.6/dist-packages/keras/backend/tensorflow_backend.py:223: The name tf.variables_initializer is deprecated. Please use tf.compat.v1.variables_initializer instead.\n",
            "\n",
            "355428/355428 [==============================] - 62s 173us/step - loss: 0.6261 - acc: 0.6502 - val_loss: 0.6222 - val_acc: 0.6517\n",
            "Epoch 2/10\n",
            "355428/355428 [==============================] - 52s 147us/step - loss: 0.6219 - acc: 0.6534 - val_loss: 0.6204 - val_acc: 0.6536\n",
            "Epoch 3/10\n",
            "355428/355428 [==============================] - 52s 147us/step - loss: 0.6206 - acc: 0.6543 - val_loss: 0.6181 - val_acc: 0.6572\n",
            "Epoch 4/10\n",
            "355428/355428 [==============================] - 51s 145us/step - loss: 0.6199 - acc: 0.6555 - val_loss: 0.6196 - val_acc: 0.6559\n",
            "Epoch 5/10\n",
            "335488/355428 [===========================>..] - ETA: 2s - loss: 0.6196 - acc: 0.6556"
          ],
          "name": "stdout"
        },
        {
          "output_type": "error",
          "ename": "KeyboardInterrupt",
          "evalue": "ignored",
          "traceback": [
            "\u001b[0;31m---------------------------------------------------------------------------\u001b[0m",
            "\u001b[0;31mKeyboardInterrupt\u001b[0m                         Traceback (most recent call last)",
            "\u001b[0;32m<ipython-input-9-dcee2f61ff89>\u001b[0m in \u001b[0;36m<module>\u001b[0;34m()\u001b[0m\n\u001b[1;32m     17\u001b[0m hist_3 = model_3.fit(X_train, y_train,\n\u001b[1;32m     18\u001b[0m           \u001b[0mbatch_size\u001b[0m\u001b[0;34m=\u001b[0m\u001b[0;36m32\u001b[0m\u001b[0;34m,\u001b[0m \u001b[0mepochs\u001b[0m\u001b[0;34m=\u001b[0m\u001b[0;36m10\u001b[0m\u001b[0;34m,\u001b[0m\u001b[0;34m\u001b[0m\u001b[0;34m\u001b[0m\u001b[0m\n\u001b[0;32m---> 19\u001b[0;31m           validation_data=(X_test, y_test))\n\u001b[0m",
            "\u001b[0;32m/usr/local/lib/python3.6/dist-packages/keras/engine/training.py\u001b[0m in \u001b[0;36mfit\u001b[0;34m(self, x, y, batch_size, epochs, verbose, callbacks, validation_split, validation_data, shuffle, class_weight, sample_weight, initial_epoch, steps_per_epoch, validation_steps, validation_freq, max_queue_size, workers, use_multiprocessing, **kwargs)\u001b[0m\n\u001b[1;32m   1176\u001b[0m                                         \u001b[0msteps_per_epoch\u001b[0m\u001b[0;34m=\u001b[0m\u001b[0msteps_per_epoch\u001b[0m\u001b[0;34m,\u001b[0m\u001b[0;34m\u001b[0m\u001b[0;34m\u001b[0m\u001b[0m\n\u001b[1;32m   1177\u001b[0m                                         \u001b[0mvalidation_steps\u001b[0m\u001b[0;34m=\u001b[0m\u001b[0mvalidation_steps\u001b[0m\u001b[0;34m,\u001b[0m\u001b[0;34m\u001b[0m\u001b[0;34m\u001b[0m\u001b[0m\n\u001b[0;32m-> 1178\u001b[0;31m                                         validation_freq=validation_freq)\n\u001b[0m\u001b[1;32m   1179\u001b[0m \u001b[0;34m\u001b[0m\u001b[0m\n\u001b[1;32m   1180\u001b[0m     def evaluate(self,\n",
            "\u001b[0;32m/usr/local/lib/python3.6/dist-packages/keras/engine/training_arrays.py\u001b[0m in \u001b[0;36mfit_loop\u001b[0;34m(model, fit_function, fit_inputs, out_labels, batch_size, epochs, verbose, callbacks, val_function, val_inputs, shuffle, callback_metrics, initial_epoch, steps_per_epoch, validation_steps, validation_freq)\u001b[0m\n\u001b[1;32m    202\u001b[0m                     \u001b[0mins_batch\u001b[0m\u001b[0;34m[\u001b[0m\u001b[0mi\u001b[0m\u001b[0;34m]\u001b[0m \u001b[0;34m=\u001b[0m \u001b[0mins_batch\u001b[0m\u001b[0;34m[\u001b[0m\u001b[0mi\u001b[0m\u001b[0;34m]\u001b[0m\u001b[0;34m.\u001b[0m\u001b[0mtoarray\u001b[0m\u001b[0;34m(\u001b[0m\u001b[0;34m)\u001b[0m\u001b[0;34m\u001b[0m\u001b[0;34m\u001b[0m\u001b[0m\n\u001b[1;32m    203\u001b[0m \u001b[0;34m\u001b[0m\u001b[0m\n\u001b[0;32m--> 204\u001b[0;31m                 \u001b[0mouts\u001b[0m \u001b[0;34m=\u001b[0m \u001b[0mfit_function\u001b[0m\u001b[0;34m(\u001b[0m\u001b[0mins_batch\u001b[0m\u001b[0;34m)\u001b[0m\u001b[0;34m\u001b[0m\u001b[0;34m\u001b[0m\u001b[0m\n\u001b[0m\u001b[1;32m    205\u001b[0m                 \u001b[0mouts\u001b[0m \u001b[0;34m=\u001b[0m \u001b[0mto_list\u001b[0m\u001b[0;34m(\u001b[0m\u001b[0mouts\u001b[0m\u001b[0;34m)\u001b[0m\u001b[0;34m\u001b[0m\u001b[0;34m\u001b[0m\u001b[0m\n\u001b[1;32m    206\u001b[0m                 \u001b[0;32mfor\u001b[0m \u001b[0ml\u001b[0m\u001b[0;34m,\u001b[0m \u001b[0mo\u001b[0m \u001b[0;32min\u001b[0m \u001b[0mzip\u001b[0m\u001b[0;34m(\u001b[0m\u001b[0mout_labels\u001b[0m\u001b[0;34m,\u001b[0m \u001b[0mouts\u001b[0m\u001b[0;34m)\u001b[0m\u001b[0;34m:\u001b[0m\u001b[0;34m\u001b[0m\u001b[0;34m\u001b[0m\u001b[0m\n",
            "\u001b[0;32m/usr/local/lib/python3.6/dist-packages/keras/backend/tensorflow_backend.py\u001b[0m in \u001b[0;36m__call__\u001b[0;34m(self, inputs)\u001b[0m\n\u001b[1;32m   2977\u001b[0m                     \u001b[0;32mreturn\u001b[0m \u001b[0mself\u001b[0m\u001b[0;34m.\u001b[0m\u001b[0m_legacy_call\u001b[0m\u001b[0;34m(\u001b[0m\u001b[0minputs\u001b[0m\u001b[0;34m)\u001b[0m\u001b[0;34m\u001b[0m\u001b[0;34m\u001b[0m\u001b[0m\n\u001b[1;32m   2978\u001b[0m \u001b[0;34m\u001b[0m\u001b[0m\n\u001b[0;32m-> 2979\u001b[0;31m             \u001b[0;32mreturn\u001b[0m \u001b[0mself\u001b[0m\u001b[0;34m.\u001b[0m\u001b[0m_call\u001b[0m\u001b[0;34m(\u001b[0m\u001b[0minputs\u001b[0m\u001b[0;34m)\u001b[0m\u001b[0;34m\u001b[0m\u001b[0;34m\u001b[0m\u001b[0m\n\u001b[0m\u001b[1;32m   2980\u001b[0m         \u001b[0;32melse\u001b[0m\u001b[0;34m:\u001b[0m\u001b[0;34m\u001b[0m\u001b[0;34m\u001b[0m\u001b[0m\n\u001b[1;32m   2981\u001b[0m             \u001b[0;32mif\u001b[0m \u001b[0mpy_any\u001b[0m\u001b[0;34m(\u001b[0m\u001b[0mis_tensor\u001b[0m\u001b[0;34m(\u001b[0m\u001b[0mx\u001b[0m\u001b[0;34m)\u001b[0m \u001b[0;32mfor\u001b[0m \u001b[0mx\u001b[0m \u001b[0;32min\u001b[0m \u001b[0minputs\u001b[0m\u001b[0;34m)\u001b[0m\u001b[0;34m:\u001b[0m\u001b[0;34m\u001b[0m\u001b[0;34m\u001b[0m\u001b[0m\n",
            "\u001b[0;32m/usr/local/lib/python3.6/dist-packages/keras/backend/tensorflow_backend.py\u001b[0m in \u001b[0;36m_call\u001b[0;34m(self, inputs)\u001b[0m\n\u001b[1;32m   2935\u001b[0m             \u001b[0mfetched\u001b[0m \u001b[0;34m=\u001b[0m \u001b[0mself\u001b[0m\u001b[0;34m.\u001b[0m\u001b[0m_callable_fn\u001b[0m\u001b[0;34m(\u001b[0m\u001b[0;34m*\u001b[0m\u001b[0marray_vals\u001b[0m\u001b[0;34m,\u001b[0m \u001b[0mrun_metadata\u001b[0m\u001b[0;34m=\u001b[0m\u001b[0mself\u001b[0m\u001b[0;34m.\u001b[0m\u001b[0mrun_metadata\u001b[0m\u001b[0;34m)\u001b[0m\u001b[0;34m\u001b[0m\u001b[0;34m\u001b[0m\u001b[0m\n\u001b[1;32m   2936\u001b[0m         \u001b[0;32melse\u001b[0m\u001b[0;34m:\u001b[0m\u001b[0;34m\u001b[0m\u001b[0;34m\u001b[0m\u001b[0m\n\u001b[0;32m-> 2937\u001b[0;31m             \u001b[0mfetched\u001b[0m \u001b[0;34m=\u001b[0m \u001b[0mself\u001b[0m\u001b[0;34m.\u001b[0m\u001b[0m_callable_fn\u001b[0m\u001b[0;34m(\u001b[0m\u001b[0;34m*\u001b[0m\u001b[0marray_vals\u001b[0m\u001b[0;34m)\u001b[0m\u001b[0;34m\u001b[0m\u001b[0;34m\u001b[0m\u001b[0m\n\u001b[0m\u001b[1;32m   2938\u001b[0m         \u001b[0;32mreturn\u001b[0m \u001b[0mfetched\u001b[0m\u001b[0;34m[\u001b[0m\u001b[0;34m:\u001b[0m\u001b[0mlen\u001b[0m\u001b[0;34m(\u001b[0m\u001b[0mself\u001b[0m\u001b[0;34m.\u001b[0m\u001b[0moutputs\u001b[0m\u001b[0;34m)\u001b[0m\u001b[0;34m]\u001b[0m\u001b[0;34m\u001b[0m\u001b[0;34m\u001b[0m\u001b[0m\n\u001b[1;32m   2939\u001b[0m \u001b[0;34m\u001b[0m\u001b[0m\n",
            "\u001b[0;32m/usr/local/lib/python3.6/dist-packages/tensorflow_core/python/client/session.py\u001b[0m in \u001b[0;36m__call__\u001b[0;34m(self, *args, **kwargs)\u001b[0m\n\u001b[1;32m   1470\u001b[0m         ret = tf_session.TF_SessionRunCallable(self._session._session,\n\u001b[1;32m   1471\u001b[0m                                                \u001b[0mself\u001b[0m\u001b[0;34m.\u001b[0m\u001b[0m_handle\u001b[0m\u001b[0;34m,\u001b[0m \u001b[0margs\u001b[0m\u001b[0;34m,\u001b[0m\u001b[0;34m\u001b[0m\u001b[0;34m\u001b[0m\u001b[0m\n\u001b[0;32m-> 1472\u001b[0;31m                                                run_metadata_ptr)\n\u001b[0m\u001b[1;32m   1473\u001b[0m         \u001b[0;32mif\u001b[0m \u001b[0mrun_metadata\u001b[0m\u001b[0;34m:\u001b[0m\u001b[0;34m\u001b[0m\u001b[0;34m\u001b[0m\u001b[0m\n\u001b[1;32m   1474\u001b[0m           \u001b[0mproto_data\u001b[0m \u001b[0;34m=\u001b[0m \u001b[0mtf_session\u001b[0m\u001b[0;34m.\u001b[0m\u001b[0mTF_GetBuffer\u001b[0m\u001b[0;34m(\u001b[0m\u001b[0mrun_metadata_ptr\u001b[0m\u001b[0;34m)\u001b[0m\u001b[0;34m\u001b[0m\u001b[0;34m\u001b[0m\u001b[0m\n",
            "\u001b[0;31mKeyboardInterrupt\u001b[0m: "
          ]
        }
      ]
    },
    {
      "cell_type": "code",
      "metadata": {
        "id": "8HgakdfytuIz",
        "colab_type": "code",
        "colab": {}
      },
      "source": [
        "from sklearn.model_selection import train_test_split\n",
        "# Split test and train data\n",
        "df_train = train_df.fillna(0)\n",
        "\n",
        "df_train['diff'] = (df_train['last_price'] - df_train['mid'])\n",
        "df_train['avg_bid'] = (df_train['bid1'] * df_train['bid1vol'] + df_train['bid2'] * df_train['bid2vol'] + df_train['bid3'] * df_train['bid3vol'] + df_train['bid4'] * df_train['bid4vol'] + df_train['bid5'] * df_train['bid5vol']) / (df_train['bid1vol'] + df_train['bid2vol'] + df_train['bid3vol'] + df_train['bid4vol'] + df_train['bid5vol'])\n",
        "df_train['avg_ask'] = (df_train['ask1'] * df_train['ask1vol'] + df_train['ask2'] * df_train['ask2vol'] + df_train['ask3'] * df_train['ask3vol'] + df_train['ask4'] * df_train['ask4vol'] + df_train['ask5'] * df_train['ask5vol']) / (df_train['ask1vol'] + df_train['ask2vol'] + df_train['ask3vol'] + df_train['ask4vol'] + df_train['ask5vol'])\n",
        "df_train['diff_avg_bid'] = (df_train['last_price'] - df_train['avg_bid'])\n",
        "df_train['diff_avg_ask'] = (df_train['last_price'] - df_train['avg_ask'])\n",
        "df_train['diff_avg_bid_ask'] = (df_train['avg_ask'] - df_train['avg_bid'])\n",
        "\n",
        "X = df_train.drop('y', axis=1)\n",
        "y = df_train['y']\n",
        "normalized_X=(X-X.mean())/X.std()\n",
        "\n",
        "X_train, X_test, y_train, y_test = train_test_split(normalized_X, y, test_size=0.4, random_state=0)\n",
        "\n",
        "# num_samples = 10000\n",
        "# X_train = X_train[:num_samples]\n",
        "# y_train = y_train[:num_samples]\n",
        "# X_test=X_test[:int(num_samples*0.5)]\n",
        "# y_test=y_test[:int(num_samples*0.5)]\n"
      ],
      "execution_count": 0,
      "outputs": []
    },
    {
      "cell_type": "code",
      "metadata": {
        "id": "9HZ_mU1Lt2F8",
        "colab_type": "code",
        "outputId": "0e6fcbf9-43d0-42f4-f4d1-2c2e456aa2b8",
        "colab": {
          "base_uri": "https://localhost:8080/",
          "height": 394
        }
      },
      "source": [
        "model_3 = Sequential([\n",
        "      Dense(5000, activation='relu',input_shape=(33,)),\n",
        "      Dropout(0.1),\n",
        "      Dense(5000, activation='relu'),\n",
        "      Dropout(0.1),\n",
        "      Dense(5000, activation='relu'),\n",
        "      Dense(1, activation='sigmoid'),\n",
        "  ])\n",
        "model_3.compile(optimizer='adam',\n",
        "                loss='binary_crossentropy',\n",
        "                metrics=['accuracy'])\n",
        "hist_3 = model_3.fit(X_train, y_train,\n",
        "            batch_size=32, epochs=10,\n",
        "            validation_data=(X_test, y_test))"
      ],
      "execution_count": 0,
      "outputs": [
        {
          "output_type": "stream",
          "text": [
            "Train on 355428 samples, validate on 236952 samples\n",
            "Epoch 1/10\n",
            "355428/355428 [==============================] - 226s 637us/step - loss: 0.6224 - acc: 0.6556 - val_loss: 0.6184 - val_acc: 0.6584\n",
            "Epoch 2/10\n",
            "355428/355428 [==============================] - 225s 632us/step - loss: 0.6171 - acc: 0.6603 - val_loss: 0.6137 - val_acc: 0.6639\n",
            "Epoch 3/10\n",
            "355428/355428 [==============================] - 225s 632us/step - loss: 0.6157 - acc: 0.6616 - val_loss: 0.6148 - val_acc: 0.6622\n",
            "Epoch 4/10\n",
            "355428/355428 [==============================] - 225s 633us/step - loss: 0.6153 - acc: 0.6627 - val_loss: 0.6135 - val_acc: 0.6637\n",
            "Epoch 5/10\n",
            "355428/355428 [==============================] - 224s 631us/step - loss: 0.6154 - acc: 0.6630 - val_loss: 0.6149 - val_acc: 0.6597\n",
            "Epoch 6/10\n",
            "355428/355428 [==============================] - 224s 630us/step - loss: 0.6146 - acc: 0.6635 - val_loss: 0.6146 - val_acc: 0.6637\n",
            "Epoch 7/10\n",
            "355428/355428 [==============================] - 224s 631us/step - loss: 0.6135 - acc: 0.6639 - val_loss: 0.6130 - val_acc: 0.6632\n",
            "Epoch 8/10\n",
            "355428/355428 [==============================] - 224s 629us/step - loss: 0.6133 - acc: 0.6637 - val_loss: 0.6117 - val_acc: 0.6626\n",
            "Epoch 9/10\n",
            "355428/355428 [==============================] - 224s 629us/step - loss: 0.6134 - acc: 0.6640 - val_loss: 0.6124 - val_acc: 0.6634\n",
            "Epoch 10/10\n",
            "355428/355428 [==============================] - 224s 630us/step - loss: 0.6130 - acc: 0.6646 - val_loss: 0.6118 - val_acc: 0.6652\n"
          ],
          "name": "stdout"
        }
      ]
    },
    {
      "cell_type": "code",
      "metadata": {
        "id": "bAi7pjkty7lQ",
        "colab_type": "code",
        "outputId": "07370b24-1884-4903-e209-4c63fca3104e",
        "colab": {
          "base_uri": "https://localhost:8080/",
          "height": 292
        }
      },
      "source": [
        "model_3 = Sequential([\n",
        "      Dense(5000, activation='relu',input_shape=(33,)),\n",
        "      Dropout(0.1),\n",
        "      Dense(5000, activation='relu',kernel_regularizer=regularizers.l2(0.01)),\n",
        "      Dropout(0.1),\n",
        "      Dense(5000, activation='relu',kernel_regularizer=regularizers.l2(0.01)),\n",
        "      Dense(1, activation='sigmoid'),\n",
        "  ])\n",
        "model_3.compile(optimizer='adam',\n",
        "                loss='binary_crossentropy',\n",
        "                metrics=['accuracy'])\n",
        "hist_3 = model_3.fit(X_train, y_train,\n",
        "            batch_size=32, epochs=10,\n",
        "            validation_data=(X_test, y_test))"
      ],
      "execution_count": 0,
      "outputs": [
        {
          "output_type": "stream",
          "text": [
            "Train on 355428 samples, validate on 236952 samples\n",
            "Epoch 1/10\n",
            "355428/355428 [==============================] - 289s 813us/step - loss: 0.7026 - acc: 0.6531 - val_loss: 0.6270 - val_acc: 0.6584\n",
            "Epoch 2/10\n",
            "355428/355428 [==============================] - 288s 809us/step - loss: 0.6268 - acc: 0.6566 - val_loss: 0.6268 - val_acc: 0.6617\n",
            "Epoch 3/10\n",
            "355428/355428 [==============================] - 287s 809us/step - loss: 0.6250 - acc: 0.6576 - val_loss: 0.6263 - val_acc: 0.6551\n",
            "Epoch 4/10\n",
            "355428/355428 [==============================] - 288s 809us/step - loss: 0.6245 - acc: 0.6584 - val_loss: 0.6215 - val_acc: 0.6604\n",
            "Epoch 5/10\n",
            "355428/355428 [==============================] - 288s 810us/step - loss: 0.6233 - acc: 0.6596 - val_loss: 0.6206 - val_acc: 0.6612\n",
            "Epoch 6/10\n",
            "355428/355428 [==============================] - 288s 809us/step - loss: 0.6225 - acc: 0.6596 - val_loss: 0.6204 - val_acc: 0.6605\n",
            "Epoch 7/10\n",
            " 97600/355428 [=======>......................] - ETA: 3:14 - loss: 0.6220 - acc: 0.6589"
          ],
          "name": "stdout"
        }
      ]
    },
    {
      "cell_type": "code",
      "metadata": {
        "id": "3iNbp0LxoCJo",
        "colab_type": "code",
        "outputId": "df37de38-ac37-49d5-b4c9-219caff914b9",
        "colab": {
          "base_uri": "https://localhost:8080/",
          "height": 1000
        }
      },
      "source": [
        "from keras import regularizers\n",
        "\n",
        "models = []\n",
        "for d1 in np.arange(0.1,0.6,0.2):\n",
        "  # for d2 in np.arange(0.1,0.6,0.1):\n",
        "  for num_hidden_units in np.arange(4000,8000,1500):\n",
        "    model_3 = Sequential([\n",
        "        Dense(num_hidden_units, activation='relu',input_shape=(33,)),\n",
        "        Dropout(d1),\n",
        "        Dense(num_hidden_units, activation='relu'),\n",
        "        Dropout(d1),\n",
        "        Dense(num_hidden_units, activation='relu'),\n",
        "        Dense(1, activation='sigmoid'),\n",
        "    ])\n",
        "    print(d1)\n",
        "    print(num_hidden_units)\n",
        "    model_3.compile(optimizer='adam',\n",
        "                  loss='binary_crossentropy',\n",
        "                  metrics=['accuracy'])\n",
        "    hist_3 = model_3.fit(X_train, y_train,\n",
        "              batch_size=32, epochs=10,\n",
        "              validation_data=(X_test, y_test))\n",
        "    models.append(model_3)"
      ],
      "execution_count": 0,
      "outputs": [
        {
          "output_type": "stream",
          "text": [
            "0.1\n",
            "4000\n",
            "Train on 355428 samples, validate on 236952 samples\n",
            "Epoch 1/10\n",
            "355428/355428 [==============================] - 163s 457us/step - loss: 0.6274 - acc: 0.6490 - val_loss: 0.6238 - val_acc: 0.6497\n",
            "Epoch 2/10\n",
            "355428/355428 [==============================] - 162s 456us/step - loss: 0.6228 - acc: 0.6529 - val_loss: 0.6200 - val_acc: 0.6574\n",
            "Epoch 3/10\n",
            "355428/355428 [==============================] - 162s 455us/step - loss: 0.6213 - acc: 0.6550 - val_loss: 0.6192 - val_acc: 0.6542\n",
            "Epoch 4/10\n",
            "355428/355428 [==============================] - 162s 455us/step - loss: 0.6204 - acc: 0.6560 - val_loss: 0.6208 - val_acc: 0.6559\n",
            "Epoch 5/10\n",
            "355428/355428 [==============================] - 162s 455us/step - loss: 0.6199 - acc: 0.6561 - val_loss: 0.6180 - val_acc: 0.6573\n",
            "Epoch 6/10\n",
            "355428/355428 [==============================] - 162s 457us/step - loss: 0.6194 - acc: 0.6568 - val_loss: 0.6195 - val_acc: 0.6552\n",
            "Epoch 7/10\n",
            "355428/355428 [==============================] - 162s 455us/step - loss: 0.6186 - acc: 0.6571 - val_loss: 0.6181 - val_acc: 0.6587\n",
            "Epoch 8/10\n",
            "355428/355428 [==============================] - 162s 456us/step - loss: 0.6185 - acc: 0.6574 - val_loss: 0.6170 - val_acc: 0.6580\n",
            "Epoch 9/10\n",
            "355428/355428 [==============================] - 162s 457us/step - loss: 0.6182 - acc: 0.6576 - val_loss: 0.6175 - val_acc: 0.6561\n",
            "Epoch 10/10\n",
            "355428/355428 [==============================] - 162s 457us/step - loss: 0.6182 - acc: 0.6580 - val_loss: 0.6167 - val_acc: 0.6575\n",
            "0.1\n",
            "5500\n",
            "Train on 355428 samples, validate on 236952 samples\n",
            "Epoch 1/10\n",
            "355428/355428 [==============================] - 277s 779us/step - loss: 0.6279 - acc: 0.6498 - val_loss: 0.6239 - val_acc: 0.6517\n",
            "Epoch 2/10\n",
            "355428/355428 [==============================] - 275s 774us/step - loss: 0.6230 - acc: 0.6535 - val_loss: 0.6194 - val_acc: 0.6568\n",
            "Epoch 3/10\n",
            "355428/355428 [==============================] - 275s 774us/step - loss: 0.6215 - acc: 0.6549 - val_loss: 0.6206 - val_acc: 0.6560\n",
            "Epoch 4/10\n",
            "355428/355428 [==============================] - 276s 776us/step - loss: 0.6205 - acc: 0.6553 - val_loss: 0.6187 - val_acc: 0.6581\n",
            "Epoch 5/10\n",
            "355428/355428 [==============================] - 275s 775us/step - loss: 0.6199 - acc: 0.6556 - val_loss: 0.6216 - val_acc: 0.6566\n",
            "Epoch 6/10\n",
            "355428/355428 [==============================] - 276s 776us/step - loss: 0.6198 - acc: 0.6562 - val_loss: 0.6179 - val_acc: 0.6590\n",
            "Epoch 7/10\n",
            "355428/355428 [==============================] - 275s 774us/step - loss: 0.6192 - acc: 0.6572 - val_loss: 0.6182 - val_acc: 0.6582\n",
            "Epoch 8/10\n",
            "355428/355428 [==============================] - 274s 772us/step - loss: 0.6189 - acc: 0.6574 - val_loss: 0.6176 - val_acc: 0.6553\n",
            "Epoch 9/10\n",
            "355428/355428 [==============================] - 276s 777us/step - loss: 0.6183 - acc: 0.6578 - val_loss: 0.6170 - val_acc: 0.6573\n",
            "Epoch 10/10\n",
            "355428/355428 [==============================] - 278s 781us/step - loss: 0.6186 - acc: 0.6573 - val_loss: 0.6187 - val_acc: 0.6591\n",
            "0.1\n",
            "7000\n",
            "Train on 355428 samples, validate on 236952 samples\n",
            "Epoch 1/10\n",
            "355428/355428 [==============================] - 420s 1ms/step - loss: 0.6299 - acc: 0.6480 - val_loss: 0.6228 - val_acc: 0.6472\n",
            "Epoch 2/10\n",
            "355428/355428 [==============================] - 418s 1ms/step - loss: 0.6242 - acc: 0.6528 - val_loss: 0.6197 - val_acc: 0.6550\n",
            "Epoch 3/10\n",
            "355428/355428 [==============================] - 418s 1ms/step - loss: 0.6219 - acc: 0.6530 - val_loss: 0.6194 - val_acc: 0.6571\n",
            "Epoch 4/10\n",
            "355428/355428 [==============================] - 419s 1ms/step - loss: 0.6213 - acc: 0.6550 - val_loss: 0.6206 - val_acc: 0.6523\n",
            "Epoch 5/10\n",
            "355428/355428 [==============================] - 419s 1ms/step - loss: 0.6202 - acc: 0.6561 - val_loss: 0.6188 - val_acc: 0.6572\n",
            "Epoch 6/10\n",
            "355428/355428 [==============================] - 419s 1ms/step - loss: 0.6204 - acc: 0.6564 - val_loss: 0.6181 - val_acc: 0.6565\n",
            "Epoch 7/10\n",
            "355428/355428 [==============================] - 419s 1ms/step - loss: 0.6199 - acc: 0.6563 - val_loss: 0.6180 - val_acc: 0.6582\n",
            "Epoch 8/10\n",
            "355428/355428 [==============================] - 420s 1ms/step - loss: 0.6195 - acc: 0.6562 - val_loss: 0.6193 - val_acc: 0.6571\n",
            "Epoch 9/10\n",
            "355428/355428 [==============================] - 419s 1ms/step - loss: 0.6193 - acc: 0.6568 - val_loss: 0.6184 - val_acc: 0.6583\n",
            "Epoch 10/10\n",
            "355428/355428 [==============================] - 419s 1ms/step - loss: 0.6188 - acc: 0.6578 - val_loss: 0.6165 - val_acc: 0.6596\n",
            "0.30000000000000004\n",
            "4000\n",
            "Train on 355428 samples, validate on 236952 samples\n",
            "Epoch 1/10\n",
            "355428/355428 [==============================] - 167s 469us/step - loss: 0.6305 - acc: 0.6476 - val_loss: 0.6225 - val_acc: 0.6489\n",
            "Epoch 2/10\n",
            "355428/355428 [==============================] - 166s 466us/step - loss: 0.6263 - acc: 0.6509 - val_loss: 0.6208 - val_acc: 0.6532\n",
            "Epoch 3/10\n",
            "355428/355428 [==============================] - 165s 466us/step - loss: 0.6253 - acc: 0.6519 - val_loss: 0.6226 - val_acc: 0.6498\n",
            "Epoch 4/10\n",
            "355428/355428 [==============================] - 166s 467us/step - loss: 0.6243 - acc: 0.6532 - val_loss: 0.6196 - val_acc: 0.6558\n",
            "Epoch 5/10\n",
            "355428/355428 [==============================] - 166s 466us/step - loss: 0.6237 - acc: 0.6537 - val_loss: 0.6200 - val_acc: 0.6543\n",
            "Epoch 6/10\n",
            "355428/355428 [==============================] - 166s 466us/step - loss: 0.6234 - acc: 0.6540 - val_loss: 0.6193 - val_acc: 0.6566\n",
            "Epoch 7/10\n",
            "355428/355428 [==============================] - 165s 465us/step - loss: 0.6230 - acc: 0.6540 - val_loss: 0.6221 - val_acc: 0.6485\n",
            "Epoch 8/10\n",
            "355428/355428 [==============================] - 166s 466us/step - loss: 0.6224 - acc: 0.6543 - val_loss: 0.6199 - val_acc: 0.6548\n",
            "Epoch 9/10\n",
            "355428/355428 [==============================] - 165s 465us/step - loss: 0.6221 - acc: 0.6553 - val_loss: 0.6185 - val_acc: 0.6580\n",
            "Epoch 10/10\n",
            "355428/355428 [==============================] - 166s 466us/step - loss: 0.6224 - acc: 0.6550 - val_loss: 0.6215 - val_acc: 0.6555\n",
            "0.30000000000000004\n",
            "5500\n",
            "Train on 355428 samples, validate on 236952 samples\n",
            "Epoch 1/10\n",
            "355428/355428 [==============================] - 281s 789us/step - loss: 0.6314 - acc: 0.6477 - val_loss: 0.6256 - val_acc: 0.6505\n",
            "Epoch 2/10\n",
            "355428/355428 [==============================] - 279s 784us/step - loss: 0.6272 - acc: 0.6501 - val_loss: 0.6218 - val_acc: 0.6482\n",
            "Epoch 3/10\n",
            "355428/355428 [==============================] - 279s 784us/step - loss: 0.6262 - acc: 0.6515 - val_loss: 0.6230 - val_acc: 0.6479\n",
            "Epoch 4/10\n",
            "355428/355428 [==============================] - 279s 784us/step - loss: 0.6260 - acc: 0.6513 - val_loss: 0.6211 - val_acc: 0.6509\n",
            "Epoch 5/10\n",
            "355428/355428 [==============================] - 279s 785us/step - loss: 0.6254 - acc: 0.6519 - val_loss: 0.6210 - val_acc: 0.6542\n",
            "Epoch 6/10\n",
            "355428/355428 [==============================] - 279s 786us/step - loss: 0.6251 - acc: 0.6521 - val_loss: 0.6209 - val_acc: 0.6481\n",
            "Epoch 7/10\n",
            "355428/355428 [==============================] - 279s 784us/step - loss: 0.6238 - acc: 0.6532 - val_loss: 0.6189 - val_acc: 0.6580\n",
            "Epoch 8/10\n",
            "355428/355428 [==============================] - 278s 784us/step - loss: 0.6235 - acc: 0.6541 - val_loss: 0.6240 - val_acc: 0.6440\n",
            "Epoch 9/10\n",
            "355428/355428 [==============================] - 278s 783us/step - loss: 0.6234 - acc: 0.6539 - val_loss: 0.6246 - val_acc: 0.6438\n",
            "Epoch 10/10\n",
            "355428/355428 [==============================] - 278s 783us/step - loss: 0.6235 - acc: 0.6546 - val_loss: 0.6195 - val_acc: 0.6541\n",
            "0.30000000000000004\n",
            "7000\n",
            "Train on 355428 samples, validate on 236952 samples\n",
            "Epoch 1/10\n",
            "355428/355428 [==============================] - 422s 1ms/step - loss: 0.6343 - acc: 0.6464 - val_loss: 0.6309 - val_acc: 0.6425\n",
            "Epoch 2/10\n",
            "355428/355428 [==============================] - 419s 1ms/step - loss: 0.6284 - acc: 0.6497 - val_loss: 0.6226 - val_acc: 0.6468\n",
            "Epoch 3/10\n",
            "355428/355428 [==============================] - 419s 1ms/step - loss: 0.6271 - acc: 0.6510 - val_loss: 0.6289 - val_acc: 0.6459\n",
            "Epoch 4/10\n",
            "355428/355428 [==============================] - 419s 1ms/step - loss: 0.6262 - acc: 0.6510 - val_loss: 0.6252 - val_acc: 0.6461\n",
            "Epoch 5/10\n",
            "355428/355428 [==============================] - 419s 1ms/step - loss: 0.6251 - acc: 0.6521 - val_loss: 0.6237 - val_acc: 0.6538\n",
            "Epoch 6/10\n",
            "355428/355428 [==============================] - 419s 1ms/step - loss: 0.6246 - acc: 0.6524 - val_loss: 0.6279 - val_acc: 0.6481\n",
            "Epoch 7/10\n",
            "355428/355428 [==============================] - 419s 1ms/step - loss: 0.6240 - acc: 0.6533 - val_loss: 0.6242 - val_acc: 0.6530\n",
            "Epoch 8/10\n",
            "355428/355428 [==============================] - 419s 1ms/step - loss: 0.6229 - acc: 0.6537 - val_loss: 0.6186 - val_acc: 0.6569\n",
            "Epoch 9/10\n",
            "355428/355428 [==============================] - 418s 1ms/step - loss: 0.6237 - acc: 0.6536 - val_loss: 0.6216 - val_acc: 0.6521\n",
            "Epoch 10/10\n",
            "355428/355428 [==============================] - 419s 1ms/step - loss: 0.6230 - acc: 0.6544 - val_loss: 0.6219 - val_acc: 0.6500\n",
            "WARNING:tensorflow:Large dropout rate: 0.5 (>0.5). In TensorFlow 2.x, dropout() uses dropout rate instead of keep_prob. Please ensure that this is intended.\n",
            "WARNING:tensorflow:Large dropout rate: 0.5 (>0.5). In TensorFlow 2.x, dropout() uses dropout rate instead of keep_prob. Please ensure that this is intended.\n",
            "0.5000000000000001\n",
            "4000\n",
            "Train on 355428 samples, validate on 236952 samples\n",
            "Epoch 1/10\n",
            "355428/355428 [==============================] - 167s 469us/step - loss: 0.6348 - acc: 0.6446 - val_loss: 0.6241 - val_acc: 0.6507\n",
            "Epoch 2/10\n",
            "355428/355428 [==============================] - 165s 464us/step - loss: 0.6289 - acc: 0.6485 - val_loss: 0.6245 - val_acc: 0.6488\n",
            "Epoch 3/10\n",
            "355428/355428 [==============================] - 165s 464us/step - loss: 0.6275 - acc: 0.6494 - val_loss: 0.6209 - val_acc: 0.6525\n",
            "Epoch 4/10\n",
            "355428/355428 [==============================] - 165s 464us/step - loss: 0.6269 - acc: 0.6503 - val_loss: 0.6196 - val_acc: 0.6567\n",
            "Epoch 5/10\n",
            "355428/355428 [==============================] - 165s 464us/step - loss: 0.6258 - acc: 0.6511 - val_loss: 0.6193 - val_acc: 0.6565\n",
            "Epoch 6/10\n",
            "355428/355428 [==============================] - 165s 464us/step - loss: 0.6259 - acc: 0.6525 - val_loss: 0.6202 - val_acc: 0.6561\n",
            "Epoch 7/10\n",
            "355428/355428 [==============================] - 165s 464us/step - loss: 0.6258 - acc: 0.6521 - val_loss: 0.6187 - val_acc: 0.6578\n",
            "Epoch 8/10\n",
            "355428/355428 [==============================] - 165s 464us/step - loss: 0.6251 - acc: 0.6529 - val_loss: 0.6194 - val_acc: 0.6578\n",
            "Epoch 9/10\n",
            "355428/355428 [==============================] - 165s 465us/step - loss: 0.6254 - acc: 0.6529 - val_loss: 0.6195 - val_acc: 0.6555\n",
            "Epoch 10/10\n",
            "355428/355428 [==============================] - 166s 466us/step - loss: 0.6251 - acc: 0.6527 - val_loss: 0.6219 - val_acc: 0.6472\n",
            "WARNING:tensorflow:Large dropout rate: 0.5 (>0.5). In TensorFlow 2.x, dropout() uses dropout rate instead of keep_prob. Please ensure that this is intended.\n",
            "WARNING:tensorflow:Large dropout rate: 0.5 (>0.5). In TensorFlow 2.x, dropout() uses dropout rate instead of keep_prob. Please ensure that this is intended.\n",
            "0.5000000000000001\n",
            "5500\n",
            "Train on 355428 samples, validate on 236952 samples\n",
            "Epoch 1/10\n",
            "355428/355428 [==============================] - 280s 788us/step - loss: 0.6366 - acc: 0.6440 - val_loss: 0.6268 - val_acc: 0.6434\n",
            "Epoch 2/10\n",
            "355428/355428 [==============================] - 278s 781us/step - loss: 0.6306 - acc: 0.6472 - val_loss: 0.6221 - val_acc: 0.6535\n",
            "Epoch 3/10\n",
            "355428/355428 [==============================] - 277s 779us/step - loss: 0.6297 - acc: 0.6489 - val_loss: 0.6242 - val_acc: 0.6461\n",
            "Epoch 4/10\n",
            "355428/355428 [==============================] - 277s 780us/step - loss: 0.6281 - acc: 0.6493 - val_loss: 0.6227 - val_acc: 0.6508\n",
            "Epoch 5/10\n",
            "355428/355428 [==============================] - 279s 784us/step - loss: 0.6272 - acc: 0.6506 - val_loss: 0.6218 - val_acc: 0.6557\n",
            "Epoch 6/10\n",
            "355428/355428 [==============================] - 278s 783us/step - loss: 0.6271 - acc: 0.6509 - val_loss: 0.6220 - val_acc: 0.6528\n",
            "Epoch 7/10\n",
            "355428/355428 [==============================] - 279s 784us/step - loss: 0.6267 - acc: 0.6512 - val_loss: 0.6211 - val_acc: 0.6526\n",
            "Epoch 8/10\n",
            "355428/355428 [==============================] - 278s 783us/step - loss: 0.6268 - acc: 0.6523 - val_loss: 0.6232 - val_acc: 0.6492\n",
            "Epoch 9/10\n",
            "355428/355428 [==============================] - 278s 783us/step - loss: 0.6266 - acc: 0.6514 - val_loss: 0.6225 - val_acc: 0.6560\n",
            "Epoch 10/10\n",
            "355428/355428 [==============================] - 278s 782us/step - loss: 0.6257 - acc: 0.6513 - val_loss: 0.6192 - val_acc: 0.6548\n",
            "WARNING:tensorflow:Large dropout rate: 0.5 (>0.5). In TensorFlow 2.x, dropout() uses dropout rate instead of keep_prob. Please ensure that this is intended.\n",
            "0.5000000000000001\n",
            "7000\n",
            "Train on 355428 samples, validate on 236952 samples\n",
            "Epoch 1/10\n",
            "355428/355428 [==============================] - 417s 1ms/step - loss: 0.6398 - acc: 0.6424 - val_loss: 0.6254 - val_acc: 0.6439\n",
            "Epoch 2/10\n",
            "355428/355428 [==============================] - 412s 1ms/step - loss: 0.6347 - acc: 0.6460 - val_loss: 0.6236 - val_acc: 0.6530\n",
            "Epoch 3/10\n",
            "355428/355428 [==============================] - 412s 1ms/step - loss: 0.6335 - acc: 0.6468 - val_loss: 0.6236 - val_acc: 0.6490\n",
            "Epoch 4/10\n",
            " 31648/355428 [=>............................] - ETA: 5:59 - loss: 0.6349 - acc: 0.6452"
          ],
          "name": "stdout"
        },
        {
          "output_type": "error",
          "ename": "KeyboardInterrupt",
          "evalue": "ignored",
          "traceback": [
            "\u001b[0;31m---------------------------------------------------------------------------\u001b[0m",
            "\u001b[0;31mKeyboardInterrupt\u001b[0m                         Traceback (most recent call last)",
            "\u001b[0;32m<ipython-input-14-a608ab355789>\u001b[0m in \u001b[0;36m<module>\u001b[0;34m()\u001b[0m\n\u001b[1;32m     20\u001b[0m     hist_3 = model_3.fit(X_train, y_train,\n\u001b[1;32m     21\u001b[0m               \u001b[0mbatch_size\u001b[0m\u001b[0;34m=\u001b[0m\u001b[0;36m32\u001b[0m\u001b[0;34m,\u001b[0m \u001b[0mepochs\u001b[0m\u001b[0;34m=\u001b[0m\u001b[0;36m10\u001b[0m\u001b[0;34m,\u001b[0m\u001b[0;34m\u001b[0m\u001b[0;34m\u001b[0m\u001b[0m\n\u001b[0;32m---> 22\u001b[0;31m               validation_data=(X_test, y_test))\n\u001b[0m\u001b[1;32m     23\u001b[0m     \u001b[0mmodels\u001b[0m\u001b[0;34m.\u001b[0m\u001b[0mappend\u001b[0m\u001b[0;34m(\u001b[0m\u001b[0mmodel_3\u001b[0m\u001b[0;34m)\u001b[0m\u001b[0;34m\u001b[0m\u001b[0;34m\u001b[0m\u001b[0m\n",
            "\u001b[0;32m/usr/local/lib/python3.6/dist-packages/keras/engine/training.py\u001b[0m in \u001b[0;36mfit\u001b[0;34m(self, x, y, batch_size, epochs, verbose, callbacks, validation_split, validation_data, shuffle, class_weight, sample_weight, initial_epoch, steps_per_epoch, validation_steps, validation_freq, max_queue_size, workers, use_multiprocessing, **kwargs)\u001b[0m\n\u001b[1;32m   1176\u001b[0m                                         \u001b[0msteps_per_epoch\u001b[0m\u001b[0;34m=\u001b[0m\u001b[0msteps_per_epoch\u001b[0m\u001b[0;34m,\u001b[0m\u001b[0;34m\u001b[0m\u001b[0;34m\u001b[0m\u001b[0m\n\u001b[1;32m   1177\u001b[0m                                         \u001b[0mvalidation_steps\u001b[0m\u001b[0;34m=\u001b[0m\u001b[0mvalidation_steps\u001b[0m\u001b[0;34m,\u001b[0m\u001b[0;34m\u001b[0m\u001b[0;34m\u001b[0m\u001b[0m\n\u001b[0;32m-> 1178\u001b[0;31m                                         validation_freq=validation_freq)\n\u001b[0m\u001b[1;32m   1179\u001b[0m \u001b[0;34m\u001b[0m\u001b[0m\n\u001b[1;32m   1180\u001b[0m     def evaluate(self,\n",
            "\u001b[0;32m/usr/local/lib/python3.6/dist-packages/keras/engine/training_arrays.py\u001b[0m in \u001b[0;36mfit_loop\u001b[0;34m(model, fit_function, fit_inputs, out_labels, batch_size, epochs, verbose, callbacks, val_function, val_inputs, shuffle, callback_metrics, initial_epoch, steps_per_epoch, validation_steps, validation_freq)\u001b[0m\n\u001b[1;32m    202\u001b[0m                     \u001b[0mins_batch\u001b[0m\u001b[0;34m[\u001b[0m\u001b[0mi\u001b[0m\u001b[0;34m]\u001b[0m \u001b[0;34m=\u001b[0m \u001b[0mins_batch\u001b[0m\u001b[0;34m[\u001b[0m\u001b[0mi\u001b[0m\u001b[0;34m]\u001b[0m\u001b[0;34m.\u001b[0m\u001b[0mtoarray\u001b[0m\u001b[0;34m(\u001b[0m\u001b[0;34m)\u001b[0m\u001b[0;34m\u001b[0m\u001b[0;34m\u001b[0m\u001b[0m\n\u001b[1;32m    203\u001b[0m \u001b[0;34m\u001b[0m\u001b[0m\n\u001b[0;32m--> 204\u001b[0;31m                 \u001b[0mouts\u001b[0m \u001b[0;34m=\u001b[0m \u001b[0mfit_function\u001b[0m\u001b[0;34m(\u001b[0m\u001b[0mins_batch\u001b[0m\u001b[0;34m)\u001b[0m\u001b[0;34m\u001b[0m\u001b[0;34m\u001b[0m\u001b[0m\n\u001b[0m\u001b[1;32m    205\u001b[0m                 \u001b[0mouts\u001b[0m \u001b[0;34m=\u001b[0m \u001b[0mto_list\u001b[0m\u001b[0;34m(\u001b[0m\u001b[0mouts\u001b[0m\u001b[0;34m)\u001b[0m\u001b[0;34m\u001b[0m\u001b[0;34m\u001b[0m\u001b[0m\n\u001b[1;32m    206\u001b[0m                 \u001b[0;32mfor\u001b[0m \u001b[0ml\u001b[0m\u001b[0;34m,\u001b[0m \u001b[0mo\u001b[0m \u001b[0;32min\u001b[0m \u001b[0mzip\u001b[0m\u001b[0;34m(\u001b[0m\u001b[0mout_labels\u001b[0m\u001b[0;34m,\u001b[0m \u001b[0mouts\u001b[0m\u001b[0;34m)\u001b[0m\u001b[0;34m:\u001b[0m\u001b[0;34m\u001b[0m\u001b[0;34m\u001b[0m\u001b[0m\n",
            "\u001b[0;32m/usr/local/lib/python3.6/dist-packages/keras/backend/tensorflow_backend.py\u001b[0m in \u001b[0;36m__call__\u001b[0;34m(self, inputs)\u001b[0m\n\u001b[1;32m   2977\u001b[0m                     \u001b[0;32mreturn\u001b[0m \u001b[0mself\u001b[0m\u001b[0;34m.\u001b[0m\u001b[0m_legacy_call\u001b[0m\u001b[0;34m(\u001b[0m\u001b[0minputs\u001b[0m\u001b[0;34m)\u001b[0m\u001b[0;34m\u001b[0m\u001b[0;34m\u001b[0m\u001b[0m\n\u001b[1;32m   2978\u001b[0m \u001b[0;34m\u001b[0m\u001b[0m\n\u001b[0;32m-> 2979\u001b[0;31m             \u001b[0;32mreturn\u001b[0m \u001b[0mself\u001b[0m\u001b[0;34m.\u001b[0m\u001b[0m_call\u001b[0m\u001b[0;34m(\u001b[0m\u001b[0minputs\u001b[0m\u001b[0;34m)\u001b[0m\u001b[0;34m\u001b[0m\u001b[0;34m\u001b[0m\u001b[0m\n\u001b[0m\u001b[1;32m   2980\u001b[0m         \u001b[0;32melse\u001b[0m\u001b[0;34m:\u001b[0m\u001b[0;34m\u001b[0m\u001b[0;34m\u001b[0m\u001b[0m\n\u001b[1;32m   2981\u001b[0m             \u001b[0;32mif\u001b[0m \u001b[0mpy_any\u001b[0m\u001b[0;34m(\u001b[0m\u001b[0mis_tensor\u001b[0m\u001b[0;34m(\u001b[0m\u001b[0mx\u001b[0m\u001b[0;34m)\u001b[0m \u001b[0;32mfor\u001b[0m \u001b[0mx\u001b[0m \u001b[0;32min\u001b[0m \u001b[0minputs\u001b[0m\u001b[0;34m)\u001b[0m\u001b[0;34m:\u001b[0m\u001b[0;34m\u001b[0m\u001b[0;34m\u001b[0m\u001b[0m\n",
            "\u001b[0;32m/usr/local/lib/python3.6/dist-packages/keras/backend/tensorflow_backend.py\u001b[0m in \u001b[0;36m_call\u001b[0;34m(self, inputs)\u001b[0m\n\u001b[1;32m   2935\u001b[0m             \u001b[0mfetched\u001b[0m \u001b[0;34m=\u001b[0m \u001b[0mself\u001b[0m\u001b[0;34m.\u001b[0m\u001b[0m_callable_fn\u001b[0m\u001b[0;34m(\u001b[0m\u001b[0;34m*\u001b[0m\u001b[0marray_vals\u001b[0m\u001b[0;34m,\u001b[0m \u001b[0mrun_metadata\u001b[0m\u001b[0;34m=\u001b[0m\u001b[0mself\u001b[0m\u001b[0;34m.\u001b[0m\u001b[0mrun_metadata\u001b[0m\u001b[0;34m)\u001b[0m\u001b[0;34m\u001b[0m\u001b[0;34m\u001b[0m\u001b[0m\n\u001b[1;32m   2936\u001b[0m         \u001b[0;32melse\u001b[0m\u001b[0;34m:\u001b[0m\u001b[0;34m\u001b[0m\u001b[0;34m\u001b[0m\u001b[0m\n\u001b[0;32m-> 2937\u001b[0;31m             \u001b[0mfetched\u001b[0m \u001b[0;34m=\u001b[0m \u001b[0mself\u001b[0m\u001b[0;34m.\u001b[0m\u001b[0m_callable_fn\u001b[0m\u001b[0;34m(\u001b[0m\u001b[0;34m*\u001b[0m\u001b[0marray_vals\u001b[0m\u001b[0;34m)\u001b[0m\u001b[0;34m\u001b[0m\u001b[0;34m\u001b[0m\u001b[0m\n\u001b[0m\u001b[1;32m   2938\u001b[0m         \u001b[0;32mreturn\u001b[0m \u001b[0mfetched\u001b[0m\u001b[0;34m[\u001b[0m\u001b[0;34m:\u001b[0m\u001b[0mlen\u001b[0m\u001b[0;34m(\u001b[0m\u001b[0mself\u001b[0m\u001b[0;34m.\u001b[0m\u001b[0moutputs\u001b[0m\u001b[0;34m)\u001b[0m\u001b[0;34m]\u001b[0m\u001b[0;34m\u001b[0m\u001b[0;34m\u001b[0m\u001b[0m\n\u001b[1;32m   2939\u001b[0m \u001b[0;34m\u001b[0m\u001b[0m\n",
            "\u001b[0;32m/usr/local/lib/python3.6/dist-packages/tensorflow_core/python/client/session.py\u001b[0m in \u001b[0;36m__call__\u001b[0;34m(self, *args, **kwargs)\u001b[0m\n\u001b[1;32m   1470\u001b[0m         ret = tf_session.TF_SessionRunCallable(self._session._session,\n\u001b[1;32m   1471\u001b[0m                                                \u001b[0mself\u001b[0m\u001b[0;34m.\u001b[0m\u001b[0m_handle\u001b[0m\u001b[0;34m,\u001b[0m \u001b[0margs\u001b[0m\u001b[0;34m,\u001b[0m\u001b[0;34m\u001b[0m\u001b[0;34m\u001b[0m\u001b[0m\n\u001b[0;32m-> 1472\u001b[0;31m                                                run_metadata_ptr)\n\u001b[0m\u001b[1;32m   1473\u001b[0m         \u001b[0;32mif\u001b[0m \u001b[0mrun_metadata\u001b[0m\u001b[0;34m:\u001b[0m\u001b[0;34m\u001b[0m\u001b[0;34m\u001b[0m\u001b[0m\n\u001b[1;32m   1474\u001b[0m           \u001b[0mproto_data\u001b[0m \u001b[0;34m=\u001b[0m \u001b[0mtf_session\u001b[0m\u001b[0;34m.\u001b[0m\u001b[0mTF_GetBuffer\u001b[0m\u001b[0;34m(\u001b[0m\u001b[0mrun_metadata_ptr\u001b[0m\u001b[0;34m)\u001b[0m\u001b[0;34m\u001b[0m\u001b[0;34m\u001b[0m\u001b[0m\n",
            "\u001b[0;31mKeyboardInterrupt\u001b[0m: "
          ]
        }
      ]
    },
    {
      "cell_type": "code",
      "metadata": {
        "id": "IK3sjLNRs5G5",
        "colab_type": "code",
        "outputId": "051a8ea2-2227-4672-ee14-0205e6ea9c4d",
        "colab": {
          "base_uri": "https://localhost:8080/",
          "height": 34
        }
      },
      "source": [
        "#conclusion: 0.5 is way too high, 0.3 not  rly good eiher.."
      ],
      "execution_count": 0,
      "outputs": [
        {
          "output_type": "execute_result",
          "data": {
            "text/plain": [
              "array([0.1, 0.2, 0.3, 0.4])"
            ]
          },
          "metadata": {
            "tags": []
          },
          "execution_count": 7
        }
      ]
    },
    {
      "cell_type": "code",
      "metadata": {
        "id": "MPS0WW4P6dWQ",
        "colab_type": "code",
        "outputId": "5a38d4a6-f531-4689-8351-d9f840e261f2",
        "colab": {
          "base_uri": "https://localhost:8080/",
          "height": 735
        }
      },
      "source": [
        "from keras import regularizers\n",
        "\n",
        "num_hidden_units = 7000\n",
        "d1 =  0.2\n",
        "d2 = 0.1\n",
        "# models = []\n",
        "model_3 = Sequential([\n",
        "    Dense(num_hidden_units, activation='relu',input_shape=(33,)),\n",
        "    Dropout(d1),\n",
        "    Dense(num_hidden_units, activation='relu'),\n",
        "    Dropout(d2),\n",
        "    Dense(num_hidden_units, activation='relu'),\n",
        "    Dense(1, activation='sigmoid'),\n",
        "])\n",
        "print(d1)\n",
        "print(num_hidden_units)\n",
        "model_3.compile(optimizer='adam',\n",
        "              loss='binary_crossentropy',\n",
        "              metrics=['accuracy'])\n",
        "hist_3 = model_3.fit(X_train, y_train,\n",
        "          batch_size=32, epochs=10,\n",
        "          validation_data=(X_test, y_test))\n",
        "models.append(model_3)"
      ],
      "execution_count": 0,
      "outputs": [
        {
          "output_type": "stream",
          "text": [
            "0.2\n",
            "7000\n",
            "Train on 473904 samples, validate on 118476 samples\n",
            "Epoch 1/10\n",
            "473904/473904 [==============================] - 537s 1ms/step - loss: 0.6284 - acc: 0.6494 - val_loss: 0.6218 - val_acc: 0.6549\n",
            "Epoch 2/10\n",
            "473904/473904 [==============================] - 534s 1ms/step - loss: 0.6236 - acc: 0.6533 - val_loss: 0.6200 - val_acc: 0.6542\n",
            "Epoch 3/10\n",
            "473904/473904 [==============================] - 534s 1ms/step - loss: 0.6219 - acc: 0.6545 - val_loss: 0.6230 - val_acc: 0.6528\n",
            "Epoch 4/10\n",
            "473904/473904 [==============================] - 535s 1ms/step - loss: 0.6213 - acc: 0.6549 - val_loss: 0.6187 - val_acc: 0.6581\n",
            "Epoch 5/10\n",
            "473904/473904 [==============================] - 534s 1ms/step - loss: 0.6208 - acc: 0.6559 - val_loss: 0.6215 - val_acc: 0.6495\n",
            "Epoch 6/10\n",
            "473904/473904 [==============================] - 535s 1ms/step - loss: 0.6200 - acc: 0.6556 - val_loss: 0.6211 - val_acc: 0.6563\n",
            "Epoch 7/10\n",
            "473904/473904 [==============================] - 534s 1ms/step - loss: 0.6197 - acc: 0.6564 - val_loss: 0.6185 - val_acc: 0.6581\n",
            "Epoch 8/10\n",
            "473904/473904 [==============================] - 534s 1ms/step - loss: 0.6199 - acc: 0.6570 - val_loss: 0.6172 - val_acc: 0.6568\n",
            "Epoch 9/10\n",
            "267680/473904 [===============>..............] - ETA: 3:48 - loss: 0.6193 - acc: 0.6571"
          ],
          "name": "stdout"
        },
        {
          "output_type": "error",
          "ename": "KeyboardInterrupt",
          "evalue": "ignored",
          "traceback": [
            "\u001b[0;31m---------------------------------------------------------------------------\u001b[0m",
            "\u001b[0;31mKeyboardInterrupt\u001b[0m                         Traceback (most recent call last)",
            "\u001b[0;32m<ipython-input-16-c3ff3ed1eae7>\u001b[0m in \u001b[0;36m<module>\u001b[0;34m()\u001b[0m\n\u001b[1;32m     20\u001b[0m hist_3 = model_3.fit(X_train, y_train,\n\u001b[1;32m     21\u001b[0m           \u001b[0mbatch_size\u001b[0m\u001b[0;34m=\u001b[0m\u001b[0;36m32\u001b[0m\u001b[0;34m,\u001b[0m \u001b[0mepochs\u001b[0m\u001b[0;34m=\u001b[0m\u001b[0;36m10\u001b[0m\u001b[0;34m,\u001b[0m\u001b[0;34m\u001b[0m\u001b[0;34m\u001b[0m\u001b[0m\n\u001b[0;32m---> 22\u001b[0;31m           validation_data=(X_test, y_test))\n\u001b[0m\u001b[1;32m     23\u001b[0m \u001b[0mmodels\u001b[0m\u001b[0;34m.\u001b[0m\u001b[0mappend\u001b[0m\u001b[0;34m(\u001b[0m\u001b[0mmodel_3\u001b[0m\u001b[0;34m)\u001b[0m\u001b[0;34m\u001b[0m\u001b[0;34m\u001b[0m\u001b[0m\n",
            "\u001b[0;32m/usr/local/lib/python3.6/dist-packages/keras/engine/training.py\u001b[0m in \u001b[0;36mfit\u001b[0;34m(self, x, y, batch_size, epochs, verbose, callbacks, validation_split, validation_data, shuffle, class_weight, sample_weight, initial_epoch, steps_per_epoch, validation_steps, validation_freq, max_queue_size, workers, use_multiprocessing, **kwargs)\u001b[0m\n\u001b[1;32m   1176\u001b[0m                                         \u001b[0msteps_per_epoch\u001b[0m\u001b[0;34m=\u001b[0m\u001b[0msteps_per_epoch\u001b[0m\u001b[0;34m,\u001b[0m\u001b[0;34m\u001b[0m\u001b[0;34m\u001b[0m\u001b[0m\n\u001b[1;32m   1177\u001b[0m                                         \u001b[0mvalidation_steps\u001b[0m\u001b[0;34m=\u001b[0m\u001b[0mvalidation_steps\u001b[0m\u001b[0;34m,\u001b[0m\u001b[0;34m\u001b[0m\u001b[0;34m\u001b[0m\u001b[0m\n\u001b[0;32m-> 1178\u001b[0;31m                                         validation_freq=validation_freq)\n\u001b[0m\u001b[1;32m   1179\u001b[0m \u001b[0;34m\u001b[0m\u001b[0m\n\u001b[1;32m   1180\u001b[0m     def evaluate(self,\n",
            "\u001b[0;32m/usr/local/lib/python3.6/dist-packages/keras/engine/training_arrays.py\u001b[0m in \u001b[0;36mfit_loop\u001b[0;34m(model, fit_function, fit_inputs, out_labels, batch_size, epochs, verbose, callbacks, val_function, val_inputs, shuffle, callback_metrics, initial_epoch, steps_per_epoch, validation_steps, validation_freq)\u001b[0m\n\u001b[1;32m    202\u001b[0m                     \u001b[0mins_batch\u001b[0m\u001b[0;34m[\u001b[0m\u001b[0mi\u001b[0m\u001b[0;34m]\u001b[0m \u001b[0;34m=\u001b[0m \u001b[0mins_batch\u001b[0m\u001b[0;34m[\u001b[0m\u001b[0mi\u001b[0m\u001b[0;34m]\u001b[0m\u001b[0;34m.\u001b[0m\u001b[0mtoarray\u001b[0m\u001b[0;34m(\u001b[0m\u001b[0;34m)\u001b[0m\u001b[0;34m\u001b[0m\u001b[0;34m\u001b[0m\u001b[0m\n\u001b[1;32m    203\u001b[0m \u001b[0;34m\u001b[0m\u001b[0m\n\u001b[0;32m--> 204\u001b[0;31m                 \u001b[0mouts\u001b[0m \u001b[0;34m=\u001b[0m \u001b[0mfit_function\u001b[0m\u001b[0;34m(\u001b[0m\u001b[0mins_batch\u001b[0m\u001b[0;34m)\u001b[0m\u001b[0;34m\u001b[0m\u001b[0;34m\u001b[0m\u001b[0m\n\u001b[0m\u001b[1;32m    205\u001b[0m                 \u001b[0mouts\u001b[0m \u001b[0;34m=\u001b[0m \u001b[0mto_list\u001b[0m\u001b[0;34m(\u001b[0m\u001b[0mouts\u001b[0m\u001b[0;34m)\u001b[0m\u001b[0;34m\u001b[0m\u001b[0;34m\u001b[0m\u001b[0m\n\u001b[1;32m    206\u001b[0m                 \u001b[0;32mfor\u001b[0m \u001b[0ml\u001b[0m\u001b[0;34m,\u001b[0m \u001b[0mo\u001b[0m \u001b[0;32min\u001b[0m \u001b[0mzip\u001b[0m\u001b[0;34m(\u001b[0m\u001b[0mout_labels\u001b[0m\u001b[0;34m,\u001b[0m \u001b[0mouts\u001b[0m\u001b[0;34m)\u001b[0m\u001b[0;34m:\u001b[0m\u001b[0;34m\u001b[0m\u001b[0;34m\u001b[0m\u001b[0m\n",
            "\u001b[0;32m/usr/local/lib/python3.6/dist-packages/keras/backend/tensorflow_backend.py\u001b[0m in \u001b[0;36m__call__\u001b[0;34m(self, inputs)\u001b[0m\n\u001b[1;32m   2977\u001b[0m                     \u001b[0;32mreturn\u001b[0m \u001b[0mself\u001b[0m\u001b[0;34m.\u001b[0m\u001b[0m_legacy_call\u001b[0m\u001b[0;34m(\u001b[0m\u001b[0minputs\u001b[0m\u001b[0;34m)\u001b[0m\u001b[0;34m\u001b[0m\u001b[0;34m\u001b[0m\u001b[0m\n\u001b[1;32m   2978\u001b[0m \u001b[0;34m\u001b[0m\u001b[0m\n\u001b[0;32m-> 2979\u001b[0;31m             \u001b[0;32mreturn\u001b[0m \u001b[0mself\u001b[0m\u001b[0;34m.\u001b[0m\u001b[0m_call\u001b[0m\u001b[0;34m(\u001b[0m\u001b[0minputs\u001b[0m\u001b[0;34m)\u001b[0m\u001b[0;34m\u001b[0m\u001b[0;34m\u001b[0m\u001b[0m\n\u001b[0m\u001b[1;32m   2980\u001b[0m         \u001b[0;32melse\u001b[0m\u001b[0;34m:\u001b[0m\u001b[0;34m\u001b[0m\u001b[0;34m\u001b[0m\u001b[0m\n\u001b[1;32m   2981\u001b[0m             \u001b[0;32mif\u001b[0m \u001b[0mpy_any\u001b[0m\u001b[0;34m(\u001b[0m\u001b[0mis_tensor\u001b[0m\u001b[0;34m(\u001b[0m\u001b[0mx\u001b[0m\u001b[0;34m)\u001b[0m \u001b[0;32mfor\u001b[0m \u001b[0mx\u001b[0m \u001b[0;32min\u001b[0m \u001b[0minputs\u001b[0m\u001b[0;34m)\u001b[0m\u001b[0;34m:\u001b[0m\u001b[0;34m\u001b[0m\u001b[0;34m\u001b[0m\u001b[0m\n",
            "\u001b[0;32m/usr/local/lib/python3.6/dist-packages/keras/backend/tensorflow_backend.py\u001b[0m in \u001b[0;36m_call\u001b[0;34m(self, inputs)\u001b[0m\n\u001b[1;32m   2935\u001b[0m             \u001b[0mfetched\u001b[0m \u001b[0;34m=\u001b[0m \u001b[0mself\u001b[0m\u001b[0;34m.\u001b[0m\u001b[0m_callable_fn\u001b[0m\u001b[0;34m(\u001b[0m\u001b[0;34m*\u001b[0m\u001b[0marray_vals\u001b[0m\u001b[0;34m,\u001b[0m \u001b[0mrun_metadata\u001b[0m\u001b[0;34m=\u001b[0m\u001b[0mself\u001b[0m\u001b[0;34m.\u001b[0m\u001b[0mrun_metadata\u001b[0m\u001b[0;34m)\u001b[0m\u001b[0;34m\u001b[0m\u001b[0;34m\u001b[0m\u001b[0m\n\u001b[1;32m   2936\u001b[0m         \u001b[0;32melse\u001b[0m\u001b[0;34m:\u001b[0m\u001b[0;34m\u001b[0m\u001b[0;34m\u001b[0m\u001b[0m\n\u001b[0;32m-> 2937\u001b[0;31m             \u001b[0mfetched\u001b[0m \u001b[0;34m=\u001b[0m \u001b[0mself\u001b[0m\u001b[0;34m.\u001b[0m\u001b[0m_callable_fn\u001b[0m\u001b[0;34m(\u001b[0m\u001b[0;34m*\u001b[0m\u001b[0marray_vals\u001b[0m\u001b[0;34m)\u001b[0m\u001b[0;34m\u001b[0m\u001b[0;34m\u001b[0m\u001b[0m\n\u001b[0m\u001b[1;32m   2938\u001b[0m         \u001b[0;32mreturn\u001b[0m \u001b[0mfetched\u001b[0m\u001b[0;34m[\u001b[0m\u001b[0;34m:\u001b[0m\u001b[0mlen\u001b[0m\u001b[0;34m(\u001b[0m\u001b[0mself\u001b[0m\u001b[0;34m.\u001b[0m\u001b[0moutputs\u001b[0m\u001b[0;34m)\u001b[0m\u001b[0;34m]\u001b[0m\u001b[0;34m\u001b[0m\u001b[0;34m\u001b[0m\u001b[0m\n\u001b[1;32m   2939\u001b[0m \u001b[0;34m\u001b[0m\u001b[0m\n",
            "\u001b[0;32m/usr/local/lib/python3.6/dist-packages/tensorflow_core/python/client/session.py\u001b[0m in \u001b[0;36m__call__\u001b[0;34m(self, *args, **kwargs)\u001b[0m\n\u001b[1;32m   1470\u001b[0m         ret = tf_session.TF_SessionRunCallable(self._session._session,\n\u001b[1;32m   1471\u001b[0m                                                \u001b[0mself\u001b[0m\u001b[0;34m.\u001b[0m\u001b[0m_handle\u001b[0m\u001b[0;34m,\u001b[0m \u001b[0margs\u001b[0m\u001b[0;34m,\u001b[0m\u001b[0;34m\u001b[0m\u001b[0;34m\u001b[0m\u001b[0m\n\u001b[0;32m-> 1472\u001b[0;31m                                                run_metadata_ptr)\n\u001b[0m\u001b[1;32m   1473\u001b[0m         \u001b[0;32mif\u001b[0m \u001b[0mrun_metadata\u001b[0m\u001b[0;34m:\u001b[0m\u001b[0;34m\u001b[0m\u001b[0;34m\u001b[0m\u001b[0m\n\u001b[1;32m   1474\u001b[0m           \u001b[0mproto_data\u001b[0m \u001b[0;34m=\u001b[0m \u001b[0mtf_session\u001b[0m\u001b[0;34m.\u001b[0m\u001b[0mTF_GetBuffer\u001b[0m\u001b[0;34m(\u001b[0m\u001b[0mrun_metadata_ptr\u001b[0m\u001b[0;34m)\u001b[0m\u001b[0;34m\u001b[0m\u001b[0;34m\u001b[0m\u001b[0m\n",
            "\u001b[0;31mKeyboardInterrupt\u001b[0m: "
          ]
        }
      ]
    },
    {
      "cell_type": "code",
      "metadata": {
        "id": "mX1LTUZt6rGm",
        "colab_type": "code",
        "outputId": "91b5690e-4cf6-4cc4-ede3-7a1042b0c0d4",
        "colab": {
          "base_uri": "https://localhost:8080/",
          "height": 735
        }
      },
      "source": [
        "#half the hideen units in the subsequent layers\n",
        "num_hidden_units = 7000\n",
        "d1 =  0.2\n",
        "d2 = 0.1\n",
        "# models = []\n",
        "model_3 = Sequential([\n",
        "    Dense(num_hidden_units, activation='relu',input_shape=(33,)),\n",
        "    Dropout(d1),\n",
        "    Dense(int(num_hidden_units/2), activation='relu'),\n",
        "    Dropout(d2),\n",
        "    Dense(int(num_hidden_units/2), activation='relu'),\n",
        "    Dense(1, activation='sigmoid'),\n",
        "])\n",
        "print(d1)\n",
        "print(num_hidden_units)\n",
        "model_3.compile(optimizer='adam',\n",
        "              loss='binary_crossentropy',\n",
        "              metrics=['accuracy'])\n",
        "hist_3 = model_3.fit(X_train, y_train,\n",
        "          batch_size=32, epochs=10,\n",
        "          validation_data=(X_test, y_test))\n",
        "models.append(model_3)"
      ],
      "execution_count": 0,
      "outputs": [
        {
          "output_type": "stream",
          "text": [
            "0.2\n",
            "7000\n",
            "Train on 473904 samples, validate on 118476 samples\n",
            "Epoch 1/10\n",
            "473904/473904 [==============================] - 232s 490us/step - loss: 0.6267 - acc: 0.6500 - val_loss: 0.6243 - val_acc: 0.6529\n",
            "Epoch 2/10\n",
            "473904/473904 [==============================] - 230s 486us/step - loss: 0.6229 - acc: 0.6533 - val_loss: 0.6195 - val_acc: 0.6556\n",
            "Epoch 3/10\n",
            "473904/473904 [==============================] - 230s 486us/step - loss: 0.6217 - acc: 0.6544 - val_loss: 0.6244 - val_acc: 0.6524\n",
            "Epoch 4/10\n",
            "473904/473904 [==============================] - 231s 487us/step - loss: 0.6210 - acc: 0.6555 - val_loss: 0.6197 - val_acc: 0.6514\n",
            "Epoch 5/10\n",
            "473904/473904 [==============================] - 230s 485us/step - loss: 0.6206 - acc: 0.6554 - val_loss: 0.6190 - val_acc: 0.6574\n",
            "Epoch 6/10\n",
            "473904/473904 [==============================] - 230s 485us/step - loss: 0.6196 - acc: 0.6554 - val_loss: 0.6191 - val_acc: 0.6578\n",
            "Epoch 7/10\n",
            "473904/473904 [==============================] - 230s 486us/step - loss: 0.6195 - acc: 0.6561 - val_loss: 0.6209 - val_acc: 0.6570\n",
            "Epoch 8/10\n",
            "473904/473904 [==============================] - 231s 486us/step - loss: 0.6189 - acc: 0.6563 - val_loss: 0.6186 - val_acc: 0.6549\n",
            "Epoch 9/10\n",
            "120512/473904 [======>.......................] - ETA: 2:47 - loss: 0.6186 - acc: 0.6568"
          ],
          "name": "stdout"
        },
        {
          "output_type": "error",
          "ename": "KeyboardInterrupt",
          "evalue": "ignored",
          "traceback": [
            "\u001b[0;31m---------------------------------------------------------------------------\u001b[0m",
            "\u001b[0;31mKeyboardInterrupt\u001b[0m                         Traceback (most recent call last)",
            "\u001b[0;32m<ipython-input-19-25a2190c6d57>\u001b[0m in \u001b[0;36m<module>\u001b[0;34m()\u001b[0m\n\u001b[1;32m     18\u001b[0m hist_3 = model_3.fit(X_train, y_train,\n\u001b[1;32m     19\u001b[0m           \u001b[0mbatch_size\u001b[0m\u001b[0;34m=\u001b[0m\u001b[0;36m32\u001b[0m\u001b[0;34m,\u001b[0m \u001b[0mepochs\u001b[0m\u001b[0;34m=\u001b[0m\u001b[0;36m10\u001b[0m\u001b[0;34m,\u001b[0m\u001b[0;34m\u001b[0m\u001b[0;34m\u001b[0m\u001b[0m\n\u001b[0;32m---> 20\u001b[0;31m           validation_data=(X_test, y_test))\n\u001b[0m\u001b[1;32m     21\u001b[0m \u001b[0mmodels\u001b[0m\u001b[0;34m.\u001b[0m\u001b[0mappend\u001b[0m\u001b[0;34m(\u001b[0m\u001b[0mmodel_3\u001b[0m\u001b[0;34m)\u001b[0m\u001b[0;34m\u001b[0m\u001b[0;34m\u001b[0m\u001b[0m\n",
            "\u001b[0;32m/usr/local/lib/python3.6/dist-packages/keras/engine/training.py\u001b[0m in \u001b[0;36mfit\u001b[0;34m(self, x, y, batch_size, epochs, verbose, callbacks, validation_split, validation_data, shuffle, class_weight, sample_weight, initial_epoch, steps_per_epoch, validation_steps, validation_freq, max_queue_size, workers, use_multiprocessing, **kwargs)\u001b[0m\n\u001b[1;32m   1176\u001b[0m                                         \u001b[0msteps_per_epoch\u001b[0m\u001b[0;34m=\u001b[0m\u001b[0msteps_per_epoch\u001b[0m\u001b[0;34m,\u001b[0m\u001b[0;34m\u001b[0m\u001b[0;34m\u001b[0m\u001b[0m\n\u001b[1;32m   1177\u001b[0m                                         \u001b[0mvalidation_steps\u001b[0m\u001b[0;34m=\u001b[0m\u001b[0mvalidation_steps\u001b[0m\u001b[0;34m,\u001b[0m\u001b[0;34m\u001b[0m\u001b[0;34m\u001b[0m\u001b[0m\n\u001b[0;32m-> 1178\u001b[0;31m                                         validation_freq=validation_freq)\n\u001b[0m\u001b[1;32m   1179\u001b[0m \u001b[0;34m\u001b[0m\u001b[0m\n\u001b[1;32m   1180\u001b[0m     def evaluate(self,\n",
            "\u001b[0;32m/usr/local/lib/python3.6/dist-packages/keras/engine/training_arrays.py\u001b[0m in \u001b[0;36mfit_loop\u001b[0;34m(model, fit_function, fit_inputs, out_labels, batch_size, epochs, verbose, callbacks, val_function, val_inputs, shuffle, callback_metrics, initial_epoch, steps_per_epoch, validation_steps, validation_freq)\u001b[0m\n\u001b[1;32m    202\u001b[0m                     \u001b[0mins_batch\u001b[0m\u001b[0;34m[\u001b[0m\u001b[0mi\u001b[0m\u001b[0;34m]\u001b[0m \u001b[0;34m=\u001b[0m \u001b[0mins_batch\u001b[0m\u001b[0;34m[\u001b[0m\u001b[0mi\u001b[0m\u001b[0;34m]\u001b[0m\u001b[0;34m.\u001b[0m\u001b[0mtoarray\u001b[0m\u001b[0;34m(\u001b[0m\u001b[0;34m)\u001b[0m\u001b[0;34m\u001b[0m\u001b[0;34m\u001b[0m\u001b[0m\n\u001b[1;32m    203\u001b[0m \u001b[0;34m\u001b[0m\u001b[0m\n\u001b[0;32m--> 204\u001b[0;31m                 \u001b[0mouts\u001b[0m \u001b[0;34m=\u001b[0m \u001b[0mfit_function\u001b[0m\u001b[0;34m(\u001b[0m\u001b[0mins_batch\u001b[0m\u001b[0;34m)\u001b[0m\u001b[0;34m\u001b[0m\u001b[0;34m\u001b[0m\u001b[0m\n\u001b[0m\u001b[1;32m    205\u001b[0m                 \u001b[0mouts\u001b[0m \u001b[0;34m=\u001b[0m \u001b[0mto_list\u001b[0m\u001b[0;34m(\u001b[0m\u001b[0mouts\u001b[0m\u001b[0;34m)\u001b[0m\u001b[0;34m\u001b[0m\u001b[0;34m\u001b[0m\u001b[0m\n\u001b[1;32m    206\u001b[0m                 \u001b[0;32mfor\u001b[0m \u001b[0ml\u001b[0m\u001b[0;34m,\u001b[0m \u001b[0mo\u001b[0m \u001b[0;32min\u001b[0m \u001b[0mzip\u001b[0m\u001b[0;34m(\u001b[0m\u001b[0mout_labels\u001b[0m\u001b[0;34m,\u001b[0m \u001b[0mouts\u001b[0m\u001b[0;34m)\u001b[0m\u001b[0;34m:\u001b[0m\u001b[0;34m\u001b[0m\u001b[0;34m\u001b[0m\u001b[0m\n",
            "\u001b[0;32m/usr/local/lib/python3.6/dist-packages/keras/backend/tensorflow_backend.py\u001b[0m in \u001b[0;36m__call__\u001b[0;34m(self, inputs)\u001b[0m\n\u001b[1;32m   2977\u001b[0m                     \u001b[0;32mreturn\u001b[0m \u001b[0mself\u001b[0m\u001b[0;34m.\u001b[0m\u001b[0m_legacy_call\u001b[0m\u001b[0;34m(\u001b[0m\u001b[0minputs\u001b[0m\u001b[0;34m)\u001b[0m\u001b[0;34m\u001b[0m\u001b[0;34m\u001b[0m\u001b[0m\n\u001b[1;32m   2978\u001b[0m \u001b[0;34m\u001b[0m\u001b[0m\n\u001b[0;32m-> 2979\u001b[0;31m             \u001b[0;32mreturn\u001b[0m \u001b[0mself\u001b[0m\u001b[0;34m.\u001b[0m\u001b[0m_call\u001b[0m\u001b[0;34m(\u001b[0m\u001b[0minputs\u001b[0m\u001b[0;34m)\u001b[0m\u001b[0;34m\u001b[0m\u001b[0;34m\u001b[0m\u001b[0m\n\u001b[0m\u001b[1;32m   2980\u001b[0m         \u001b[0;32melse\u001b[0m\u001b[0;34m:\u001b[0m\u001b[0;34m\u001b[0m\u001b[0;34m\u001b[0m\u001b[0m\n\u001b[1;32m   2981\u001b[0m             \u001b[0;32mif\u001b[0m \u001b[0mpy_any\u001b[0m\u001b[0;34m(\u001b[0m\u001b[0mis_tensor\u001b[0m\u001b[0;34m(\u001b[0m\u001b[0mx\u001b[0m\u001b[0;34m)\u001b[0m \u001b[0;32mfor\u001b[0m \u001b[0mx\u001b[0m \u001b[0;32min\u001b[0m \u001b[0minputs\u001b[0m\u001b[0;34m)\u001b[0m\u001b[0;34m:\u001b[0m\u001b[0;34m\u001b[0m\u001b[0;34m\u001b[0m\u001b[0m\n",
            "\u001b[0;32m/usr/local/lib/python3.6/dist-packages/keras/backend/tensorflow_backend.py\u001b[0m in \u001b[0;36m_call\u001b[0;34m(self, inputs)\u001b[0m\n\u001b[1;32m   2935\u001b[0m             \u001b[0mfetched\u001b[0m \u001b[0;34m=\u001b[0m \u001b[0mself\u001b[0m\u001b[0;34m.\u001b[0m\u001b[0m_callable_fn\u001b[0m\u001b[0;34m(\u001b[0m\u001b[0;34m*\u001b[0m\u001b[0marray_vals\u001b[0m\u001b[0;34m,\u001b[0m \u001b[0mrun_metadata\u001b[0m\u001b[0;34m=\u001b[0m\u001b[0mself\u001b[0m\u001b[0;34m.\u001b[0m\u001b[0mrun_metadata\u001b[0m\u001b[0;34m)\u001b[0m\u001b[0;34m\u001b[0m\u001b[0;34m\u001b[0m\u001b[0m\n\u001b[1;32m   2936\u001b[0m         \u001b[0;32melse\u001b[0m\u001b[0;34m:\u001b[0m\u001b[0;34m\u001b[0m\u001b[0;34m\u001b[0m\u001b[0m\n\u001b[0;32m-> 2937\u001b[0;31m             \u001b[0mfetched\u001b[0m \u001b[0;34m=\u001b[0m \u001b[0mself\u001b[0m\u001b[0;34m.\u001b[0m\u001b[0m_callable_fn\u001b[0m\u001b[0;34m(\u001b[0m\u001b[0;34m*\u001b[0m\u001b[0marray_vals\u001b[0m\u001b[0;34m)\u001b[0m\u001b[0;34m\u001b[0m\u001b[0;34m\u001b[0m\u001b[0m\n\u001b[0m\u001b[1;32m   2938\u001b[0m         \u001b[0;32mreturn\u001b[0m \u001b[0mfetched\u001b[0m\u001b[0;34m[\u001b[0m\u001b[0;34m:\u001b[0m\u001b[0mlen\u001b[0m\u001b[0;34m(\u001b[0m\u001b[0mself\u001b[0m\u001b[0;34m.\u001b[0m\u001b[0moutputs\u001b[0m\u001b[0;34m)\u001b[0m\u001b[0;34m]\u001b[0m\u001b[0;34m\u001b[0m\u001b[0;34m\u001b[0m\u001b[0m\n\u001b[1;32m   2939\u001b[0m \u001b[0;34m\u001b[0m\u001b[0m\n",
            "\u001b[0;32m/usr/local/lib/python3.6/dist-packages/tensorflow_core/python/client/session.py\u001b[0m in \u001b[0;36m__call__\u001b[0;34m(self, *args, **kwargs)\u001b[0m\n\u001b[1;32m   1470\u001b[0m         ret = tf_session.TF_SessionRunCallable(self._session._session,\n\u001b[1;32m   1471\u001b[0m                                                \u001b[0mself\u001b[0m\u001b[0;34m.\u001b[0m\u001b[0m_handle\u001b[0m\u001b[0;34m,\u001b[0m \u001b[0margs\u001b[0m\u001b[0;34m,\u001b[0m\u001b[0;34m\u001b[0m\u001b[0;34m\u001b[0m\u001b[0m\n\u001b[0;32m-> 1472\u001b[0;31m                                                run_metadata_ptr)\n\u001b[0m\u001b[1;32m   1473\u001b[0m         \u001b[0;32mif\u001b[0m \u001b[0mrun_metadata\u001b[0m\u001b[0;34m:\u001b[0m\u001b[0;34m\u001b[0m\u001b[0;34m\u001b[0m\u001b[0m\n\u001b[1;32m   1474\u001b[0m           \u001b[0mproto_data\u001b[0m \u001b[0;34m=\u001b[0m \u001b[0mtf_session\u001b[0m\u001b[0;34m.\u001b[0m\u001b[0mTF_GetBuffer\u001b[0m\u001b[0;34m(\u001b[0m\u001b[0mrun_metadata_ptr\u001b[0m\u001b[0;34m)\u001b[0m\u001b[0;34m\u001b[0m\u001b[0;34m\u001b[0m\u001b[0m\n",
            "\u001b[0;31mKeyboardInterrupt\u001b[0m: "
          ]
        }
      ]
    },
    {
      "cell_type": "code",
      "metadata": {
        "id": "p4hP8YDN7cMn",
        "colab_type": "code",
        "outputId": "9307d9e8-8937-4a42-c8b3-a2ff0730616e",
        "colab": {
          "base_uri": "https://localhost:8080/",
          "height": 443
        }
      },
      "source": [
        "from keras import regularizers\n",
        "from keras.layers import BatchNormalization\n",
        "num_hidden_units = 3500\n",
        "d1 =  0.2\n",
        "d2 = 0.1\n",
        "# models = []\n",
        "model_3 = Sequential([\n",
        "    Dense(num_hidden_units, activation='relu',input_shape=(33,)),\n",
        "    Dropout(d1),\n",
        "    Dense(num_hidden_units, activation='relu'),\n",
        "    Dropout(d2),\n",
        "    Dense(num_hidden_units, activation='relu'),\n",
        "    Dropout(d2),\n",
        "    Dense(num_hidden_units, activation='relu'),\n",
        "    Dense(1, activation='sigmoid'),\n",
        "])\n",
        "print(d1)\n",
        "print(num_hidden_units)\n",
        "model_3.compile(optimizer='adam',\n",
        "              loss='binary_crossentropy',\n",
        "              metrics=['accuracy'])\n",
        "hist_3 = model_3.fit(X_train, y_train,\n",
        "          batch_size=32, epochs=10,\n",
        "          validation_data=(X_test, y_test))\n",
        "models.append(model_3)"
      ],
      "execution_count": 0,
      "outputs": [
        {
          "output_type": "stream",
          "text": [
            "0.2\n",
            "3500\n",
            "Train on 473904 samples, validate on 118476 samples\n",
            "Epoch 1/10\n",
            " 35872/473904 [=>............................] - ETA: 3:51 - loss: 0.6424 - acc: 0.6455"
          ],
          "name": "stdout"
        },
        {
          "output_type": "error",
          "ename": "KeyboardInterrupt",
          "evalue": "ignored",
          "traceback": [
            "\u001b[0;31m---------------------------------------------------------------------------\u001b[0m",
            "\u001b[0;31mKeyboardInterrupt\u001b[0m                         Traceback (most recent call last)",
            "\u001b[0;32m<ipython-input-22-0876076c716d>\u001b[0m in \u001b[0;36m<module>\u001b[0;34m()\u001b[0m\n\u001b[1;32m     22\u001b[0m hist_3 = model_3.fit(X_train, y_train,\n\u001b[1;32m     23\u001b[0m           \u001b[0mbatch_size\u001b[0m\u001b[0;34m=\u001b[0m\u001b[0;36m32\u001b[0m\u001b[0;34m,\u001b[0m \u001b[0mepochs\u001b[0m\u001b[0;34m=\u001b[0m\u001b[0;36m10\u001b[0m\u001b[0;34m,\u001b[0m\u001b[0;34m\u001b[0m\u001b[0;34m\u001b[0m\u001b[0m\n\u001b[0;32m---> 24\u001b[0;31m           validation_data=(X_test, y_test))\n\u001b[0m\u001b[1;32m     25\u001b[0m \u001b[0mmodels\u001b[0m\u001b[0;34m.\u001b[0m\u001b[0mappend\u001b[0m\u001b[0;34m(\u001b[0m\u001b[0mmodel_3\u001b[0m\u001b[0;34m)\u001b[0m\u001b[0;34m\u001b[0m\u001b[0;34m\u001b[0m\u001b[0m\n",
            "\u001b[0;32m/usr/local/lib/python3.6/dist-packages/keras/engine/training.py\u001b[0m in \u001b[0;36mfit\u001b[0;34m(self, x, y, batch_size, epochs, verbose, callbacks, validation_split, validation_data, shuffle, class_weight, sample_weight, initial_epoch, steps_per_epoch, validation_steps, validation_freq, max_queue_size, workers, use_multiprocessing, **kwargs)\u001b[0m\n\u001b[1;32m   1176\u001b[0m                                         \u001b[0msteps_per_epoch\u001b[0m\u001b[0;34m=\u001b[0m\u001b[0msteps_per_epoch\u001b[0m\u001b[0;34m,\u001b[0m\u001b[0;34m\u001b[0m\u001b[0;34m\u001b[0m\u001b[0m\n\u001b[1;32m   1177\u001b[0m                                         \u001b[0mvalidation_steps\u001b[0m\u001b[0;34m=\u001b[0m\u001b[0mvalidation_steps\u001b[0m\u001b[0;34m,\u001b[0m\u001b[0;34m\u001b[0m\u001b[0;34m\u001b[0m\u001b[0m\n\u001b[0;32m-> 1178\u001b[0;31m                                         validation_freq=validation_freq)\n\u001b[0m\u001b[1;32m   1179\u001b[0m \u001b[0;34m\u001b[0m\u001b[0m\n\u001b[1;32m   1180\u001b[0m     def evaluate(self,\n",
            "\u001b[0;32m/usr/local/lib/python3.6/dist-packages/keras/engine/training_arrays.py\u001b[0m in \u001b[0;36mfit_loop\u001b[0;34m(model, fit_function, fit_inputs, out_labels, batch_size, epochs, verbose, callbacks, val_function, val_inputs, shuffle, callback_metrics, initial_epoch, steps_per_epoch, validation_steps, validation_freq)\u001b[0m\n\u001b[1;32m    202\u001b[0m                     \u001b[0mins_batch\u001b[0m\u001b[0;34m[\u001b[0m\u001b[0mi\u001b[0m\u001b[0;34m]\u001b[0m \u001b[0;34m=\u001b[0m \u001b[0mins_batch\u001b[0m\u001b[0;34m[\u001b[0m\u001b[0mi\u001b[0m\u001b[0;34m]\u001b[0m\u001b[0;34m.\u001b[0m\u001b[0mtoarray\u001b[0m\u001b[0;34m(\u001b[0m\u001b[0;34m)\u001b[0m\u001b[0;34m\u001b[0m\u001b[0;34m\u001b[0m\u001b[0m\n\u001b[1;32m    203\u001b[0m \u001b[0;34m\u001b[0m\u001b[0m\n\u001b[0;32m--> 204\u001b[0;31m                 \u001b[0mouts\u001b[0m \u001b[0;34m=\u001b[0m \u001b[0mfit_function\u001b[0m\u001b[0;34m(\u001b[0m\u001b[0mins_batch\u001b[0m\u001b[0;34m)\u001b[0m\u001b[0;34m\u001b[0m\u001b[0;34m\u001b[0m\u001b[0m\n\u001b[0m\u001b[1;32m    205\u001b[0m                 \u001b[0mouts\u001b[0m \u001b[0;34m=\u001b[0m \u001b[0mto_list\u001b[0m\u001b[0;34m(\u001b[0m\u001b[0mouts\u001b[0m\u001b[0;34m)\u001b[0m\u001b[0;34m\u001b[0m\u001b[0;34m\u001b[0m\u001b[0m\n\u001b[1;32m    206\u001b[0m                 \u001b[0;32mfor\u001b[0m \u001b[0ml\u001b[0m\u001b[0;34m,\u001b[0m \u001b[0mo\u001b[0m \u001b[0;32min\u001b[0m \u001b[0mzip\u001b[0m\u001b[0;34m(\u001b[0m\u001b[0mout_labels\u001b[0m\u001b[0;34m,\u001b[0m \u001b[0mouts\u001b[0m\u001b[0;34m)\u001b[0m\u001b[0;34m:\u001b[0m\u001b[0;34m\u001b[0m\u001b[0;34m\u001b[0m\u001b[0m\n",
            "\u001b[0;32m/usr/local/lib/python3.6/dist-packages/keras/backend/tensorflow_backend.py\u001b[0m in \u001b[0;36m__call__\u001b[0;34m(self, inputs)\u001b[0m\n\u001b[1;32m   2977\u001b[0m                     \u001b[0;32mreturn\u001b[0m \u001b[0mself\u001b[0m\u001b[0;34m.\u001b[0m\u001b[0m_legacy_call\u001b[0m\u001b[0;34m(\u001b[0m\u001b[0minputs\u001b[0m\u001b[0;34m)\u001b[0m\u001b[0;34m\u001b[0m\u001b[0;34m\u001b[0m\u001b[0m\n\u001b[1;32m   2978\u001b[0m \u001b[0;34m\u001b[0m\u001b[0m\n\u001b[0;32m-> 2979\u001b[0;31m             \u001b[0;32mreturn\u001b[0m \u001b[0mself\u001b[0m\u001b[0;34m.\u001b[0m\u001b[0m_call\u001b[0m\u001b[0;34m(\u001b[0m\u001b[0minputs\u001b[0m\u001b[0;34m)\u001b[0m\u001b[0;34m\u001b[0m\u001b[0;34m\u001b[0m\u001b[0m\n\u001b[0m\u001b[1;32m   2980\u001b[0m         \u001b[0;32melse\u001b[0m\u001b[0;34m:\u001b[0m\u001b[0;34m\u001b[0m\u001b[0;34m\u001b[0m\u001b[0m\n\u001b[1;32m   2981\u001b[0m             \u001b[0;32mif\u001b[0m \u001b[0mpy_any\u001b[0m\u001b[0;34m(\u001b[0m\u001b[0mis_tensor\u001b[0m\u001b[0;34m(\u001b[0m\u001b[0mx\u001b[0m\u001b[0;34m)\u001b[0m \u001b[0;32mfor\u001b[0m \u001b[0mx\u001b[0m \u001b[0;32min\u001b[0m \u001b[0minputs\u001b[0m\u001b[0;34m)\u001b[0m\u001b[0;34m:\u001b[0m\u001b[0;34m\u001b[0m\u001b[0;34m\u001b[0m\u001b[0m\n",
            "\u001b[0;32m/usr/local/lib/python3.6/dist-packages/keras/backend/tensorflow_backend.py\u001b[0m in \u001b[0;36m_call\u001b[0;34m(self, inputs)\u001b[0m\n\u001b[1;32m   2935\u001b[0m             \u001b[0mfetched\u001b[0m \u001b[0;34m=\u001b[0m \u001b[0mself\u001b[0m\u001b[0;34m.\u001b[0m\u001b[0m_callable_fn\u001b[0m\u001b[0;34m(\u001b[0m\u001b[0;34m*\u001b[0m\u001b[0marray_vals\u001b[0m\u001b[0;34m,\u001b[0m \u001b[0mrun_metadata\u001b[0m\u001b[0;34m=\u001b[0m\u001b[0mself\u001b[0m\u001b[0;34m.\u001b[0m\u001b[0mrun_metadata\u001b[0m\u001b[0;34m)\u001b[0m\u001b[0;34m\u001b[0m\u001b[0;34m\u001b[0m\u001b[0m\n\u001b[1;32m   2936\u001b[0m         \u001b[0;32melse\u001b[0m\u001b[0;34m:\u001b[0m\u001b[0;34m\u001b[0m\u001b[0;34m\u001b[0m\u001b[0m\n\u001b[0;32m-> 2937\u001b[0;31m             \u001b[0mfetched\u001b[0m \u001b[0;34m=\u001b[0m \u001b[0mself\u001b[0m\u001b[0;34m.\u001b[0m\u001b[0m_callable_fn\u001b[0m\u001b[0;34m(\u001b[0m\u001b[0;34m*\u001b[0m\u001b[0marray_vals\u001b[0m\u001b[0;34m)\u001b[0m\u001b[0;34m\u001b[0m\u001b[0;34m\u001b[0m\u001b[0m\n\u001b[0m\u001b[1;32m   2938\u001b[0m         \u001b[0;32mreturn\u001b[0m \u001b[0mfetched\u001b[0m\u001b[0;34m[\u001b[0m\u001b[0;34m:\u001b[0m\u001b[0mlen\u001b[0m\u001b[0;34m(\u001b[0m\u001b[0mself\u001b[0m\u001b[0;34m.\u001b[0m\u001b[0moutputs\u001b[0m\u001b[0;34m)\u001b[0m\u001b[0;34m]\u001b[0m\u001b[0;34m\u001b[0m\u001b[0;34m\u001b[0m\u001b[0m\n\u001b[1;32m   2939\u001b[0m \u001b[0;34m\u001b[0m\u001b[0m\n",
            "\u001b[0;32m/usr/local/lib/python3.6/dist-packages/tensorflow_core/python/client/session.py\u001b[0m in \u001b[0;36m__call__\u001b[0;34m(self, *args, **kwargs)\u001b[0m\n\u001b[1;32m   1470\u001b[0m         ret = tf_session.TF_SessionRunCallable(self._session._session,\n\u001b[1;32m   1471\u001b[0m                                                \u001b[0mself\u001b[0m\u001b[0;34m.\u001b[0m\u001b[0m_handle\u001b[0m\u001b[0;34m,\u001b[0m \u001b[0margs\u001b[0m\u001b[0;34m,\u001b[0m\u001b[0;34m\u001b[0m\u001b[0;34m\u001b[0m\u001b[0m\n\u001b[0;32m-> 1472\u001b[0;31m                                                run_metadata_ptr)\n\u001b[0m\u001b[1;32m   1473\u001b[0m         \u001b[0;32mif\u001b[0m \u001b[0mrun_metadata\u001b[0m\u001b[0;34m:\u001b[0m\u001b[0;34m\u001b[0m\u001b[0;34m\u001b[0m\u001b[0m\n\u001b[1;32m   1474\u001b[0m           \u001b[0mproto_data\u001b[0m \u001b[0;34m=\u001b[0m \u001b[0mtf_session\u001b[0m\u001b[0;34m.\u001b[0m\u001b[0mTF_GetBuffer\u001b[0m\u001b[0;34m(\u001b[0m\u001b[0mrun_metadata_ptr\u001b[0m\u001b[0;34m)\u001b[0m\u001b[0;34m\u001b[0m\u001b[0;34m\u001b[0m\u001b[0m\n",
            "\u001b[0;31mKeyboardInterrupt\u001b[0m: "
          ]
        }
      ]
    },
    {
      "cell_type": "code",
      "metadata": {
        "id": "jFMx42jkWUB7",
        "colab_type": "code",
        "outputId": "80938aab-da81-4316-845c-cbc6c75b786c",
        "colab": {
          "base_uri": "https://localhost:8080/",
          "height": 497
        }
      },
      "source": [
        "from keras import regularizers\n",
        "\n",
        "num_hidden_units = 3500\n",
        "d1 =  0.2\n",
        "d2 = 0.1\n",
        "model_3 = Sequential([\n",
        "    Dense(num_hidden_units, activation='relu',input_shape=(33,)),\n",
        "    Dropout(d1),\n",
        "    BatchNormalization(),\n",
        "    Dense(num_hidden_units, activation='relu'),\n",
        "    Dropout(d2),\n",
        "    BatchNormalization(),\n",
        "    Dense(num_hidden_units, activation='relu'),\n",
        "    Dropout(d2),\n",
        "    BatchNormalization(),\n",
        "    Dense(num_hidden_units, activation='relu'),\n",
        "    Dense(1, activation='sigmoid'),\n",
        "])\n",
        "model_3.compile(optimizer='adam',\n",
        "              loss='binary_crossentropy',\n",
        "              metrics=['accuracy'])\n",
        "hist_3 = model_3.fit(X_train, y_train,\n",
        "          batch_size=32, epochs=10,\n",
        "          validation_data=(X_test, y_test))\n",
        "models.append(model_3)"
      ],
      "execution_count": 0,
      "outputs": [
        {
          "output_type": "stream",
          "text": [
            "Train on 473904 samples, validate on 118476 samples\n",
            "Epoch 1/10\n",
            "473904/473904 [==============================] - 277s 584us/step - loss: 5.7535 - acc: 0.6430 - val_loss: 5.7702 - val_acc: 0.6420\n",
            "Epoch 2/10\n",
            "473904/473904 [==============================] - 274s 577us/step - loss: 5.7493 - acc: 0.6433 - val_loss: 5.7702 - val_acc: 0.6420\n",
            "Epoch 3/10\n",
            "137376/473904 [=======>......................] - ETA: 3:08 - loss: 5.7656 - acc: 0.6423"
          ],
          "name": "stdout"
        },
        {
          "output_type": "error",
          "ename": "KeyboardInterrupt",
          "evalue": "ignored",
          "traceback": [
            "\u001b[0;31m---------------------------------------------------------------------------\u001b[0m",
            "\u001b[0;31mKeyboardInterrupt\u001b[0m                         Traceback (most recent call last)",
            "\u001b[0;32m<ipython-input-23-3947318bab39>\u001b[0m in \u001b[0;36m<module>\u001b[0;34m()\u001b[0m\n\u001b[1;32m     23\u001b[0m hist_3 = model_3.fit(X_train, y_train,\n\u001b[1;32m     24\u001b[0m           \u001b[0mbatch_size\u001b[0m\u001b[0;34m=\u001b[0m\u001b[0;36m32\u001b[0m\u001b[0;34m,\u001b[0m \u001b[0mepochs\u001b[0m\u001b[0;34m=\u001b[0m\u001b[0;36m10\u001b[0m\u001b[0;34m,\u001b[0m\u001b[0;34m\u001b[0m\u001b[0;34m\u001b[0m\u001b[0m\n\u001b[0;32m---> 25\u001b[0;31m           validation_data=(X_test, y_test))\n\u001b[0m\u001b[1;32m     26\u001b[0m \u001b[0mmodels\u001b[0m\u001b[0;34m.\u001b[0m\u001b[0mappend\u001b[0m\u001b[0;34m(\u001b[0m\u001b[0mmodel_3\u001b[0m\u001b[0;34m)\u001b[0m\u001b[0;34m\u001b[0m\u001b[0;34m\u001b[0m\u001b[0m\n",
            "\u001b[0;32m/usr/local/lib/python3.6/dist-packages/keras/engine/training.py\u001b[0m in \u001b[0;36mfit\u001b[0;34m(self, x, y, batch_size, epochs, verbose, callbacks, validation_split, validation_data, shuffle, class_weight, sample_weight, initial_epoch, steps_per_epoch, validation_steps, validation_freq, max_queue_size, workers, use_multiprocessing, **kwargs)\u001b[0m\n\u001b[1;32m   1176\u001b[0m                                         \u001b[0msteps_per_epoch\u001b[0m\u001b[0;34m=\u001b[0m\u001b[0msteps_per_epoch\u001b[0m\u001b[0;34m,\u001b[0m\u001b[0;34m\u001b[0m\u001b[0;34m\u001b[0m\u001b[0m\n\u001b[1;32m   1177\u001b[0m                                         \u001b[0mvalidation_steps\u001b[0m\u001b[0;34m=\u001b[0m\u001b[0mvalidation_steps\u001b[0m\u001b[0;34m,\u001b[0m\u001b[0;34m\u001b[0m\u001b[0;34m\u001b[0m\u001b[0m\n\u001b[0;32m-> 1178\u001b[0;31m                                         validation_freq=validation_freq)\n\u001b[0m\u001b[1;32m   1179\u001b[0m \u001b[0;34m\u001b[0m\u001b[0m\n\u001b[1;32m   1180\u001b[0m     def evaluate(self,\n",
            "\u001b[0;32m/usr/local/lib/python3.6/dist-packages/keras/engine/training_arrays.py\u001b[0m in \u001b[0;36mfit_loop\u001b[0;34m(model, fit_function, fit_inputs, out_labels, batch_size, epochs, verbose, callbacks, val_function, val_inputs, shuffle, callback_metrics, initial_epoch, steps_per_epoch, validation_steps, validation_freq)\u001b[0m\n\u001b[1;32m    202\u001b[0m                     \u001b[0mins_batch\u001b[0m\u001b[0;34m[\u001b[0m\u001b[0mi\u001b[0m\u001b[0;34m]\u001b[0m \u001b[0;34m=\u001b[0m \u001b[0mins_batch\u001b[0m\u001b[0;34m[\u001b[0m\u001b[0mi\u001b[0m\u001b[0;34m]\u001b[0m\u001b[0;34m.\u001b[0m\u001b[0mtoarray\u001b[0m\u001b[0;34m(\u001b[0m\u001b[0;34m)\u001b[0m\u001b[0;34m\u001b[0m\u001b[0;34m\u001b[0m\u001b[0m\n\u001b[1;32m    203\u001b[0m \u001b[0;34m\u001b[0m\u001b[0m\n\u001b[0;32m--> 204\u001b[0;31m                 \u001b[0mouts\u001b[0m \u001b[0;34m=\u001b[0m \u001b[0mfit_function\u001b[0m\u001b[0;34m(\u001b[0m\u001b[0mins_batch\u001b[0m\u001b[0;34m)\u001b[0m\u001b[0;34m\u001b[0m\u001b[0;34m\u001b[0m\u001b[0m\n\u001b[0m\u001b[1;32m    205\u001b[0m                 \u001b[0mouts\u001b[0m \u001b[0;34m=\u001b[0m \u001b[0mto_list\u001b[0m\u001b[0;34m(\u001b[0m\u001b[0mouts\u001b[0m\u001b[0;34m)\u001b[0m\u001b[0;34m\u001b[0m\u001b[0;34m\u001b[0m\u001b[0m\n\u001b[1;32m    206\u001b[0m                 \u001b[0;32mfor\u001b[0m \u001b[0ml\u001b[0m\u001b[0;34m,\u001b[0m \u001b[0mo\u001b[0m \u001b[0;32min\u001b[0m \u001b[0mzip\u001b[0m\u001b[0;34m(\u001b[0m\u001b[0mout_labels\u001b[0m\u001b[0;34m,\u001b[0m \u001b[0mouts\u001b[0m\u001b[0;34m)\u001b[0m\u001b[0;34m:\u001b[0m\u001b[0;34m\u001b[0m\u001b[0;34m\u001b[0m\u001b[0m\n",
            "\u001b[0;32m/usr/local/lib/python3.6/dist-packages/keras/backend/tensorflow_backend.py\u001b[0m in \u001b[0;36m__call__\u001b[0;34m(self, inputs)\u001b[0m\n\u001b[1;32m   2977\u001b[0m                     \u001b[0;32mreturn\u001b[0m \u001b[0mself\u001b[0m\u001b[0;34m.\u001b[0m\u001b[0m_legacy_call\u001b[0m\u001b[0;34m(\u001b[0m\u001b[0minputs\u001b[0m\u001b[0;34m)\u001b[0m\u001b[0;34m\u001b[0m\u001b[0;34m\u001b[0m\u001b[0m\n\u001b[1;32m   2978\u001b[0m \u001b[0;34m\u001b[0m\u001b[0m\n\u001b[0;32m-> 2979\u001b[0;31m             \u001b[0;32mreturn\u001b[0m \u001b[0mself\u001b[0m\u001b[0;34m.\u001b[0m\u001b[0m_call\u001b[0m\u001b[0;34m(\u001b[0m\u001b[0minputs\u001b[0m\u001b[0;34m)\u001b[0m\u001b[0;34m\u001b[0m\u001b[0;34m\u001b[0m\u001b[0m\n\u001b[0m\u001b[1;32m   2980\u001b[0m         \u001b[0;32melse\u001b[0m\u001b[0;34m:\u001b[0m\u001b[0;34m\u001b[0m\u001b[0;34m\u001b[0m\u001b[0m\n\u001b[1;32m   2981\u001b[0m             \u001b[0;32mif\u001b[0m \u001b[0mpy_any\u001b[0m\u001b[0;34m(\u001b[0m\u001b[0mis_tensor\u001b[0m\u001b[0;34m(\u001b[0m\u001b[0mx\u001b[0m\u001b[0;34m)\u001b[0m \u001b[0;32mfor\u001b[0m \u001b[0mx\u001b[0m \u001b[0;32min\u001b[0m \u001b[0minputs\u001b[0m\u001b[0;34m)\u001b[0m\u001b[0;34m:\u001b[0m\u001b[0;34m\u001b[0m\u001b[0;34m\u001b[0m\u001b[0m\n",
            "\u001b[0;32m/usr/local/lib/python3.6/dist-packages/keras/backend/tensorflow_backend.py\u001b[0m in \u001b[0;36m_call\u001b[0;34m(self, inputs)\u001b[0m\n\u001b[1;32m   2935\u001b[0m             \u001b[0mfetched\u001b[0m \u001b[0;34m=\u001b[0m \u001b[0mself\u001b[0m\u001b[0;34m.\u001b[0m\u001b[0m_callable_fn\u001b[0m\u001b[0;34m(\u001b[0m\u001b[0;34m*\u001b[0m\u001b[0marray_vals\u001b[0m\u001b[0;34m,\u001b[0m \u001b[0mrun_metadata\u001b[0m\u001b[0;34m=\u001b[0m\u001b[0mself\u001b[0m\u001b[0;34m.\u001b[0m\u001b[0mrun_metadata\u001b[0m\u001b[0;34m)\u001b[0m\u001b[0;34m\u001b[0m\u001b[0;34m\u001b[0m\u001b[0m\n\u001b[1;32m   2936\u001b[0m         \u001b[0;32melse\u001b[0m\u001b[0;34m:\u001b[0m\u001b[0;34m\u001b[0m\u001b[0;34m\u001b[0m\u001b[0m\n\u001b[0;32m-> 2937\u001b[0;31m             \u001b[0mfetched\u001b[0m \u001b[0;34m=\u001b[0m \u001b[0mself\u001b[0m\u001b[0;34m.\u001b[0m\u001b[0m_callable_fn\u001b[0m\u001b[0;34m(\u001b[0m\u001b[0;34m*\u001b[0m\u001b[0marray_vals\u001b[0m\u001b[0;34m)\u001b[0m\u001b[0;34m\u001b[0m\u001b[0;34m\u001b[0m\u001b[0m\n\u001b[0m\u001b[1;32m   2938\u001b[0m         \u001b[0;32mreturn\u001b[0m \u001b[0mfetched\u001b[0m\u001b[0;34m[\u001b[0m\u001b[0;34m:\u001b[0m\u001b[0mlen\u001b[0m\u001b[0;34m(\u001b[0m\u001b[0mself\u001b[0m\u001b[0;34m.\u001b[0m\u001b[0moutputs\u001b[0m\u001b[0;34m)\u001b[0m\u001b[0;34m]\u001b[0m\u001b[0;34m\u001b[0m\u001b[0;34m\u001b[0m\u001b[0m\n\u001b[1;32m   2939\u001b[0m \u001b[0;34m\u001b[0m\u001b[0m\n",
            "\u001b[0;32m/usr/local/lib/python3.6/dist-packages/tensorflow_core/python/client/session.py\u001b[0m in \u001b[0;36m__call__\u001b[0;34m(self, *args, **kwargs)\u001b[0m\n\u001b[1;32m   1470\u001b[0m         ret = tf_session.TF_SessionRunCallable(self._session._session,\n\u001b[1;32m   1471\u001b[0m                                                \u001b[0mself\u001b[0m\u001b[0;34m.\u001b[0m\u001b[0m_handle\u001b[0m\u001b[0;34m,\u001b[0m \u001b[0margs\u001b[0m\u001b[0;34m,\u001b[0m\u001b[0;34m\u001b[0m\u001b[0;34m\u001b[0m\u001b[0m\n\u001b[0;32m-> 1472\u001b[0;31m                                                run_metadata_ptr)\n\u001b[0m\u001b[1;32m   1473\u001b[0m         \u001b[0;32mif\u001b[0m \u001b[0mrun_metadata\u001b[0m\u001b[0;34m:\u001b[0m\u001b[0;34m\u001b[0m\u001b[0;34m\u001b[0m\u001b[0m\n\u001b[1;32m   1474\u001b[0m           \u001b[0mproto_data\u001b[0m \u001b[0;34m=\u001b[0m \u001b[0mtf_session\u001b[0m\u001b[0;34m.\u001b[0m\u001b[0mTF_GetBuffer\u001b[0m\u001b[0;34m(\u001b[0m\u001b[0mrun_metadata_ptr\u001b[0m\u001b[0;34m)\u001b[0m\u001b[0;34m\u001b[0m\u001b[0;34m\u001b[0m\u001b[0m\n",
            "\u001b[0;31mKeyboardInterrupt\u001b[0m: "
          ]
        }
      ]
    },
    {
      "cell_type": "code",
      "metadata": {
        "id": "gSzivrd47fjq",
        "colab_type": "code",
        "outputId": "81292462-46c8-4cdc-bf01-65e60609d93f",
        "colab": {
          "base_uri": "https://localhost:8080/",
          "height": 599
        }
      },
      "source": [
        "\n",
        "num_hidden_units = 3500\n",
        "d1 =  0.2\n",
        "d2 = 0.1\n",
        "# models = []\n",
        "model_3 = Sequential([\n",
        "    Dense(num_hidden_units, activation='relu',input_shape=(33,)),\n",
        "    Dropout(d1),\n",
        "    Dense(num_hidden_units, activation='relu',kernel_regularizer=regularizers.l2(0.01)),\n",
        "    Dropout(d2),\n",
        "    Dense(num_hidden_units, activation='relu',kernel_regularizer=regularizers.l2(0.01)),\n",
        "    Dropout(d2),\n",
        "    Dense(num_hidden_units, activation='relu',kernel_regularizer=regularizers.l2(0.01)),\n",
        "    Dense(1, activation='sigmoid'),\n",
        "])\n",
        "print(d1)\n",
        "print(num_hidden_units)\n",
        "model_3.compile(optimizer='adam',\n",
        "              loss='binary_crossentropy',\n",
        "              metrics=['accuracy'])\n",
        "hist_3 = model_3.fit(X_train, y_train,\n",
        "          batch_size=32, epochs=10,\n",
        "          validation_data=(X_test, y_test))\n",
        "models.append(model_3)"
      ],
      "execution_count": 0,
      "outputs": [
        {
          "output_type": "stream",
          "text": [
            "0.2\n",
            "3500\n",
            "Train on 473904 samples, validate on 118476 samples\n",
            "Epoch 1/10\n",
            "473904/473904 [==============================] - 294s 621us/step - loss: 0.7157 - acc: 0.6433 - val_loss: 0.6525 - val_acc: 0.6420\n",
            "Epoch 2/10\n",
            "473904/473904 [==============================] - 292s 616us/step - loss: 0.6517 - acc: 0.6433 - val_loss: 0.6524 - val_acc: 0.6420\n",
            "Epoch 3/10\n",
            "473904/473904 [==============================] - 292s 616us/step - loss: 0.6517 - acc: 0.6433 - val_loss: 0.6523 - val_acc: 0.6420\n",
            "Epoch 4/10\n",
            "473904/473904 [==============================] - 292s 616us/step - loss: 0.6516 - acc: 0.6433 - val_loss: 0.6523 - val_acc: 0.6420\n",
            "Epoch 5/10\n",
            "155552/473904 [========>.....................] - ETA: 3:09 - loss: 0.6520 - acc: 0.6426"
          ],
          "name": "stdout"
        },
        {
          "output_type": "error",
          "ename": "KeyboardInterrupt",
          "evalue": "ignored",
          "traceback": [
            "\u001b[0;31m---------------------------------------------------------------------------\u001b[0m",
            "\u001b[0;31mKeyboardInterrupt\u001b[0m                         Traceback (most recent call last)",
            "\u001b[0;32m<ipython-input-24-69e720b4acfa>\u001b[0m in \u001b[0;36m<module>\u001b[0;34m()\u001b[0m\n\u001b[1;32m     21\u001b[0m hist_3 = model_3.fit(X_train, y_train,\n\u001b[1;32m     22\u001b[0m           \u001b[0mbatch_size\u001b[0m\u001b[0;34m=\u001b[0m\u001b[0;36m32\u001b[0m\u001b[0;34m,\u001b[0m \u001b[0mepochs\u001b[0m\u001b[0;34m=\u001b[0m\u001b[0;36m10\u001b[0m\u001b[0;34m,\u001b[0m\u001b[0;34m\u001b[0m\u001b[0;34m\u001b[0m\u001b[0m\n\u001b[0;32m---> 23\u001b[0;31m           validation_data=(X_test, y_test))\n\u001b[0m\u001b[1;32m     24\u001b[0m \u001b[0mmodels\u001b[0m\u001b[0;34m.\u001b[0m\u001b[0mappend\u001b[0m\u001b[0;34m(\u001b[0m\u001b[0mmodel_3\u001b[0m\u001b[0;34m)\u001b[0m\u001b[0;34m\u001b[0m\u001b[0;34m\u001b[0m\u001b[0m\n",
            "\u001b[0;32m/usr/local/lib/python3.6/dist-packages/keras/engine/training.py\u001b[0m in \u001b[0;36mfit\u001b[0;34m(self, x, y, batch_size, epochs, verbose, callbacks, validation_split, validation_data, shuffle, class_weight, sample_weight, initial_epoch, steps_per_epoch, validation_steps, validation_freq, max_queue_size, workers, use_multiprocessing, **kwargs)\u001b[0m\n\u001b[1;32m   1176\u001b[0m                                         \u001b[0msteps_per_epoch\u001b[0m\u001b[0;34m=\u001b[0m\u001b[0msteps_per_epoch\u001b[0m\u001b[0;34m,\u001b[0m\u001b[0;34m\u001b[0m\u001b[0;34m\u001b[0m\u001b[0m\n\u001b[1;32m   1177\u001b[0m                                         \u001b[0mvalidation_steps\u001b[0m\u001b[0;34m=\u001b[0m\u001b[0mvalidation_steps\u001b[0m\u001b[0;34m,\u001b[0m\u001b[0;34m\u001b[0m\u001b[0;34m\u001b[0m\u001b[0m\n\u001b[0;32m-> 1178\u001b[0;31m                                         validation_freq=validation_freq)\n\u001b[0m\u001b[1;32m   1179\u001b[0m \u001b[0;34m\u001b[0m\u001b[0m\n\u001b[1;32m   1180\u001b[0m     def evaluate(self,\n",
            "\u001b[0;32m/usr/local/lib/python3.6/dist-packages/keras/engine/training_arrays.py\u001b[0m in \u001b[0;36mfit_loop\u001b[0;34m(model, fit_function, fit_inputs, out_labels, batch_size, epochs, verbose, callbacks, val_function, val_inputs, shuffle, callback_metrics, initial_epoch, steps_per_epoch, validation_steps, validation_freq)\u001b[0m\n\u001b[1;32m    202\u001b[0m                     \u001b[0mins_batch\u001b[0m\u001b[0;34m[\u001b[0m\u001b[0mi\u001b[0m\u001b[0;34m]\u001b[0m \u001b[0;34m=\u001b[0m \u001b[0mins_batch\u001b[0m\u001b[0;34m[\u001b[0m\u001b[0mi\u001b[0m\u001b[0;34m]\u001b[0m\u001b[0;34m.\u001b[0m\u001b[0mtoarray\u001b[0m\u001b[0;34m(\u001b[0m\u001b[0;34m)\u001b[0m\u001b[0;34m\u001b[0m\u001b[0;34m\u001b[0m\u001b[0m\n\u001b[1;32m    203\u001b[0m \u001b[0;34m\u001b[0m\u001b[0m\n\u001b[0;32m--> 204\u001b[0;31m                 \u001b[0mouts\u001b[0m \u001b[0;34m=\u001b[0m \u001b[0mfit_function\u001b[0m\u001b[0;34m(\u001b[0m\u001b[0mins_batch\u001b[0m\u001b[0;34m)\u001b[0m\u001b[0;34m\u001b[0m\u001b[0;34m\u001b[0m\u001b[0m\n\u001b[0m\u001b[1;32m    205\u001b[0m                 \u001b[0mouts\u001b[0m \u001b[0;34m=\u001b[0m \u001b[0mto_list\u001b[0m\u001b[0;34m(\u001b[0m\u001b[0mouts\u001b[0m\u001b[0;34m)\u001b[0m\u001b[0;34m\u001b[0m\u001b[0;34m\u001b[0m\u001b[0m\n\u001b[1;32m    206\u001b[0m                 \u001b[0;32mfor\u001b[0m \u001b[0ml\u001b[0m\u001b[0;34m,\u001b[0m \u001b[0mo\u001b[0m \u001b[0;32min\u001b[0m \u001b[0mzip\u001b[0m\u001b[0;34m(\u001b[0m\u001b[0mout_labels\u001b[0m\u001b[0;34m,\u001b[0m \u001b[0mouts\u001b[0m\u001b[0;34m)\u001b[0m\u001b[0;34m:\u001b[0m\u001b[0;34m\u001b[0m\u001b[0;34m\u001b[0m\u001b[0m\n",
            "\u001b[0;32m/usr/local/lib/python3.6/dist-packages/keras/backend/tensorflow_backend.py\u001b[0m in \u001b[0;36m__call__\u001b[0;34m(self, inputs)\u001b[0m\n\u001b[1;32m   2977\u001b[0m                     \u001b[0;32mreturn\u001b[0m \u001b[0mself\u001b[0m\u001b[0;34m.\u001b[0m\u001b[0m_legacy_call\u001b[0m\u001b[0;34m(\u001b[0m\u001b[0minputs\u001b[0m\u001b[0;34m)\u001b[0m\u001b[0;34m\u001b[0m\u001b[0;34m\u001b[0m\u001b[0m\n\u001b[1;32m   2978\u001b[0m \u001b[0;34m\u001b[0m\u001b[0m\n\u001b[0;32m-> 2979\u001b[0;31m             \u001b[0;32mreturn\u001b[0m \u001b[0mself\u001b[0m\u001b[0;34m.\u001b[0m\u001b[0m_call\u001b[0m\u001b[0;34m(\u001b[0m\u001b[0minputs\u001b[0m\u001b[0;34m)\u001b[0m\u001b[0;34m\u001b[0m\u001b[0;34m\u001b[0m\u001b[0m\n\u001b[0m\u001b[1;32m   2980\u001b[0m         \u001b[0;32melse\u001b[0m\u001b[0;34m:\u001b[0m\u001b[0;34m\u001b[0m\u001b[0;34m\u001b[0m\u001b[0m\n\u001b[1;32m   2981\u001b[0m             \u001b[0;32mif\u001b[0m \u001b[0mpy_any\u001b[0m\u001b[0;34m(\u001b[0m\u001b[0mis_tensor\u001b[0m\u001b[0;34m(\u001b[0m\u001b[0mx\u001b[0m\u001b[0;34m)\u001b[0m \u001b[0;32mfor\u001b[0m \u001b[0mx\u001b[0m \u001b[0;32min\u001b[0m \u001b[0minputs\u001b[0m\u001b[0;34m)\u001b[0m\u001b[0;34m:\u001b[0m\u001b[0;34m\u001b[0m\u001b[0;34m\u001b[0m\u001b[0m\n",
            "\u001b[0;32m/usr/local/lib/python3.6/dist-packages/keras/backend/tensorflow_backend.py\u001b[0m in \u001b[0;36m_call\u001b[0;34m(self, inputs)\u001b[0m\n\u001b[1;32m   2935\u001b[0m             \u001b[0mfetched\u001b[0m \u001b[0;34m=\u001b[0m \u001b[0mself\u001b[0m\u001b[0;34m.\u001b[0m\u001b[0m_callable_fn\u001b[0m\u001b[0;34m(\u001b[0m\u001b[0;34m*\u001b[0m\u001b[0marray_vals\u001b[0m\u001b[0;34m,\u001b[0m \u001b[0mrun_metadata\u001b[0m\u001b[0;34m=\u001b[0m\u001b[0mself\u001b[0m\u001b[0;34m.\u001b[0m\u001b[0mrun_metadata\u001b[0m\u001b[0;34m)\u001b[0m\u001b[0;34m\u001b[0m\u001b[0;34m\u001b[0m\u001b[0m\n\u001b[1;32m   2936\u001b[0m         \u001b[0;32melse\u001b[0m\u001b[0;34m:\u001b[0m\u001b[0;34m\u001b[0m\u001b[0;34m\u001b[0m\u001b[0m\n\u001b[0;32m-> 2937\u001b[0;31m             \u001b[0mfetched\u001b[0m \u001b[0;34m=\u001b[0m \u001b[0mself\u001b[0m\u001b[0;34m.\u001b[0m\u001b[0m_callable_fn\u001b[0m\u001b[0;34m(\u001b[0m\u001b[0;34m*\u001b[0m\u001b[0marray_vals\u001b[0m\u001b[0;34m)\u001b[0m\u001b[0;34m\u001b[0m\u001b[0;34m\u001b[0m\u001b[0m\n\u001b[0m\u001b[1;32m   2938\u001b[0m         \u001b[0;32mreturn\u001b[0m \u001b[0mfetched\u001b[0m\u001b[0;34m[\u001b[0m\u001b[0;34m:\u001b[0m\u001b[0mlen\u001b[0m\u001b[0;34m(\u001b[0m\u001b[0mself\u001b[0m\u001b[0;34m.\u001b[0m\u001b[0moutputs\u001b[0m\u001b[0;34m)\u001b[0m\u001b[0;34m]\u001b[0m\u001b[0;34m\u001b[0m\u001b[0;34m\u001b[0m\u001b[0m\n\u001b[1;32m   2939\u001b[0m \u001b[0;34m\u001b[0m\u001b[0m\n",
            "\u001b[0;32m/usr/local/lib/python3.6/dist-packages/tensorflow_core/python/client/session.py\u001b[0m in \u001b[0;36m__call__\u001b[0;34m(self, *args, **kwargs)\u001b[0m\n\u001b[1;32m   1470\u001b[0m         ret = tf_session.TF_SessionRunCallable(self._session._session,\n\u001b[1;32m   1471\u001b[0m                                                \u001b[0mself\u001b[0m\u001b[0;34m.\u001b[0m\u001b[0m_handle\u001b[0m\u001b[0;34m,\u001b[0m \u001b[0margs\u001b[0m\u001b[0;34m,\u001b[0m\u001b[0;34m\u001b[0m\u001b[0;34m\u001b[0m\u001b[0m\n\u001b[0;32m-> 1472\u001b[0;31m                                                run_metadata_ptr)\n\u001b[0m\u001b[1;32m   1473\u001b[0m         \u001b[0;32mif\u001b[0m \u001b[0mrun_metadata\u001b[0m\u001b[0;34m:\u001b[0m\u001b[0;34m\u001b[0m\u001b[0;34m\u001b[0m\u001b[0m\n\u001b[1;32m   1474\u001b[0m           \u001b[0mproto_data\u001b[0m \u001b[0;34m=\u001b[0m \u001b[0mtf_session\u001b[0m\u001b[0;34m.\u001b[0m\u001b[0mTF_GetBuffer\u001b[0m\u001b[0;34m(\u001b[0m\u001b[0mrun_metadata_ptr\u001b[0m\u001b[0;34m)\u001b[0m\u001b[0;34m\u001b[0m\u001b[0;34m\u001b[0m\u001b[0m\n",
            "\u001b[0;31mKeyboardInterrupt\u001b[0m: "
          ]
        }
      ]
    },
    {
      "cell_type": "code",
      "metadata": {
        "id": "J3jd6eI7mm_N",
        "colab_type": "code",
        "colab": {}
      },
      "source": [
        "from sklearn.model_selection import train_test_split\n",
        "# Split test and train data\n",
        "# df_train = train_df.fillna(train_df.median())\n",
        "\n",
        "\n",
        "# df_train['opened_position_qty '].fillna((df_train['transacted_qty']), inplace=True)\n",
        "\n",
        "# df_train['closed_position_qty'].fillna((0), inplace=True)\n",
        "df_train = train_df.fillna(train_df.median())\n",
        "\n",
        "# df_train['closed_position_qty'].fillna((df_train['transacted_qty'] / 2), inplace=True)\n",
        "\n",
        "\n",
        "df_train['diff'] = (df_train['last_price'] - df_train['mid'])\n",
        "df_train['avg_bid'] = (df_train['bid1'] * df_train['bid1vol'] + df_train['bid2'] * df_train['bid2vol'] + df_train['bid3'] * df_train['bid3vol'] + df_train['bid4'] * df_train['bid4vol'] + df_train['bid5'] * df_train['bid5vol']) / (df_train['bid1vol'] + df_train['bid2vol'] + df_train['bid3vol'] + df_train['bid4vol'] + df_train['bid5vol'])\n",
        "df_train['avg_ask'] = (df_train['ask1'] * df_train['ask1vol'] + df_train['ask2'] * df_train['ask2vol'] + df_train['ask3'] * df_train['ask3vol'] + df_train['ask4'] * df_train['ask4vol'] + df_train['ask5'] * df_train['ask5vol']) / (df_train['ask1vol'] + df_train['ask2vol'] + df_train['ask3vol'] + df_train['ask4vol'] + df_train['ask5vol'])\n",
        "df_train['diff_avg_bid'] = (df_train['mid'] - df_train['avg_bid'])\n",
        "df_train['diff_avg_ask'] = (df_train['mid'] - df_train['avg_ask'])\n",
        "#df_train['diff_avg_bid_ask'] = (df_train['avg_ask'] - df_train['avg_bid'])\n",
        "#X = df_train.drop('y', axis=1)\n",
        "X = df_train.drop(['id', 'y'], axis=1)\n",
        "eff_spread = []\n",
        "\n",
        "for index, row in df_train.iterrows():\n",
        "    \n",
        "    #check buyer initiated\n",
        "    if row['diff_avg_bid'] > row['diff_avg_ask']:\n",
        "        ind = 1\n",
        "    else:\n",
        "        ind = -1\n",
        "        \n",
        "    eff_spread.append(ind * (row['diff']))\n",
        "    \n",
        "\n",
        "df_train['effective_spread'] = eff_spread\n",
        "\n",
        "y = df_train['y']\n",
        "\n",
        "X = df_train.drop(['id', 'y'], axis=1)\n",
        "\n",
        "normalized_X=(X-X.mean())/X.std()\n",
        "\n",
        "\n",
        "X_train, X_test, y_train, y_test = train_test_split(normalized_X, y, test_size=0.2, random_state=0)"
      ],
      "execution_count": 0,
      "outputs": []
    },
    {
      "cell_type": "code",
      "metadata": {
        "id": "QILAiE4-_3he",
        "colab_type": "code",
        "colab": {}
      },
      "source": [
        "\n",
        "X = df_train.drop(['id', 'y'], axis=1)\n",
        "\n",
        "normalized_X=(X-X.mean())/X.std()\n",
        "\n",
        "\n",
        "X_train, X_test, y_train, y_test = train_test_split(normalized_X, y, test_size=0.2, random_state=0)"
      ],
      "execution_count": 0,
      "outputs": []
    },
    {
      "cell_type": "code",
      "metadata": {
        "id": "F-k1QjQ3AGAQ",
        "colab_type": "code",
        "outputId": "7ff3c046-4e89-40c6-b6fd-87448ad4ed32",
        "colab": {
          "base_uri": "https://localhost:8080/",
          "height": 136
        }
      },
      "source": [
        "X_train.columns"
      ],
      "execution_count": 0,
      "outputs": [
        {
          "output_type": "execute_result",
          "data": {
            "text/plain": [
              "Index(['last_price', 'mid', 'opened_position_qty ', 'closed_position_qty',\n",
              "       'transacted_qty', 'd_open_interest', 'bid1', 'bid2', 'bid3', 'bid4',\n",
              "       'bid5', 'ask1', 'ask2', 'ask3', 'ask4', 'ask5', 'bid1vol', 'bid2vol',\n",
              "       'bid3vol', 'bid4vol', 'bid5vol', 'ask1vol', 'ask2vol', 'ask3vol',\n",
              "       'ask4vol', 'ask5vol', 'diff', 'avg_bid', 'avg_ask', 'diff_avg_bid',\n",
              "       'diff_avg_ask', 'effective_spread'],\n",
              "      dtype='object')"
            ]
          },
          "metadata": {
            "tags": []
          },
          "execution_count": 7
        }
      ]
    },
    {
      "cell_type": "code",
      "metadata": {
        "id": "XdrJ_Gpu6_pH",
        "colab_type": "code",
        "outputId": "d7dedd09-c9ed-4f11-ce12-91d14dc3e565",
        "colab": {
          "base_uri": "https://localhost:8080/",
          "height": 349
        }
      },
      "source": [
        "import matplotlib.pyplot as plt\n",
        "import lightgbm as lgb\n",
        "d_train = lgb.Dataset(X_train, label=y_train)\n",
        "param = {\"max_depth\": 5, \"learning_rate\": 0.1, \"num_leaves\": 900, \"n_estimators\": 100}\n",
        "model2 = lgb.train(params=param,train_set=d_train)\n",
        "# print(‘Plot feature importances…’)\n",
        "ax = lgb.plot_importance(model2, max_num_features=10)\n",
        "plt.show()"
      ],
      "execution_count": 0,
      "outputs": [
        {
          "output_type": "stream",
          "text": [
            "/usr/local/lib/python3.6/dist-packages/lightgbm/engine.py:118: UserWarning: Found `n_estimators` in params. Will use it instead of argument\n",
            "  warnings.warn(\"Found `{}` in params. Will use it instead of argument\".format(alias))\n"
          ],
          "name": "stderr"
        },
        {
          "output_type": "display_data",
          "data": {
            "image/png": "[encoded data removed]",
            "text/plain": [
              "<Figure size 432x288 with 1 Axes>"
            ]
          },
          "metadata": {
            "tags": []
          }
        }
      ]
    },
    {
      "cell_type": "code",
      "metadata": {
        "id": "SyMC6vyy__KI",
        "colab_type": "code",
        "outputId": "badf6f02-6138-4353-f9d4-392c400db427",
        "colab": {
          "base_uri": "https://localhost:8080/",
          "height": 136
        }
      },
      "source": [
        "print(X_train.columns)"
      ],
      "execution_count": 0,
      "outputs": [
        {
          "output_type": "stream",
          "text": [
            "Index(['last_price', 'mid', 'opened_position_qty ', 'closed_position_qty',\n",
            "       'transacted_qty', 'd_open_interest', 'bid1', 'bid2', 'bid3', 'bid4',\n",
            "       'bid5', 'ask1', 'ask2', 'ask3', 'ask4', 'ask5', 'bid1vol', 'bid2vol',\n",
            "       'bid3vol', 'bid4vol', 'bid5vol', 'ask1vol', 'ask2vol', 'ask3vol',\n",
            "       'ask4vol', 'ask5vol', 'diff', 'avg_bid', 'avg_ask', 'diff_avg_bid',\n",
            "       'diff_avg_ask', 'diff_avg_bid_ask', 'effective_spread'],\n",
            "      dtype='object')\n"
          ],
          "name": "stdout"
        }
      ]
    },
    {
      "cell_type": "code",
      "metadata": {
        "id": "bHxWCOQl7Ffq",
        "colab_type": "code",
        "outputId": "50e26940-1586-4eca-8ce4-c76cead6bdcf",
        "colab": {
          "base_uri": "https://localhost:8080/",
          "height": 485
        }
      },
      "source": [
        "import matplotlib.pyplot as plt\n",
        "import lightgbm as lgb\n",
        "d_train = lgb.Dataset(X_train, label=y_train)\n",
        "print(X_train.columns)\n",
        "param = {\"max_depth\": 5, \"learning_rate\": 0.1, \"num_leaves\": 900, \"n_estimators\": 100}\n",
        "model2 = lgb.train(params=param,train_set=d_train)\n",
        "# print(‘Plot feature importances…’)\n",
        "plt.figure(figsize=(100,25))\n",
        "ax = lgb.plot_importance(model2, max_num_features=34)\n",
        "plt.show()"
      ],
      "execution_count": 0,
      "outputs": [
        {
          "output_type": "stream",
          "text": [
            "Index(['last_price', 'mid', 'opened_position_qty ', 'closed_position_qty',\n",
            "       'transacted_qty', 'd_open_interest', 'bid1', 'bid2', 'bid3', 'bid4',\n",
            "       'bid5', 'ask1', 'ask2', 'ask3', 'ask4', 'ask5', 'bid1vol', 'bid2vol',\n",
            "       'bid3vol', 'bid4vol', 'bid5vol', 'ask1vol', 'ask2vol', 'ask3vol',\n",
            "       'ask4vol', 'ask5vol', 'diff', 'avg_bid', 'avg_ask', 'diff_avg_bid',\n",
            "       'diff_avg_ask', 'effective_spread'],\n",
            "      dtype='object')\n"
          ],
          "name": "stdout"
        },
        {
          "output_type": "stream",
          "text": [
            "/usr/local/lib/python3.6/dist-packages/lightgbm/engine.py:118: UserWarning: Found `n_estimators` in params. Will use it instead of argument\n",
            "  warnings.warn(\"Found `{}` in params. Will use it instead of argument\".format(alias))\n"
          ],
          "name": "stderr"
        },
        {
          "output_type": "display_data",
          "data": {
            "text/plain": [
              "<Figure size 7200x1800 with 0 Axes>"
            ]
          },
          "metadata": {
            "tags": []
          }
        },
        {
          "output_type": "display_data",
          "data": {
            "image/png": "[encoded data removed]",
            "text/plain": [
              "<Figure size 432x288 with 1 Axes>"
            ]
          },
          "metadata": {
            "tags": []
          }
        }
      ]
    },
    {
      "cell_type": "code",
      "metadata": {
        "id": "3EQB1rojBZ68",
        "colab_type": "code",
        "outputId": "3e4ac0dd-6601-4bec-d979-e35ea665d05f",
        "colab": {
          "base_uri": "https://localhost:8080/",
          "height": 821
        }
      },
      "source": [
        "\n",
        "lgb.create_tree_digraph(model2)"
      ],
      "execution_count": 0,
      "outputs": [
        {
          "output_type": "execute_result",
          "data": {
            "text/plain": [
              "<graphviz.dot.Digraph at 0x7f965b97a908>"
            ],
            "image/svg+xml": "<?xml version=\"1.0\" encoding=\"UTF-8\" standalone=\"no\"?>\n<!DOCTYPE svg PUBLIC \"-//W3C//DTD SVG 1.1//EN\"\n \"http://www.w3.org/Graphics/SVG/1.1/DTD/svg11.dtd\">\n<!-- Generated by graphviz version 2.40.1 (20161225.0304)\n -->\n<!-- Title: %3 Pages: 1 -->\n<svg width=\"10330pt\" height=\"585pt\"\n viewBox=\"0.00 0.00 10329.59 585.44\" xmlns=\"http://www.w3.org/2000/svg\" xmlns:xlink=\"http://www.w3.org/1999/xlink\">\n<g id=\"graph0\" class=\"graph\" transform=\"scale(1 1) rotate(0) translate(4 581.4407)\">\n<title>%3</title>\n<polygon fill=\"#ffffff\" stroke=\"transparent\" points=\"-4,4 -4,-581.4407 10325.5914,-581.4407 10325.5914,4 -4,4\"/>\n<!-- split0 -->\n<g id=\"node1\" class=\"node\">\n<title>split0</title>\n<ellipse fill=\"none\" stroke=\"#000000\" cx=\"5404.3209\" cy=\"-550.5706\" rx=\"150.7276\" ry=\"26.7407\"/>\n<text text-anchor=\"middle\" x=\"5404.3209\" y=\"-554.3706\" font-family=\"Times,serif\" font-size=\"14.00\" fill=\"#000000\">split_feature_name: ask1vol</text>\n<text text-anchor=\"middle\" x=\"5404.3209\" y=\"-539.3706\" font-family=\"Times,serif\" font-size=\"14.00\" fill=\"#000000\">threshold: &#45;0.5299802098329899</text>\n</g>\n<!-- split2 -->\n<g id=\"node2\" class=\"node\">\n<title>split2</title>\n<ellipse fill=\"none\" stroke=\"#000000\" cx=\"3638.3209\" cy=\"-445.8305\" rx=\"165.426\" ry=\"26.7407\"/>\n<text text-anchor=\"middle\" x=\"3638.3209\" y=\"-449.6305\" font-family=\"Times,serif\" font-size=\"14.00\" fill=\"#000000\">split_feature_name: diff</text>\n<text text-anchor=\"middle\" x=\"3638.3209\" y=\"-434.6305\" font-family=\"Times,serif\" font-size=\"14.00\" fill=\"#000000\">threshold: 1.0000000180025095e&#45;35</text>\n</g>\n<!-- split0&#45;&gt;split2 -->\n<g id=\"edge31\" class=\"edge\">\n<title>split0&#45;&gt;split2</title>\n<path fill=\"none\" stroke=\"#000000\" d=\"M5261.2976,-542.088C4937.2688,-522.8701 4148.6485,-476.0977 3804.0521,-455.6599\"/>\n<polygon fill=\"#000000\" stroke=\"#000000\" points=\"3804.1771,-452.1613 3793.9874,-455.063 3803.7626,-459.149 3804.1771,-452.1613\"/>\n<text text-anchor=\"middle\" x=\"4635.8209\" y=\"-494.5006\" font-family=\"Times,serif\" font-size=\"14.00\" fill=\"#000000\">&lt;=</text>\n</g>\n<!-- split1 -->\n<g id=\"node33\" class=\"node\">\n<title>split1</title>\n<ellipse fill=\"none\" stroke=\"#000000\" cx=\"6315.3209\" cy=\"-445.8305\" rx=\"155.627\" ry=\"26.7407\"/>\n<text text-anchor=\"middle\" x=\"6315.3209\" y=\"-449.6305\" font-family=\"Times,serif\" font-size=\"14.00\" fill=\"#000000\">split_feature_name: diff</text>\n<text text-anchor=\"middle\" x=\"6315.3209\" y=\"-434.6305\" font-family=\"Times,serif\" font-size=\"14.00\" fill=\"#000000\">threshold: &#45;0.47271100918774983</text>\n</g>\n<!-- split0&#45;&gt;split1 -->\n<g id=\"edge62\" class=\"edge\">\n<title>split0&#45;&gt;split1</title>\n<path fill=\"none\" stroke=\"#000000\" d=\"M5530.9915,-536.007C5700.4074,-516.5288 5999.7725,-482.11 6175.5839,-461.8965\"/>\n<polygon fill=\"#000000\" stroke=\"#000000\" points=\"6176.1465,-465.3549 6185.6812,-460.7355 6175.3468,-458.4007 6176.1465,-465.3549\"/>\n<text text-anchor=\"middle\" x=\"5919.8209\" y=\"-494.5006\" font-family=\"Times,serif\" font-size=\"14.00\" fill=\"#000000\">&gt;</text>\n</g>\n<!-- split7 -->\n<g id=\"node3\" class=\"node\">\n<title>split7</title>\n<ellipse fill=\"none\" stroke=\"#000000\" cx=\"1863.3209\" cy=\"-341.0904\" rx=\"149.8133\" ry=\"26.7407\"/>\n<text text-anchor=\"middle\" x=\"1863.3209\" y=\"-344.8904\" font-family=\"Times,serif\" font-size=\"14.00\" fill=\"#000000\">split_feature_name: bid1vol</text>\n<text text-anchor=\"middle\" x=\"1863.3209\" y=\"-329.8904\" font-family=\"Times,serif\" font-size=\"14.00\" fill=\"#000000\">threshold: &#45;0.5461919001919112</text>\n</g>\n<!-- split2&#45;&gt;split7 -->\n<g id=\"edge15\" class=\"edge\">\n<title>split2&#45;&gt;split7</title>\n<path fill=\"none\" stroke=\"#000000\" d=\"M3482.745,-436.6502C3145.5678,-416.7539 2350.9086,-369.8622 2016.1927,-350.1111\"/>\n<polygon fill=\"#000000\" stroke=\"#000000\" points=\"2016.1276,-346.6013 2005.9387,-349.5061 2015.7152,-353.5891 2016.1276,-346.6013\"/>\n<text text-anchor=\"middle\" x=\"2865.8209\" y=\"-389.7605\" font-family=\"Times,serif\" font-size=\"14.00\" fill=\"#000000\">&lt;=</text>\n</g>\n<!-- split8 -->\n<g id=\"node18\" class=\"node\">\n<title>split8</title>\n<ellipse fill=\"none\" stroke=\"#000000\" cx=\"3638.3209\" cy=\"-341.0904\" rx=\"149.8133\" ry=\"26.7407\"/>\n<text text-anchor=\"middle\" x=\"3638.3209\" y=\"-344.8904\" font-family=\"Times,serif\" font-size=\"14.00\" fill=\"#000000\">split_feature_name: bid1vol</text>\n<text text-anchor=\"middle\" x=\"3638.3209\" y=\"-329.8904\" font-family=\"Times,serif\" font-size=\"14.00\" fill=\"#000000\">threshold: &#45;0.3119674843097728</text>\n</g>\n<!-- split2&#45;&gt;split8 -->\n<g id=\"edge30\" class=\"edge\">\n<title>split2&#45;&gt;split8</title>\n<path fill=\"none\" stroke=\"#000000\" d=\"M3638.3209,-418.8573C3638.3209,-406.5179 3638.3209,-391.6964 3638.3209,-378.3175\"/>\n<polygon fill=\"#000000\" stroke=\"#000000\" points=\"3641.8209,-377.9721 3638.3209,-367.9722 3634.8209,-377.9722 3641.8209,-377.9721\"/>\n<text text-anchor=\"middle\" x=\"3642.8209\" y=\"-389.7605\" font-family=\"Times,serif\" font-size=\"14.00\" fill=\"#000000\">&gt;</text>\n</g>\n<!-- split24 -->\n<g id=\"node4\" class=\"node\">\n<title>split24</title>\n<ellipse fill=\"none\" stroke=\"#000000\" cx=\"964.3209\" cy=\"-236.3503\" rx=\"150.7276\" ry=\"26.7407\"/>\n<text text-anchor=\"middle\" x=\"964.3209\" y=\"-240.1503\" font-family=\"Times,serif\" font-size=\"14.00\" fill=\"#000000\">split_feature_name: diff_avg_ask</text>\n<text text-anchor=\"middle\" x=\"964.3209\" y=\"-225.1503\" font-family=\"Times,serif\" font-size=\"14.00\" fill=\"#000000\">threshold: &#45;1.3784667853212484</text>\n</g>\n<!-- split7&#45;&gt;split24 -->\n<g id=\"edge7\" class=\"edge\">\n<title>split7&#45;&gt;split24</title>\n<path fill=\"none\" stroke=\"#000000\" d=\"M1737.3722,-326.4165C1569.5288,-306.8615 1273.6502,-272.3894 1100.6913,-252.2384\"/>\n<polygon fill=\"#000000\" stroke=\"#000000\" points=\"1100.8413,-248.7323 1090.5034,-251.0515 1100.0311,-255.6853 1100.8413,-248.7323\"/>\n<text text-anchor=\"middle\" x=\"1476.8209\" y=\"-285.0203\" font-family=\"Times,serif\" font-size=\"14.00\" fill=\"#000000\">&lt;=</text>\n</g>\n<!-- split16 -->\n<g id=\"node11\" class=\"node\">\n<title>split16</title>\n<ellipse fill=\"none\" stroke=\"#000000\" cx=\"1863.3209\" cy=\"-236.3503\" rx=\"150.7276\" ry=\"26.7407\"/>\n<text text-anchor=\"middle\" x=\"1863.3209\" y=\"-240.1503\" font-family=\"Times,serif\" font-size=\"14.00\" fill=\"#000000\">split_feature_name: diff_avg_bid</text>\n<text text-anchor=\"middle\" x=\"1863.3209\" y=\"-225.1503\" font-family=\"Times,serif\" font-size=\"14.00\" fill=\"#000000\">threshold: &#45;0.5601406623710002</text>\n</g>\n<!-- split7&#45;&gt;split16 -->\n<g id=\"edge14\" class=\"edge\">\n<title>split7&#45;&gt;split16</title>\n<path fill=\"none\" stroke=\"#000000\" d=\"M1863.3209,-314.1172C1863.3209,-301.7778 1863.3209,-286.9563 1863.3209,-273.5774\"/>\n<polygon fill=\"#000000\" stroke=\"#000000\" points=\"1866.8209,-273.232 1863.3209,-263.2321 1859.8209,-273.2321 1866.8209,-273.232\"/>\n<text text-anchor=\"middle\" x=\"1867.8209\" y=\"-285.0203\" font-family=\"Times,serif\" font-size=\"14.00\" fill=\"#000000\">&gt;</text>\n</g>\n<!-- split30 -->\n<g id=\"node5\" class=\"node\">\n<title>split30</title>\n<ellipse fill=\"none\" stroke=\"#000000\" cx=\"472.3209\" cy=\"-131.6102\" rx=\"147.5709\" ry=\"26.7407\"/>\n<text text-anchor=\"middle\" x=\"472.3209\" y=\"-135.4102\" font-family=\"Times,serif\" font-size=\"14.00\" fill=\"#000000\">split_feature_name: diff_avg_bid</text>\n<text text-anchor=\"middle\" x=\"472.3209\" y=\"-120.4102\" font-family=\"Times,serif\" font-size=\"14.00\" fill=\"#000000\">threshold: 0.7640335991435561</text>\n</g>\n<!-- split24&#45;&gt;split30 -->\n<g id=\"edge3\" class=\"edge\">\n<title>split24&#45;&gt;split30</title>\n<path fill=\"none\" stroke=\"#000000\" d=\"M867.4112,-215.7195C784.2015,-198.0053 664.4518,-172.5122 578.6302,-154.242\"/>\n<polygon fill=\"#000000\" stroke=\"#000000\" points=\"579.1097,-150.7657 568.6001,-152.1067 577.6521,-157.6123 579.1097,-150.7657\"/>\n<text text-anchor=\"middle\" x=\"756.8209\" y=\"-180.2802\" font-family=\"Times,serif\" font-size=\"14.00\" fill=\"#000000\">&lt;=</text>\n</g>\n<!-- split26 -->\n<g id=\"node8\" class=\"node\">\n<title>split26</title>\n<ellipse fill=\"none\" stroke=\"#000000\" cx=\"964.3209\" cy=\"-131.6102\" rx=\"155.627\" ry=\"26.7407\"/>\n<text text-anchor=\"middle\" x=\"964.3209\" y=\"-135.4102\" font-family=\"Times,serif\" font-size=\"14.00\" fill=\"#000000\">split_feature_name: diff</text>\n<text text-anchor=\"middle\" x=\"964.3209\" y=\"-120.4102\" font-family=\"Times,serif\" font-size=\"14.00\" fill=\"#000000\">threshold: &#45;0.47271100918774983</text>\n</g>\n<!-- split24&#45;&gt;split26 -->\n<g id=\"edge6\" class=\"edge\">\n<title>split24&#45;&gt;split26</title>\n<path fill=\"none\" stroke=\"#000000\" d=\"M964.3209,-209.3771C964.3209,-197.0377 964.3209,-182.2162 964.3209,-168.8373\"/>\n<polygon fill=\"#000000\" stroke=\"#000000\" points=\"967.8209,-168.4919 964.3209,-158.4919 960.8209,-168.492 967.8209,-168.4919\"/>\n<text text-anchor=\"middle\" x=\"968.8209\" y=\"-180.2802\" font-family=\"Times,serif\" font-size=\"14.00\" fill=\"#000000\">&gt;</text>\n</g>\n<!-- leaf0 -->\n<g id=\"node6\" class=\"node\">\n<title>leaf0</title>\n<ellipse fill=\"none\" stroke=\"#000000\" cx=\"151.3209\" cy=\"-26.8701\" rx=\"151.1419\" ry=\"26.7407\"/>\n<text text-anchor=\"middle\" x=\"151.3209\" y=\"-30.6701\" font-family=\"Times,serif\" font-size=\"14.00\" fill=\"#000000\">leaf_index: 0</text>\n<text text-anchor=\"middle\" x=\"151.3209\" y=\"-15.6701\" font-family=\"Times,serif\" font-size=\"14.00\" fill=\"#000000\">leaf_value: 0.3689085609361383</text>\n</g>\n<!-- split30&#45;&gt;leaf0 -->\n<g id=\"edge1\" class=\"edge\">\n<title>split30&#45;&gt;leaf0</title>\n<path fill=\"none\" stroke=\"#000000\" d=\"M400.2822,-108.1044C350.7906,-91.9557 284.9791,-70.4818 233.4505,-53.6684\"/>\n<polygon fill=\"#000000\" stroke=\"#000000\" points=\"234.2662,-50.253 223.6737,-50.4783 232.0947,-56.9077 234.2662,-50.253\"/>\n<text text-anchor=\"middle\" x=\"339.8209\" y=\"-75.5401\" font-family=\"Times,serif\" font-size=\"14.00\" fill=\"#000000\">&lt;=</text>\n</g>\n<!-- leaf31 -->\n<g id=\"node7\" class=\"node\">\n<title>leaf31</title>\n<ellipse fill=\"none\" stroke=\"#000000\" cx=\"472.3209\" cy=\"-26.8701\" rx=\"151.1419\" ry=\"26.7407\"/>\n<text text-anchor=\"middle\" x=\"472.3209\" y=\"-30.6701\" font-family=\"Times,serif\" font-size=\"14.00\" fill=\"#000000\">leaf_index: 31</text>\n<text text-anchor=\"middle\" x=\"472.3209\" y=\"-15.6701\" font-family=\"Times,serif\" font-size=\"14.00\" fill=\"#000000\">leaf_value: 0.3588374336078222</text>\n</g>\n<!-- split30&#45;&gt;leaf31 -->\n<g id=\"edge2\" class=\"edge\">\n<title>split30&#45;&gt;leaf31</title>\n<path fill=\"none\" stroke=\"#000000\" d=\"M472.3209,-104.637C472.3209,-92.2976 472.3209,-77.4761 472.3209,-64.0972\"/>\n<polygon fill=\"#000000\" stroke=\"#000000\" points=\"475.8209,-63.7518 472.3209,-53.7518 468.8209,-63.7519 475.8209,-63.7518\"/>\n<text text-anchor=\"middle\" x=\"476.8209\" y=\"-75.5401\" font-family=\"Times,serif\" font-size=\"14.00\" fill=\"#000000\">&gt;</text>\n</g>\n<!-- leaf25 -->\n<g id=\"node9\" class=\"node\">\n<title>leaf25</title>\n<ellipse fill=\"none\" stroke=\"#000000\" cx=\"793.3209\" cy=\"-26.8701\" rx=\"151.1419\" ry=\"26.7407\"/>\n<text text-anchor=\"middle\" x=\"793.3209\" y=\"-30.6701\" font-family=\"Times,serif\" font-size=\"14.00\" fill=\"#000000\">leaf_index: 25</text>\n<text text-anchor=\"middle\" x=\"793.3209\" y=\"-15.6701\" font-family=\"Times,serif\" font-size=\"14.00\" fill=\"#000000\">leaf_value: 0.3530020237722407</text>\n</g>\n<!-- split26&#45;&gt;leaf25 -->\n<g id=\"edge4\" class=\"edge\">\n<title>split26&#45;&gt;leaf25</title>\n<path fill=\"none\" stroke=\"#000000\" d=\"M922.0512,-105.7194C898.5178,-91.3048 869.0549,-73.2583 844.2565,-58.0689\"/>\n<polygon fill=\"#000000\" stroke=\"#000000\" points=\"846.0525,-55.0647 835.6969,-52.826 842.3963,-61.0339 846.0525,-55.0647\"/>\n<text text-anchor=\"middle\" x=\"897.8209\" y=\"-75.5401\" font-family=\"Times,serif\" font-size=\"14.00\" fill=\"#000000\">&lt;=</text>\n</g>\n<!-- leaf27 -->\n<g id=\"node10\" class=\"node\">\n<title>leaf27</title>\n<ellipse fill=\"none\" stroke=\"#000000\" cx=\"1114.3209\" cy=\"-26.8701\" rx=\"151.1419\" ry=\"26.7407\"/>\n<text text-anchor=\"middle\" x=\"1114.3209\" y=\"-30.6701\" font-family=\"Times,serif\" font-size=\"14.00\" fill=\"#000000\">leaf_index: 27</text>\n<text text-anchor=\"middle\" x=\"1114.3209\" y=\"-15.6701\" font-family=\"Times,serif\" font-size=\"14.00\" fill=\"#000000\">leaf_value: 0.3604774834216134</text>\n</g>\n<!-- split26&#45;&gt;leaf27 -->\n<g id=\"edge5\" class=\"edge\">\n<title>split26&#45;&gt;leaf27</title>\n<path fill=\"none\" stroke=\"#000000\" d=\"M1001.7853,-105.45C1022.0093,-91.3282 1047.1396,-73.7806 1068.5189,-58.8521\"/>\n<polygon fill=\"#000000\" stroke=\"#000000\" points=\"1070.619,-61.6545 1076.8142,-53.0597 1066.6114,-55.9152 1070.619,-61.6545\"/>\n<text text-anchor=\"middle\" x=\"1052.8209\" y=\"-75.5401\" font-family=\"Times,serif\" font-size=\"14.00\" fill=\"#000000\">&gt;</text>\n</g>\n<!-- split25 -->\n<g id=\"node12\" class=\"node\">\n<title>split25</title>\n<ellipse fill=\"none\" stroke=\"#000000\" cx=\"1771.3209\" cy=\"-131.6102\" rx=\"146.2423\" ry=\"26.7407\"/>\n<text text-anchor=\"middle\" x=\"1771.3209\" y=\"-135.4102\" font-family=\"Times,serif\" font-size=\"14.00\" fill=\"#000000\">split_feature_name: diff_avg_ask</text>\n<text text-anchor=\"middle\" x=\"1771.3209\" y=\"-120.4102\" font-family=\"Times,serif\" font-size=\"14.00\" fill=\"#000000\">threshold: &#45;1.412032174945786</text>\n</g>\n<!-- split16&#45;&gt;split25 -->\n<g id=\"edge10\" class=\"edge\">\n<title>split16&#45;&gt;split25</title>\n<path fill=\"none\" stroke=\"#000000\" d=\"M1839.8673,-209.6489C1828.1885,-196.3528 1813.9336,-180.1239 1801.4542,-165.9164\"/>\n<polygon fill=\"#000000\" stroke=\"#000000\" points=\"1803.9606,-163.4662 1794.7316,-158.2628 1798.7013,-168.0858 1803.9606,-163.4662\"/>\n<text text-anchor=\"middle\" x=\"1831.8209\" y=\"-180.2802\" font-family=\"Times,serif\" font-size=\"14.00\" fill=\"#000000\">&lt;=</text>\n</g>\n<!-- split28 -->\n<g id=\"node15\" class=\"node\">\n<title>split28</title>\n<ellipse fill=\"none\" stroke=\"#000000\" cx=\"2097.3209\" cy=\"-131.6102\" rx=\"147.5709\" ry=\"26.7407\"/>\n<text text-anchor=\"middle\" x=\"2097.3209\" y=\"-135.4102\" font-family=\"Times,serif\" font-size=\"14.00\" fill=\"#000000\">split_feature_name: diff_avg_bid</text>\n<text text-anchor=\"middle\" x=\"2097.3209\" y=\"-120.4102\" font-family=\"Times,serif\" font-size=\"14.00\" fill=\"#000000\">threshold: 0.7967127927073909</text>\n</g>\n<!-- split16&#45;&gt;split28 -->\n<g id=\"edge13\" class=\"edge\">\n<title>split16&#45;&gt;split28</title>\n<path fill=\"none\" stroke=\"#000000\" d=\"M1919.3697,-211.2624C1953.2537,-196.0957 1996.6003,-176.6934 2032.0286,-160.8355\"/>\n<polygon fill=\"#000000\" stroke=\"#000000\" points=\"2033.6269,-163.9548 2041.3243,-156.6746 2030.767,-157.5656 2033.6269,-163.9548\"/>\n<text text-anchor=\"middle\" x=\"1999.8209\" y=\"-180.2802\" font-family=\"Times,serif\" font-size=\"14.00\" fill=\"#000000\">&gt;</text>\n</g>\n<!-- leaf8 -->\n<g id=\"node13\" class=\"node\">\n<title>leaf8</title>\n<ellipse fill=\"none\" stroke=\"#000000\" cx=\"1440.3209\" cy=\"-26.8701\" rx=\"156.0415\" ry=\"26.7407\"/>\n<text text-anchor=\"middle\" x=\"1440.3209\" y=\"-30.6701\" font-family=\"Times,serif\" font-size=\"14.00\" fill=\"#000000\">leaf_index: 8</text>\n<text text-anchor=\"middle\" x=\"1440.3209\" y=\"-15.6701\" font-family=\"Times,serif\" font-size=\"14.00\" fill=\"#000000\">leaf_value: 0.38137377155928087</text>\n</g>\n<!-- split25&#45;&gt;leaf8 -->\n<g id=\"edge8\" class=\"edge\">\n<title>split25&#45;&gt;leaf8</title>\n<path fill=\"none\" stroke=\"#000000\" d=\"M1697.8612,-108.3649C1646.6711,-92.1666 1578.2554,-70.5174 1524.8054,-53.6039\"/>\n<polygon fill=\"#000000\" stroke=\"#000000\" points=\"1525.5968,-50.1834 1515.0067,-50.5033 1523.4849,-56.8572 1525.5968,-50.1834\"/>\n<text text-anchor=\"middle\" x=\"1634.8209\" y=\"-75.5401\" font-family=\"Times,serif\" font-size=\"14.00\" fill=\"#000000\">&lt;=</text>\n</g>\n<!-- leaf26 -->\n<g id=\"node14\" class=\"node\">\n<title>leaf26</title>\n<ellipse fill=\"none\" stroke=\"#000000\" cx=\"1771.3209\" cy=\"-26.8701\" rx=\"156.0415\" ry=\"26.7407\"/>\n<text text-anchor=\"middle\" x=\"1771.3209\" y=\"-30.6701\" font-family=\"Times,serif\" font-size=\"14.00\" fill=\"#000000\">leaf_index: 26</text>\n<text text-anchor=\"middle\" x=\"1771.3209\" y=\"-15.6701\" font-family=\"Times,serif\" font-size=\"14.00\" fill=\"#000000\">leaf_value: 0.36924343605674437</text>\n</g>\n<!-- split25&#45;&gt;leaf26 -->\n<g id=\"edge9\" class=\"edge\">\n<title>split25&#45;&gt;leaf26</title>\n<path fill=\"none\" stroke=\"#000000\" d=\"M1771.3209,-104.637C1771.3209,-92.2976 1771.3209,-77.4761 1771.3209,-64.0972\"/>\n<polygon fill=\"#000000\" stroke=\"#000000\" points=\"1774.8209,-63.7518 1771.3209,-53.7518 1767.8209,-63.7519 1774.8209,-63.7518\"/>\n<text text-anchor=\"middle\" x=\"1775.8209\" y=\"-75.5401\" font-family=\"Times,serif\" font-size=\"14.00\" fill=\"#000000\">&gt;</text>\n</g>\n<!-- leaf17 -->\n<g id=\"node16\" class=\"node\">\n<title>leaf17</title>\n<ellipse fill=\"none\" stroke=\"#000000\" cx=\"2097.3209\" cy=\"-26.8701\" rx=\"151.1419\" ry=\"26.7407\"/>\n<text text-anchor=\"middle\" x=\"2097.3209\" y=\"-30.6701\" font-family=\"Times,serif\" font-size=\"14.00\" fill=\"#000000\">leaf_index: 17</text>\n<text text-anchor=\"middle\" x=\"2097.3209\" y=\"-15.6701\" font-family=\"Times,serif\" font-size=\"14.00\" fill=\"#000000\">leaf_value: 0.3647308633141261</text>\n</g>\n<!-- split28&#45;&gt;leaf17 -->\n<g id=\"edge11\" class=\"edge\">\n<title>split28&#45;&gt;leaf17</title>\n<path fill=\"none\" stroke=\"#000000\" d=\"M2097.3209,-104.637C2097.3209,-92.2976 2097.3209,-77.4761 2097.3209,-64.0972\"/>\n<polygon fill=\"#000000\" stroke=\"#000000\" points=\"2100.8209,-63.7518 2097.3209,-53.7518 2093.8209,-63.7519 2100.8209,-63.7518\"/>\n<text text-anchor=\"middle\" x=\"2105.8209\" y=\"-75.5401\" font-family=\"Times,serif\" font-size=\"14.00\" fill=\"#000000\">&lt;=</text>\n</g>\n<!-- leaf29 -->\n<g id=\"node17\" class=\"node\">\n<title>leaf29</title>\n<ellipse fill=\"none\" stroke=\"#000000\" cx=\"2418.3209\" cy=\"-26.8701\" rx=\"151.1419\" ry=\"26.7407\"/>\n<text text-anchor=\"middle\" x=\"2418.3209\" y=\"-30.6701\" font-family=\"Times,serif\" font-size=\"14.00\" fill=\"#000000\">leaf_index: 29</text>\n<text text-anchor=\"middle\" x=\"2418.3209\" y=\"-15.6701\" font-family=\"Times,serif\" font-size=\"14.00\" fill=\"#000000\">leaf_value: 0.3597284648491862</text>\n</g>\n<!-- split28&#45;&gt;leaf29 -->\n<g id=\"edge12\" class=\"edge\">\n<title>split28&#45;&gt;leaf29</title>\n<path fill=\"none\" stroke=\"#000000\" d=\"M2169.3595,-108.1044C2218.8511,-91.9557 2284.6626,-70.4818 2336.1912,-53.6684\"/>\n<polygon fill=\"#000000\" stroke=\"#000000\" points=\"2337.547,-56.9077 2345.968,-50.4783 2335.3755,-50.253 2337.547,-56.9077\"/>\n<text text-anchor=\"middle\" x=\"2281.8209\" y=\"-75.5401\" font-family=\"Times,serif\" font-size=\"14.00\" fill=\"#000000\">&gt;</text>\n</g>\n<!-- split13 -->\n<g id=\"node19\" class=\"node\">\n<title>split13</title>\n<ellipse fill=\"none\" stroke=\"#000000\" cx=\"3431.3209\" cy=\"-236.3503\" rx=\"150.7276\" ry=\"26.7407\"/>\n<text text-anchor=\"middle\" x=\"3431.3209\" y=\"-240.1503\" font-family=\"Times,serif\" font-size=\"14.00\" fill=\"#000000\">split_feature_name: diff_avg_ask</text>\n<text text-anchor=\"middle\" x=\"3431.3209\" y=\"-225.1503\" font-family=\"Times,serif\" font-size=\"14.00\" fill=\"#000000\">threshold: &#45;0.8909694599047998</text>\n</g>\n<!-- split8&#45;&gt;split13 -->\n<g id=\"edge22\" class=\"edge\">\n<title>split8&#45;&gt;split13</title>\n<path fill=\"none\" stroke=\"#000000\" d=\"M3588.2119,-315.7357C3558.8082,-300.8577 3521.4875,-281.9738 3490.6233,-266.3568\"/>\n<polygon fill=\"#000000\" stroke=\"#000000\" points=\"3492.1888,-263.2264 3481.6858,-261.8345 3489.0284,-269.4724 3492.1888,-263.2264\"/>\n<text text-anchor=\"middle\" x=\"3555.8209\" y=\"-285.0203\" font-family=\"Times,serif\" font-size=\"14.00\" fill=\"#000000\">&lt;=</text>\n</g>\n<!-- split18 -->\n<g id=\"node26\" class=\"node\">\n<title>split18</title>\n<ellipse fill=\"none\" stroke=\"#000000\" cx=\"4202.3209\" cy=\"-236.3503\" rx=\"147.5709\" ry=\"26.7407\"/>\n<text text-anchor=\"middle\" x=\"4202.3209\" y=\"-240.1503\" font-family=\"Times,serif\" font-size=\"14.00\" fill=\"#000000\">split_feature_name: diff</text>\n<text text-anchor=\"middle\" x=\"4202.3209\" y=\"-225.1503\" font-family=\"Times,serif\" font-size=\"14.00\" fill=\"#000000\">threshold: 1.8801675494300243</text>\n</g>\n<!-- split8&#45;&gt;split18 -->\n<g id=\"edge29\" class=\"edge\">\n<title>split8&#45;&gt;split18</title>\n<path fill=\"none\" stroke=\"#000000\" d=\"M3742.7536,-321.6963C3840.9044,-303.4687 3987.4389,-276.2559 4088.5279,-257.4827\"/>\n<polygon fill=\"#000000\" stroke=\"#000000\" points=\"4089.2791,-260.9031 4098.472,-255.636 4088.001,-254.0208 4089.2791,-260.9031\"/>\n<text text-anchor=\"middle\" x=\"3958.8209\" y=\"-285.0203\" font-family=\"Times,serif\" font-size=\"14.00\" fill=\"#000000\">&gt;</text>\n</g>\n<!-- split27 -->\n<g id=\"node20\" class=\"node\">\n<title>split27</title>\n<ellipse fill=\"none\" stroke=\"#000000\" cx=\"3065.3209\" cy=\"-131.6102\" rx=\"136.4432\" ry=\"26.7407\"/>\n<text text-anchor=\"middle\" x=\"3065.3209\" y=\"-135.4102\" font-family=\"Times,serif\" font-size=\"14.00\" fill=\"#000000\">split_feature_name: diff</text>\n<text text-anchor=\"middle\" x=\"3065.3209\" y=\"-120.4102\" font-family=\"Times,serif\" font-size=\"14.00\" fill=\"#000000\">threshold: 2.35074326114288</text>\n</g>\n<!-- split13&#45;&gt;split27 -->\n<g id=\"edge18\" class=\"edge\">\n<title>split13&#45;&gt;split27</title>\n<path fill=\"none\" stroke=\"#000000\" d=\"M3351.4529,-213.4941C3292.7757,-196.7021 3213.095,-173.8995 3152.7186,-156.6213\"/>\n<polygon fill=\"#000000\" stroke=\"#000000\" points=\"3153.3987,-153.1754 3142.8216,-153.789 3151.4727,-159.9053 3153.3987,-153.1754\"/>\n<text text-anchor=\"middle\" x=\"3278.8209\" y=\"-180.2802\" font-family=\"Times,serif\" font-size=\"14.00\" fill=\"#000000\">&lt;=</text>\n</g>\n<!-- split23 -->\n<g id=\"node23\" class=\"node\">\n<title>split23</title>\n<ellipse fill=\"none\" stroke=\"#000000\" cx=\"3431.3209\" cy=\"-131.6102\" rx=\"149.8133\" ry=\"26.7407\"/>\n<text text-anchor=\"middle\" x=\"3431.3209\" y=\"-135.4102\" font-family=\"Times,serif\" font-size=\"14.00\" fill=\"#000000\">split_feature_name: bid1vol</text>\n<text text-anchor=\"middle\" x=\"3431.3209\" y=\"-120.4102\" font-family=\"Times,serif\" font-size=\"14.00\" fill=\"#000000\">threshold: &#45;0.5461919001919112</text>\n</g>\n<!-- split13&#45;&gt;split23 -->\n<g id=\"edge21\" class=\"edge\">\n<title>split13&#45;&gt;split23</title>\n<path fill=\"none\" stroke=\"#000000\" d=\"M3431.3209,-209.3771C3431.3209,-197.0377 3431.3209,-182.2162 3431.3209,-168.8373\"/>\n<polygon fill=\"#000000\" stroke=\"#000000\" points=\"3434.8209,-168.4919 3431.3209,-158.4919 3427.8209,-168.492 3434.8209,-168.4919\"/>\n<text text-anchor=\"middle\" x=\"3435.8209\" y=\"-180.2802\" font-family=\"Times,serif\" font-size=\"14.00\" fill=\"#000000\">&gt;</text>\n</g>\n<!-- leaf3 -->\n<g id=\"node21\" class=\"node\">\n<title>leaf3</title>\n<ellipse fill=\"none\" stroke=\"#000000\" cx=\"2739.3209\" cy=\"-26.8701\" rx=\"151.1419\" ry=\"26.7407\"/>\n<text text-anchor=\"middle\" x=\"2739.3209\" y=\"-30.6701\" font-family=\"Times,serif\" font-size=\"14.00\" fill=\"#000000\">leaf_index: 3</text>\n<text text-anchor=\"middle\" x=\"2739.3209\" y=\"-15.6701\" font-family=\"Times,serif\" font-size=\"14.00\" fill=\"#000000\">leaf_value: 0.3766479079765858</text>\n</g>\n<!-- split27&#45;&gt;leaf3 -->\n<g id=\"edge16\" class=\"edge\">\n<title>split27&#45;&gt;leaf3</title>\n<path fill=\"none\" stroke=\"#000000\" d=\"M2993.7788,-108.6245C2943.2269,-92.3828 2875.3226,-70.5659 2822.3759,-53.5547\"/>\n<polygon fill=\"#000000\" stroke=\"#000000\" points=\"2823.2626,-50.1634 2812.6713,-50.4367 2821.1213,-56.8279 2823.2626,-50.1634\"/>\n<text text-anchor=\"middle\" x=\"2930.8209\" y=\"-75.5401\" font-family=\"Times,serif\" font-size=\"14.00\" fill=\"#000000\">&lt;=</text>\n</g>\n<!-- leaf28 -->\n<g id=\"node22\" class=\"node\">\n<title>leaf28</title>\n<ellipse fill=\"none\" stroke=\"#000000\" cx=\"3065.3209\" cy=\"-26.8701\" rx=\"156.0415\" ry=\"26.7407\"/>\n<text text-anchor=\"middle\" x=\"3065.3209\" y=\"-30.6701\" font-family=\"Times,serif\" font-size=\"14.00\" fill=\"#000000\">leaf_index: 28</text>\n<text text-anchor=\"middle\" x=\"3065.3209\" y=\"-15.6701\" font-family=\"Times,serif\" font-size=\"14.00\" fill=\"#000000\">leaf_value: 0.39041243404621917</text>\n</g>\n<!-- split27&#45;&gt;leaf28 -->\n<g id=\"edge17\" class=\"edge\">\n<title>split27&#45;&gt;leaf28</title>\n<path fill=\"none\" stroke=\"#000000\" d=\"M3065.3209,-104.637C3065.3209,-92.2976 3065.3209,-77.4761 3065.3209,-64.0972\"/>\n<polygon fill=\"#000000\" stroke=\"#000000\" points=\"3068.8209,-63.7518 3065.3209,-53.7518 3061.8209,-63.7519 3068.8209,-63.7518\"/>\n<text text-anchor=\"middle\" x=\"3069.8209\" y=\"-75.5401\" font-family=\"Times,serif\" font-size=\"14.00\" fill=\"#000000\">&gt;</text>\n</g>\n<!-- leaf14 -->\n<g id=\"node24\" class=\"node\">\n<title>leaf14</title>\n<ellipse fill=\"none\" stroke=\"#000000\" cx=\"3396.3209\" cy=\"-26.8701\" rx=\"156.0415\" ry=\"26.7407\"/>\n<text text-anchor=\"middle\" x=\"3396.3209\" y=\"-30.6701\" font-family=\"Times,serif\" font-size=\"14.00\" fill=\"#000000\">leaf_index: 14</text>\n<text text-anchor=\"middle\" x=\"3396.3209\" y=\"-15.6701\" font-family=\"Times,serif\" font-size=\"14.00\" fill=\"#000000\">leaf_value: 0.36447368953164067</text>\n</g>\n<!-- split23&#45;&gt;leaf14 -->\n<g id=\"edge19\" class=\"edge\">\n<title>split23&#45;&gt;leaf14</title>\n<path fill=\"none\" stroke=\"#000000\" d=\"M3422.3075,-104.637C3418.1025,-92.0532 3413.0349,-76.8881 3408.4957,-63.3041\"/>\n<polygon fill=\"#000000\" stroke=\"#000000\" points=\"3411.7927,-62.127 3405.3037,-53.7518 3405.1535,-64.3456 3411.7927,-62.127\"/>\n<text text-anchor=\"middle\" x=\"3424.8209\" y=\"-75.5401\" font-family=\"Times,serif\" font-size=\"14.00\" fill=\"#000000\">&lt;=</text>\n</g>\n<!-- leaf24 -->\n<g id=\"node25\" class=\"node\">\n<title>leaf24</title>\n<ellipse fill=\"none\" stroke=\"#000000\" cx=\"3722.3209\" cy=\"-26.8701\" rx=\"151.1419\" ry=\"26.7407\"/>\n<text text-anchor=\"middle\" x=\"3722.3209\" y=\"-30.6701\" font-family=\"Times,serif\" font-size=\"14.00\" fill=\"#000000\">leaf_index: 24</text>\n<text text-anchor=\"middle\" x=\"3722.3209\" y=\"-15.6701\" font-family=\"Times,serif\" font-size=\"14.00\" fill=\"#000000\">leaf_value: 0.3710695980520332</text>\n</g>\n<!-- split23&#45;&gt;leaf24 -->\n<g id=\"edge20\" class=\"edge\">\n<title>split23&#45;&gt;leaf24</title>\n<path fill=\"none\" stroke=\"#000000\" d=\"M3498.4475,-107.4492C3542.403,-91.6282 3599.9604,-70.9115 3645.7069,-54.4459\"/>\n<polygon fill=\"#000000\" stroke=\"#000000\" points=\"3647.0565,-57.68 3655.2802,-51.0001 3644.6858,-51.0936 3647.0565,-57.68\"/>\n<text text-anchor=\"middle\" x=\"3598.8209\" y=\"-75.5401\" font-family=\"Times,serif\" font-size=\"14.00\" fill=\"#000000\">&gt;</text>\n</g>\n<!-- split22 -->\n<g id=\"node27\" class=\"node\">\n<title>split22</title>\n<ellipse fill=\"none\" stroke=\"#000000\" cx=\"4202.3209\" cy=\"-131.6102\" rx=\"150.7276\" ry=\"26.7407\"/>\n<text text-anchor=\"middle\" x=\"4202.3209\" y=\"-135.4102\" font-family=\"Times,serif\" font-size=\"14.00\" fill=\"#000000\">split_feature_name: diff_avg_ask</text>\n<text text-anchor=\"middle\" x=\"4202.3209\" y=\"-120.4102\" font-family=\"Times,serif\" font-size=\"14.00\" fill=\"#000000\">threshold: &#45;1.4844627525421539</text>\n</g>\n<!-- split18&#45;&gt;split22 -->\n<g id=\"edge25\" class=\"edge\">\n<title>split18&#45;&gt;split22</title>\n<path fill=\"none\" stroke=\"#000000\" d=\"M4202.3209,-209.3771C4202.3209,-197.0377 4202.3209,-182.2162 4202.3209,-168.8373\"/>\n<polygon fill=\"#000000\" stroke=\"#000000\" points=\"4205.8209,-168.4919 4202.3209,-158.4919 4198.8209,-168.492 4205.8209,-168.4919\"/>\n<text text-anchor=\"middle\" x=\"4210.8209\" y=\"-180.2802\" font-family=\"Times,serif\" font-size=\"14.00\" fill=\"#000000\">&lt;=</text>\n</g>\n<!-- split29 -->\n<g id=\"node30\" class=\"node\">\n<title>split29</title>\n<ellipse fill=\"none\" stroke=\"#000000\" cx=\"4704.3209\" cy=\"-131.6102\" rx=\"147.5709\" ry=\"26.7407\"/>\n<text text-anchor=\"middle\" x=\"4704.3209\" y=\"-135.4102\" font-family=\"Times,serif\" font-size=\"14.00\" fill=\"#000000\">split_feature_name: diff_avg_bid</text>\n<text text-anchor=\"middle\" x=\"4704.3209\" y=\"-120.4102\" font-family=\"Times,serif\" font-size=\"14.00\" fill=\"#000000\">threshold: 0.2269017748296816</text>\n</g>\n<!-- split18&#45;&gt;split29 -->\n<g id=\"edge28\" class=\"edge\">\n<title>split18&#45;&gt;split29</title>\n<path fill=\"none\" stroke=\"#000000\" d=\"M4299.7067,-216.0311C4385.0902,-198.2163 4509.008,-172.3613 4597.1757,-153.9655\"/>\n<polygon fill=\"#000000\" stroke=\"#000000\" points=\"4598.1317,-157.3415 4607.206,-151.8728 4596.7019,-150.4891 4598.1317,-157.3415\"/>\n<text text-anchor=\"middle\" x=\"4488.8209\" y=\"-180.2802\" font-family=\"Times,serif\" font-size=\"14.00\" fill=\"#000000\">&gt;</text>\n</g>\n<!-- leaf9 -->\n<g id=\"node28\" class=\"node\">\n<title>leaf9</title>\n<ellipse fill=\"none\" stroke=\"#000000\" cx=\"4048.3209\" cy=\"-26.8701\" rx=\"156.0415\" ry=\"26.7407\"/>\n<text text-anchor=\"middle\" x=\"4048.3209\" y=\"-30.6701\" font-family=\"Times,serif\" font-size=\"14.00\" fill=\"#000000\">leaf_index: 9</text>\n<text text-anchor=\"middle\" x=\"4048.3209\" y=\"-15.6701\" font-family=\"Times,serif\" font-size=\"14.00\" fill=\"#000000\">leaf_value: 0.38647852171773367</text>\n</g>\n<!-- split22&#45;&gt;leaf9 -->\n<g id=\"edge23\" class=\"edge\">\n<title>split22&#45;&gt;leaf9</title>\n<path fill=\"none\" stroke=\"#000000\" d=\"M4163.8574,-105.45C4143.094,-91.3282 4117.2936,-73.7806 4095.3442,-58.8521\"/>\n<polygon fill=\"#000000\" stroke=\"#000000\" points=\"4097.0648,-55.7895 4086.8277,-53.0597 4093.1281,-61.5777 4097.0648,-55.7895\"/>\n<text text-anchor=\"middle\" x=\"4143.8209\" y=\"-75.5401\" font-family=\"Times,serif\" font-size=\"14.00\" fill=\"#000000\">&lt;=</text>\n</g>\n<!-- leaf23 -->\n<g id=\"node29\" class=\"node\">\n<title>leaf23</title>\n<ellipse fill=\"none\" stroke=\"#000000\" cx=\"4379.3209\" cy=\"-26.8701\" rx=\"156.0415\" ry=\"26.7407\"/>\n<text text-anchor=\"middle\" x=\"4379.3209\" y=\"-30.6701\" font-family=\"Times,serif\" font-size=\"14.00\" fill=\"#000000\">leaf_index: 23</text>\n<text text-anchor=\"middle\" x=\"4379.3209\" y=\"-15.6701\" font-family=\"Times,serif\" font-size=\"14.00\" fill=\"#000000\">leaf_value: 0.37724868015607615</text>\n</g>\n<!-- split22&#45;&gt;leaf23 -->\n<g id=\"edge24\" class=\"edge\">\n<title>split22&#45;&gt;leaf23</title>\n<path fill=\"none\" stroke=\"#000000\" d=\"M4246.0737,-105.7194C4270.4327,-91.3048 4300.9295,-73.2583 4326.598,-58.0689\"/>\n<polygon fill=\"#000000\" stroke=\"#000000\" points=\"4328.6343,-60.9309 4335.4579,-52.826 4325.0694,-54.9066 4328.6343,-60.9309\"/>\n<text text-anchor=\"middle\" x=\"4306.8209\" y=\"-75.5401\" font-family=\"Times,serif\" font-size=\"14.00\" fill=\"#000000\">&gt;</text>\n</g>\n<!-- leaf19 -->\n<g id=\"node31\" class=\"node\">\n<title>leaf19</title>\n<ellipse fill=\"none\" stroke=\"#000000\" cx=\"4704.3209\" cy=\"-26.8701\" rx=\"150.7276\" ry=\"26.7407\"/>\n<text text-anchor=\"middle\" x=\"4704.3209\" y=\"-30.6701\" font-family=\"Times,serif\" font-size=\"14.00\" fill=\"#000000\">leaf_index: 19</text>\n<text text-anchor=\"middle\" x=\"4704.3209\" y=\"-15.6701\" font-family=\"Times,serif\" font-size=\"14.00\" fill=\"#000000\">leaf_value: 0.3958762510247119</text>\n</g>\n<!-- split29&#45;&gt;leaf19 -->\n<g id=\"edge26\" class=\"edge\">\n<title>split29&#45;&gt;leaf19</title>\n<path fill=\"none\" stroke=\"#000000\" d=\"M4704.3209,-104.637C4704.3209,-92.2976 4704.3209,-77.4761 4704.3209,-64.0972\"/>\n<polygon fill=\"#000000\" stroke=\"#000000\" points=\"4707.8209,-63.7518 4704.3209,-53.7518 4700.8209,-63.7519 4707.8209,-63.7518\"/>\n<text text-anchor=\"middle\" x=\"4712.8209\" y=\"-75.5401\" font-family=\"Times,serif\" font-size=\"14.00\" fill=\"#000000\">&lt;=</text>\n</g>\n<!-- leaf30 -->\n<g id=\"node32\" class=\"node\">\n<title>leaf30</title>\n<ellipse fill=\"none\" stroke=\"#000000\" cx=\"5029.3209\" cy=\"-26.8701\" rx=\"156.0415\" ry=\"26.7407\"/>\n<text text-anchor=\"middle\" x=\"5029.3209\" y=\"-30.6701\" font-family=\"Times,serif\" font-size=\"14.00\" fill=\"#000000\">leaf_index: 30</text>\n<text text-anchor=\"middle\" x=\"5029.3209\" y=\"-15.6701\" font-family=\"Times,serif\" font-size=\"14.00\" fill=\"#000000\">leaf_value: 0.38213177556770883</text>\n</g>\n<!-- split29&#45;&gt;leaf30 -->\n<g id=\"edge27\" class=\"edge\">\n<title>split29&#45;&gt;leaf30</title>\n<path fill=\"none\" stroke=\"#000000\" d=\"M4777.2572,-108.1044C4827.2935,-91.9789 4893.8056,-70.5435 4945.9428,-53.7409\"/>\n<polygon fill=\"#000000\" stroke=\"#000000\" points=\"4947.0592,-57.0585 4955.5035,-50.6597 4944.9119,-50.3959 4947.0592,-57.0585\"/>\n<text text-anchor=\"middle\" x=\"4890.8209\" y=\"-75.5401\" font-family=\"Times,serif\" font-size=\"14.00\" fill=\"#000000\">&gt;</text>\n</g>\n<!-- split4 -->\n<g id=\"node34\" class=\"node\">\n<title>split4</title>\n<ellipse fill=\"none\" stroke=\"#000000\" cx=\"6315.3209\" cy=\"-341.0904\" rx=\"149.8133\" ry=\"26.7407\"/>\n<text text-anchor=\"middle\" x=\"6315.3209\" y=\"-344.8904\" font-family=\"Times,serif\" font-size=\"14.00\" fill=\"#000000\">split_feature_name: bid1vol</text>\n<text text-anchor=\"middle\" x=\"6315.3209\" y=\"-329.8904\" font-family=\"Times,serif\" font-size=\"14.00\" fill=\"#000000\">threshold: &#45;0.3119674843097728</text>\n</g>\n<!-- split1&#45;&gt;split4 -->\n<g id=\"edge46\" class=\"edge\">\n<title>split1&#45;&gt;split4</title>\n<path fill=\"none\" stroke=\"#000000\" d=\"M6315.3209,-418.8573C6315.3209,-406.5179 6315.3209,-391.6964 6315.3209,-378.3175\"/>\n<polygon fill=\"#000000\" stroke=\"#000000\" points=\"6318.8209,-377.9721 6315.3209,-367.9722 6311.8209,-377.9722 6318.8209,-377.9721\"/>\n<text text-anchor=\"middle\" x=\"6323.8209\" y=\"-389.7605\" font-family=\"Times,serif\" font-size=\"14.00\" fill=\"#000000\">&lt;=</text>\n</g>\n<!-- split3 -->\n<g id=\"node49\" class=\"node\">\n<title>split3</title>\n<ellipse fill=\"none\" stroke=\"#000000\" cx=\"8304.3209\" cy=\"-341.0904\" rx=\"165.426\" ry=\"26.7407\"/>\n<text text-anchor=\"middle\" x=\"8304.3209\" y=\"-344.8904\" font-family=\"Times,serif\" font-size=\"14.00\" fill=\"#000000\">split_feature_name: ask1vol</text>\n<text text-anchor=\"middle\" x=\"8304.3209\" y=\"-329.8904\" font-family=\"Times,serif\" font-size=\"14.00\" fill=\"#000000\">threshold: 1.0000000180025095e&#45;35</text>\n</g>\n<!-- split1&#45;&gt;split3 -->\n<g id=\"edge61\" class=\"edge\">\n<title>split1&#45;&gt;split3</title>\n<path fill=\"none\" stroke=\"#000000\" d=\"M6464.4122,-437.9794C6827.4487,-418.862 7755.4305,-369.9948 8136.8053,-349.9117\"/>\n<polygon fill=\"#000000\" stroke=\"#000000\" points=\"8137.0184,-353.4054 8146.8205,-349.3843 8136.6502,-346.4151 8137.0184,-353.4054\"/>\n<text text-anchor=\"middle\" x=\"7433.8209\" y=\"-389.7605\" font-family=\"Times,serif\" font-size=\"14.00\" fill=\"#000000\">&gt;</text>\n</g>\n<!-- split11 -->\n<g id=\"node35\" class=\"node\">\n<title>split11</title>\n<ellipse fill=\"none\" stroke=\"#000000\" cx=\"6073.3209\" cy=\"-236.3503\" rx=\"147.5709\" ry=\"26.7407\"/>\n<text text-anchor=\"middle\" x=\"6073.3209\" y=\"-240.1503\" font-family=\"Times,serif\" font-size=\"14.00\" fill=\"#000000\">split_feature_name: diff_avg_ask</text>\n<text text-anchor=\"middle\" x=\"6073.3209\" y=\"-225.1503\" font-family=\"Times,serif\" font-size=\"14.00\" fill=\"#000000\">threshold: 0.5993092491682451</text>\n</g>\n<!-- split4&#45;&gt;split11 -->\n<g id=\"edge38\" class=\"edge\">\n<title>split4&#45;&gt;split11</title>\n<path fill=\"none\" stroke=\"#000000\" d=\"M6257.6633,-316.1356C6222.3502,-300.8517 6177.0129,-281.2293 6140.1372,-265.2691\"/>\n<polygon fill=\"#000000\" stroke=\"#000000\" points=\"6141.5232,-262.0553 6130.9556,-261.2952 6138.7427,-268.4794 6141.5232,-262.0553\"/>\n<text text-anchor=\"middle\" x=\"6217.8209\" y=\"-285.0203\" font-family=\"Times,serif\" font-size=\"14.00\" fill=\"#000000\">&lt;=</text>\n</g>\n<!-- split9 -->\n<g id=\"node42\" class=\"node\">\n<title>split9</title>\n<ellipse fill=\"none\" stroke=\"#000000\" cx=\"6769.3209\" cy=\"-236.3503\" rx=\"165.426\" ry=\"26.7407\"/>\n<text text-anchor=\"middle\" x=\"6769.3209\" y=\"-240.1503\" font-family=\"Times,serif\" font-size=\"14.00\" fill=\"#000000\">split_feature_name: ask1vol</text>\n<text text-anchor=\"middle\" x=\"6769.3209\" y=\"-225.1503\" font-family=\"Times,serif\" font-size=\"14.00\" fill=\"#000000\">threshold: 1.0000000180025095e&#45;35</text>\n</g>\n<!-- split4&#45;&gt;split9 -->\n<g id=\"edge45\" class=\"edge\">\n<title>split4&#45;&gt;split9</title>\n<path fill=\"none\" stroke=\"#000000\" d=\"M6407.468,-319.8316C6481.7852,-302.6862 6586.3524,-278.562 6663.9791,-260.6532\"/>\n<polygon fill=\"#000000\" stroke=\"#000000\" points=\"6664.8298,-264.0489 6673.787,-258.3904 6663.2562,-257.2281 6664.8298,-264.0489\"/>\n<text text-anchor=\"middle\" x=\"6574.8209\" y=\"-285.0203\" font-family=\"Times,serif\" font-size=\"14.00\" fill=\"#000000\">&gt;</text>\n</g>\n<!-- split21 -->\n<g id=\"node36\" class=\"node\">\n<title>split21</title>\n<ellipse fill=\"none\" stroke=\"#000000\" cx=\"5653.3209\" cy=\"-131.6102\" rx=\"156.0415\" ry=\"26.7407\"/>\n<text text-anchor=\"middle\" x=\"5653.3209\" y=\"-135.4102\" font-family=\"Times,serif\" font-size=\"14.00\" fill=\"#000000\">split_feature_name: ask1vol</text>\n<text text-anchor=\"middle\" x=\"5653.3209\" y=\"-120.4102\" font-family=\"Times,serif\" font-size=\"14.00\" fill=\"#000000\">threshold: &#45;0.30803408302426916</text>\n</g>\n<!-- split11&#45;&gt;split21 -->\n<g id=\"edge34\" class=\"edge\">\n<title>split11&#45;&gt;split21</title>\n<path fill=\"none\" stroke=\"#000000\" d=\"M5986.0416,-214.5845C5917.8664,-197.5829 5823.1074,-173.9517 5752.146,-156.2553\"/>\n<polygon fill=\"#000000\" stroke=\"#000000\" points=\"5752.846,-152.8228 5742.2962,-153.799 5751.1522,-159.6147 5752.846,-152.8228\"/>\n<text text-anchor=\"middle\" x=\"5897.8209\" y=\"-180.2802\" font-family=\"Times,serif\" font-size=\"14.00\" fill=\"#000000\">&lt;=</text>\n</g>\n<!-- split17 -->\n<g id=\"node39\" class=\"node\">\n<title>split17</title>\n<ellipse fill=\"none\" stroke=\"#000000\" cx=\"6073.3209\" cy=\"-131.6102\" rx=\"165.426\" ry=\"26.7407\"/>\n<text text-anchor=\"middle\" x=\"6073.3209\" y=\"-135.4102\" font-family=\"Times,serif\" font-size=\"14.00\" fill=\"#000000\">split_feature_name: ask1vol</text>\n<text text-anchor=\"middle\" x=\"6073.3209\" y=\"-120.4102\" font-family=\"Times,serif\" font-size=\"14.00\" fill=\"#000000\">threshold: 1.0000000180025095e&#45;35</text>\n</g>\n<!-- split11&#45;&gt;split17 -->\n<g id=\"edge37\" class=\"edge\">\n<title>split11&#45;&gt;split17</title>\n<path fill=\"none\" stroke=\"#000000\" d=\"M6073.3209,-209.3771C6073.3209,-197.0377 6073.3209,-182.2162 6073.3209,-168.8373\"/>\n<polygon fill=\"#000000\" stroke=\"#000000\" points=\"6076.8209,-168.4919 6073.3209,-158.4919 6069.8209,-168.492 6076.8209,-168.4919\"/>\n<text text-anchor=\"middle\" x=\"6077.8209\" y=\"-180.2802\" font-family=\"Times,serif\" font-size=\"14.00\" fill=\"#000000\">&gt;</text>\n</g>\n<!-- leaf1 -->\n<g id=\"node37\" class=\"node\">\n<title>leaf1</title>\n<ellipse fill=\"none\" stroke=\"#000000\" cx=\"5349.3209\" cy=\"-26.8701\" rx=\"145.8282\" ry=\"26.7407\"/>\n<text text-anchor=\"middle\" x=\"5349.3209\" y=\"-30.6701\" font-family=\"Times,serif\" font-size=\"14.00\" fill=\"#000000\">leaf_index: 1</text>\n<text text-anchor=\"middle\" x=\"5349.3209\" y=\"-15.6701\" font-family=\"Times,serif\" font-size=\"14.00\" fill=\"#000000\">leaf_value: 0.348396176953946</text>\n</g>\n<!-- split21&#45;&gt;leaf1 -->\n<g id=\"edge32\" class=\"edge\">\n<title>split21&#45;&gt;leaf1</title>\n<path fill=\"none\" stroke=\"#000000\" d=\"M5583.1954,-107.4492C5536.8521,-91.4821 5476.0356,-70.5283 5428.0363,-53.9907\"/>\n<polygon fill=\"#000000\" stroke=\"#000000\" points=\"5428.902,-50.5871 5418.3072,-50.6386 5426.6217,-57.2053 5428.902,-50.5871\"/>\n<text text-anchor=\"middle\" x=\"5528.8209\" y=\"-75.5401\" font-family=\"Times,serif\" font-size=\"14.00\" fill=\"#000000\">&lt;=</text>\n</g>\n<!-- leaf22 -->\n<g id=\"node38\" class=\"node\">\n<title>leaf22</title>\n<ellipse fill=\"none\" stroke=\"#000000\" cx=\"5653.3209\" cy=\"-26.8701\" rx=\"140.9288\" ry=\"26.7407\"/>\n<text text-anchor=\"middle\" x=\"5653.3209\" y=\"-30.6701\" font-family=\"Times,serif\" font-size=\"14.00\" fill=\"#000000\">leaf_index: 22</text>\n<text text-anchor=\"middle\" x=\"5653.3209\" y=\"-15.6701\" font-family=\"Times,serif\" font-size=\"14.00\" fill=\"#000000\">leaf_value: 0.34301082061733</text>\n</g>\n<!-- split21&#45;&gt;leaf22 -->\n<g id=\"edge33\" class=\"edge\">\n<title>split21&#45;&gt;leaf22</title>\n<path fill=\"none\" stroke=\"#000000\" d=\"M5653.3209,-104.637C5653.3209,-92.2976 5653.3209,-77.4761 5653.3209,-64.0972\"/>\n<polygon fill=\"#000000\" stroke=\"#000000\" points=\"5656.8209,-63.7518 5653.3209,-53.7518 5649.8209,-63.7519 5656.8209,-63.7518\"/>\n<text text-anchor=\"middle\" x=\"5657.8209\" y=\"-75.5401\" font-family=\"Times,serif\" font-size=\"14.00\" fill=\"#000000\">&gt;</text>\n</g>\n<!-- leaf12 -->\n<g id=\"node40\" class=\"node\">\n<title>leaf12</title>\n<ellipse fill=\"none\" stroke=\"#000000\" cx=\"5963.3209\" cy=\"-26.8701\" rx=\"151.1419\" ry=\"26.7407\"/>\n<text text-anchor=\"middle\" x=\"5963.3209\" y=\"-30.6701\" font-family=\"Times,serif\" font-size=\"14.00\" fill=\"#000000\">leaf_index: 12</text>\n<text text-anchor=\"middle\" x=\"5963.3209\" y=\"-15.6701\" font-family=\"Times,serif\" font-size=\"14.00\" fill=\"#000000\">leaf_value: 0.3427805128176661</text>\n</g>\n<!-- split17&#45;&gt;leaf12 -->\n<g id=\"edge35\" class=\"edge\">\n<title>split17&#45;&gt;leaf12</title>\n<path fill=\"none\" stroke=\"#000000\" d=\"M6045.2786,-104.9088C6031.1855,-91.4896 6013.955,-75.083 5998.936,-60.7822\"/>\n<polygon fill=\"#000000\" stroke=\"#000000\" points=\"6000.9676,-57.8837 5991.3119,-53.5227 5996.1405,-62.9532 6000.9676,-57.8837\"/>\n<text text-anchor=\"middle\" x=\"6033.8209\" y=\"-75.5401\" font-family=\"Times,serif\" font-size=\"14.00\" fill=\"#000000\">&lt;=</text>\n</g>\n<!-- leaf18 -->\n<g id=\"node41\" class=\"node\">\n<title>leaf18</title>\n<ellipse fill=\"none\" stroke=\"#000000\" cx=\"6289.3209\" cy=\"-26.8701\" rx=\"156.0415\" ry=\"26.7407\"/>\n<text text-anchor=\"middle\" x=\"6289.3209\" y=\"-30.6701\" font-family=\"Times,serif\" font-size=\"14.00\" fill=\"#000000\">leaf_index: 18</text>\n<text text-anchor=\"middle\" x=\"6289.3209\" y=\"-15.6701\" font-family=\"Times,serif\" font-size=\"14.00\" fill=\"#000000\">leaf_value: 0.33468531056639644</text>\n</g>\n<!-- split17&#45;&gt;leaf18 -->\n<g id=\"edge36\" class=\"edge\">\n<title>split17&#45;&gt;leaf18</title>\n<path fill=\"none\" stroke=\"#000000\" d=\"M6125.8842,-106.1218C6156.5715,-91.2413 6195.4515,-72.3881 6227.5904,-56.8036\"/>\n<polygon fill=\"#000000\" stroke=\"#000000\" points=\"6229.4257,-59.8035 6236.8965,-52.291 6226.3715,-53.505 6229.4257,-59.8035\"/>\n<text text-anchor=\"middle\" x=\"6198.8209\" y=\"-75.5401\" font-family=\"Times,serif\" font-size=\"14.00\" fill=\"#000000\">&gt;</text>\n</g>\n<!-- split20 -->\n<g id=\"node43\" class=\"node\">\n<title>split20</title>\n<ellipse fill=\"none\" stroke=\"#000000\" cx=\"6769.3209\" cy=\"-131.6102\" rx=\"147.5709\" ry=\"26.7407\"/>\n<text text-anchor=\"middle\" x=\"6769.3209\" y=\"-135.4102\" font-family=\"Times,serif\" font-size=\"14.00\" fill=\"#000000\">split_feature_name: bid1vol</text>\n<text text-anchor=\"middle\" x=\"6769.3209\" y=\"-120.4102\" font-family=\"Times,serif\" font-size=\"14.00\" fill=\"#000000\">threshold: 0.6249301792187815</text>\n</g>\n<!-- split9&#45;&gt;split20 -->\n<g id=\"edge41\" class=\"edge\">\n<title>split9&#45;&gt;split20</title>\n<path fill=\"none\" stroke=\"#000000\" d=\"M6769.3209,-209.3771C6769.3209,-197.0377 6769.3209,-182.2162 6769.3209,-168.8373\"/>\n<polygon fill=\"#000000\" stroke=\"#000000\" points=\"6772.8209,-168.4919 6769.3209,-158.4919 6765.8209,-168.492 6772.8209,-168.4919\"/>\n<text text-anchor=\"middle\" x=\"6777.8209\" y=\"-180.2802\" font-family=\"Times,serif\" font-size=\"14.00\" fill=\"#000000\">&lt;=</text>\n</g>\n<!-- split15 -->\n<g id=\"node46\" class=\"node\">\n<title>split15</title>\n<ellipse fill=\"none\" stroke=\"#000000\" cx=\"7260.3209\" cy=\"-131.6102\" rx=\"150.7276\" ry=\"26.7407\"/>\n<text text-anchor=\"middle\" x=\"7260.3209\" y=\"-135.4102\" font-family=\"Times,serif\" font-size=\"14.00\" fill=\"#000000\">split_feature_name: diff_avg_ask</text>\n<text text-anchor=\"middle\" x=\"7260.3209\" y=\"-120.4102\" font-family=\"Times,serif\" font-size=\"14.00\" fill=\"#000000\">threshold: &#45;0.0078800425325062</text>\n</g>\n<!-- split9&#45;&gt;split15 -->\n<g id=\"edge44\" class=\"edge\">\n<title>split9&#45;&gt;split15</title>\n<path fill=\"none\" stroke=\"#000000\" d=\"M6869.5702,-214.9651C6952.2628,-197.3251 7069.2878,-172.3614 7153.6861,-154.3575\"/>\n<polygon fill=\"#000000\" stroke=\"#000000\" points=\"7154.5037,-157.7619 7163.5535,-152.2526 7153.0433,-150.9159 7154.5037,-157.7619\"/>\n<text text-anchor=\"middle\" x=\"7048.8209\" y=\"-180.2802\" font-family=\"Times,serif\" font-size=\"14.00\" fill=\"#000000\">&gt;</text>\n</g>\n<!-- leaf5 -->\n<g id=\"node44\" class=\"node\">\n<title>leaf5</title>\n<ellipse fill=\"none\" stroke=\"#000000\" cx=\"6609.3209\" cy=\"-26.8701\" rx=\"145.8282\" ry=\"26.7407\"/>\n<text text-anchor=\"middle\" x=\"6609.3209\" y=\"-30.6701\" font-family=\"Times,serif\" font-size=\"14.00\" fill=\"#000000\">leaf_index: 5</text>\n<text text-anchor=\"middle\" x=\"6609.3209\" y=\"-15.6701\" font-family=\"Times,serif\" font-size=\"14.00\" fill=\"#000000\">leaf_value: 0.353454464432514</text>\n</g>\n<!-- split20&#45;&gt;leaf5 -->\n<g id=\"edge39\" class=\"edge\">\n<title>split20&#45;&gt;leaf5</title>\n<path fill=\"none\" stroke=\"#000000\" d=\"M6729.7703,-105.7194C6707.9431,-91.4307 6680.6642,-73.5733 6657.5889,-58.4675\"/>\n<polygon fill=\"#000000\" stroke=\"#000000\" points=\"6659.2547,-55.3748 6648.971,-52.826 6655.4207,-61.2315 6659.2547,-55.3748\"/>\n<text text-anchor=\"middle\" x=\"6707.8209\" y=\"-75.5401\" font-family=\"Times,serif\" font-size=\"14.00\" fill=\"#000000\">&lt;=</text>\n</g>\n<!-- leaf21 -->\n<g id=\"node45\" class=\"node\">\n<title>leaf21</title>\n<ellipse fill=\"none\" stroke=\"#000000\" cx=\"6929.3209\" cy=\"-26.8701\" rx=\"156.0415\" ry=\"26.7407\"/>\n<text text-anchor=\"middle\" x=\"6929.3209\" y=\"-30.6701\" font-family=\"Times,serif\" font-size=\"14.00\" fill=\"#000000\">leaf_index: 21</text>\n<text text-anchor=\"middle\" x=\"6929.3209\" y=\"-15.6701\" font-family=\"Times,serif\" font-size=\"14.00\" fill=\"#000000\">leaf_value: 0.36046198603769497</text>\n</g>\n<!-- split20&#45;&gt;leaf21 -->\n<g id=\"edge40\" class=\"edge\">\n<title>split20&#45;&gt;leaf21</title>\n<path fill=\"none\" stroke=\"#000000\" d=\"M6808.8714,-105.7194C6830.6166,-91.4844 6857.7725,-73.7075 6880.7924,-58.638\"/>\n<polygon fill=\"#000000\" stroke=\"#000000\" points=\"6882.9429,-61.4136 6889.3926,-53.0081 6879.1089,-55.5569 6882.9429,-61.4136\"/>\n<text text-anchor=\"middle\" x=\"6863.8209\" y=\"-75.5401\" font-family=\"Times,serif\" font-size=\"14.00\" fill=\"#000000\">&gt;</text>\n</g>\n<!-- leaf10 -->\n<g id=\"node47\" class=\"node\">\n<title>leaf10</title>\n<ellipse fill=\"none\" stroke=\"#000000\" cx=\"7260.3209\" cy=\"-26.8701\" rx=\"156.0415\" ry=\"26.7407\"/>\n<text text-anchor=\"middle\" x=\"7260.3209\" y=\"-30.6701\" font-family=\"Times,serif\" font-size=\"14.00\" fill=\"#000000\">leaf_index: 10</text>\n<text text-anchor=\"middle\" x=\"7260.3209\" y=\"-15.6701\" font-family=\"Times,serif\" font-size=\"14.00\" fill=\"#000000\">leaf_value: 0.35261428865096944</text>\n</g>\n<!-- split15&#45;&gt;leaf10 -->\n<g id=\"edge42\" class=\"edge\">\n<title>split15&#45;&gt;leaf10</title>\n<path fill=\"none\" stroke=\"#000000\" d=\"M7260.3209,-104.637C7260.3209,-92.2976 7260.3209,-77.4761 7260.3209,-64.0972\"/>\n<polygon fill=\"#000000\" stroke=\"#000000\" points=\"7263.8209,-63.7518 7260.3209,-53.7518 7256.8209,-63.7519 7263.8209,-63.7518\"/>\n<text text-anchor=\"middle\" x=\"7268.8209\" y=\"-75.5401\" font-family=\"Times,serif\" font-size=\"14.00\" fill=\"#000000\">&lt;=</text>\n</g>\n<!-- leaf16 -->\n<g id=\"node48\" class=\"node\">\n<title>leaf16</title>\n<ellipse fill=\"none\" stroke=\"#000000\" cx=\"7580.3209\" cy=\"-26.8701\" rx=\"145.8282\" ry=\"26.7407\"/>\n<text text-anchor=\"middle\" x=\"7580.3209\" y=\"-30.6701\" font-family=\"Times,serif\" font-size=\"14.00\" fill=\"#000000\">leaf_index: 16</text>\n<text text-anchor=\"middle\" x=\"7580.3209\" y=\"-15.6701\" font-family=\"Times,serif\" font-size=\"14.00\" fill=\"#000000\">leaf_value: 0.344228647016875</text>\n</g>\n<!-- split15&#45;&gt;leaf16 -->\n<g id=\"edge43\" class=\"edge\">\n<title>split15&#45;&gt;leaf16</title>\n<path fill=\"none\" stroke=\"#000000\" d=\"M7332.5341,-107.9738C7381.9759,-91.7909 7447.6157,-70.3062 7498.9147,-53.5153\"/>\n<polygon fill=\"#000000\" stroke=\"#000000\" points=\"7500.2312,-56.7672 7508.6463,-50.3301 7498.0537,-50.1145 7500.2312,-56.7672\"/>\n<text text-anchor=\"middle\" x=\"7444.8209\" y=\"-75.5401\" font-family=\"Times,serif\" font-size=\"14.00\" fill=\"#000000\">&gt;</text>\n</g>\n<!-- split6 -->\n<g id=\"node50\" class=\"node\">\n<title>split6</title>\n<ellipse fill=\"none\" stroke=\"#000000\" cx=\"8304.3209\" cy=\"-236.3503\" rx=\"152.0559\" ry=\"26.7407\"/>\n<text text-anchor=\"middle\" x=\"8304.3209\" y=\"-240.1503\" font-family=\"Times,serif\" font-size=\"14.00\" fill=\"#000000\">split_feature_name: transacted_qty</text>\n<text text-anchor=\"middle\" x=\"8304.3209\" y=\"-225.1503\" font-family=\"Times,serif\" font-size=\"14.00\" fill=\"#000000\">threshold: &#45;0.4998847621904657</text>\n</g>\n<!-- split3&#45;&gt;split6 -->\n<g id=\"edge53\" class=\"edge\">\n<title>split3&#45;&gt;split6</title>\n<path fill=\"none\" stroke=\"#000000\" d=\"M8304.3209,-314.1172C8304.3209,-301.7778 8304.3209,-286.9563 8304.3209,-273.5774\"/>\n<polygon fill=\"#000000\" stroke=\"#000000\" points=\"8307.8209,-273.232 8304.3209,-263.2321 8300.8209,-273.2321 8307.8209,-273.232\"/>\n<text text-anchor=\"middle\" x=\"8312.8209\" y=\"-285.0203\" font-family=\"Times,serif\" font-size=\"14.00\" fill=\"#000000\">&lt;=</text>\n</g>\n<!-- split5 -->\n<g id=\"node57\" class=\"node\">\n<title>split5</title>\n<ellipse fill=\"none\" stroke=\"#000000\" cx=\"9331.3209\" cy=\"-236.3503\" rx=\"156.0415\" ry=\"26.7407\"/>\n<text text-anchor=\"middle\" x=\"9331.3209\" y=\"-240.1503\" font-family=\"Times,serif\" font-size=\"14.00\" fill=\"#000000\">split_feature_name: transacted_qty</text>\n<text text-anchor=\"middle\" x=\"9331.3209\" y=\"-225.1503\" font-family=\"Times,serif\" font-size=\"14.00\" fill=\"#000000\">threshold: &#45;0.23541030480882244</text>\n</g>\n<!-- split3&#45;&gt;split5 -->\n<g id=\"edge60\" class=\"edge\">\n<title>split3&#45;&gt;split5</title>\n<path fill=\"none\" stroke=\"#000000\" d=\"M8444.6991,-326.7737C8639.4111,-306.9157 8989.6727,-271.1938 9186.6441,-251.1054\"/>\n<polygon fill=\"#000000\" stroke=\"#000000\" points=\"9187.1844,-254.5685 9196.7777,-250.0719 9186.4741,-247.6046 9187.1844,-254.5685\"/>\n<text text-anchor=\"middle\" x=\"8883.8209\" y=\"-285.0203\" font-family=\"Times,serif\" font-size=\"14.00\" fill=\"#000000\">&gt;</text>\n</g>\n<!-- split19 -->\n<g id=\"node51\" class=\"node\">\n<title>split19</title>\n<ellipse fill=\"none\" stroke=\"#000000\" cx=\"8220.3209\" cy=\"-131.6102\" rx=\"165.426\" ry=\"26.7407\"/>\n<text text-anchor=\"middle\" x=\"8220.3209\" y=\"-135.4102\" font-family=\"Times,serif\" font-size=\"14.00\" fill=\"#000000\">split_feature_name: bid1vol</text>\n<text text-anchor=\"middle\" x=\"8220.3209\" y=\"-120.4102\" font-family=\"Times,serif\" font-size=\"14.00\" fill=\"#000000\">threshold: 1.0000000180025095e&#45;35</text>\n</g>\n<!-- split6&#45;&gt;split19 -->\n<g id=\"edge49\" class=\"edge\">\n<title>split6&#45;&gt;split19</title>\n<path fill=\"none\" stroke=\"#000000\" d=\"M8282.9068,-209.6489C8272.3422,-196.4759 8259.469,-180.4242 8248.1509,-166.3116\"/>\n<polygon fill=\"#000000\" stroke=\"#000000\" points=\"8250.6827,-163.8742 8241.6958,-158.2628 8245.2219,-168.2537 8250.6827,-163.8742\"/>\n<text text-anchor=\"middle\" x=\"8276.8209\" y=\"-180.2802\" font-family=\"Times,serif\" font-size=\"14.00\" fill=\"#000000\">&lt;=</text>\n</g>\n<!-- split12 -->\n<g id=\"node54\" class=\"node\">\n<title>split12</title>\n<ellipse fill=\"none\" stroke=\"#000000\" cx=\"8553.3209\" cy=\"-131.6102\" rx=\"149.8133\" ry=\"26.7407\"/>\n<text text-anchor=\"middle\" x=\"8553.3209\" y=\"-135.4102\" font-family=\"Times,serif\" font-size=\"14.00\" fill=\"#000000\">split_feature_name: bid1vol</text>\n<text text-anchor=\"middle\" x=\"8553.3209\" y=\"-120.4102\" font-family=\"Times,serif\" font-size=\"14.00\" fill=\"#000000\">threshold: &#45;0.3119674843097728</text>\n</g>\n<!-- split6&#45;&gt;split12 -->\n<g id=\"edge52\" class=\"edge\">\n<title>split6&#45;&gt;split12</title>\n<path fill=\"none\" stroke=\"#000000\" d=\"M8363.3304,-211.5283C8399.7894,-196.1921 8446.7234,-176.4496 8484.8204,-160.4244\"/>\n<polygon fill=\"#000000\" stroke=\"#000000\" points=\"8486.4433,-163.5389 8494.3039,-156.4352 8483.7291,-157.0865 8486.4433,-163.5389\"/>\n<text text-anchor=\"middle\" x=\"8448.8209\" y=\"-180.2802\" font-family=\"Times,serif\" font-size=\"14.00\" fill=\"#000000\">&gt;</text>\n</g>\n<!-- leaf2 -->\n<g id=\"node52\" class=\"node\">\n<title>leaf2</title>\n<ellipse fill=\"none\" stroke=\"#000000\" cx=\"7900.3209\" cy=\"-26.8701\" rx=\"156.0415\" ry=\"26.7407\"/>\n<text text-anchor=\"middle\" x=\"7900.3209\" y=\"-30.6701\" font-family=\"Times,serif\" font-size=\"14.00\" fill=\"#000000\">leaf_index: 2</text>\n<text text-anchor=\"middle\" x=\"7900.3209\" y=\"-15.6701\" font-family=\"Times,serif\" font-size=\"14.00\" fill=\"#000000\">leaf_value: 0.35014900788542275</text>\n</g>\n<!-- split19&#45;&gt;leaf2 -->\n<g id=\"edge47\" class=\"edge\">\n<title>split19&#45;&gt;leaf2</title>\n<path fill=\"none\" stroke=\"#000000\" d=\"M8146.5046,-107.4492C8097.6052,-91.4438 8033.3976,-70.4278 7982.816,-53.8718\"/>\n<polygon fill=\"#000000\" stroke=\"#000000\" points=\"7983.8063,-50.5133 7973.2137,-50.7288 7981.6288,-57.166 7983.8063,-50.5133\"/>\n<text text-anchor=\"middle\" x=\"8088.8209\" y=\"-75.5401\" font-family=\"Times,serif\" font-size=\"14.00\" fill=\"#000000\">&lt;=</text>\n</g>\n<!-- leaf20 -->\n<g id=\"node53\" class=\"node\">\n<title>leaf20</title>\n<ellipse fill=\"none\" stroke=\"#000000\" cx=\"8226.3209\" cy=\"-26.8701\" rx=\"151.1419\" ry=\"26.7407\"/>\n<text text-anchor=\"middle\" x=\"8226.3209\" y=\"-30.6701\" font-family=\"Times,serif\" font-size=\"14.00\" fill=\"#000000\">leaf_index: 20</text>\n<text text-anchor=\"middle\" x=\"8226.3209\" y=\"-15.6701\" font-family=\"Times,serif\" font-size=\"14.00\" fill=\"#000000\">leaf_value: 0.3587399921317142</text>\n</g>\n<!-- split19&#45;&gt;leaf20 -->\n<g id=\"edge48\" class=\"edge\">\n<title>split19&#45;&gt;leaf20</title>\n<path fill=\"none\" stroke=\"#000000\" d=\"M8221.866,-104.637C8222.5729,-92.2976 8223.4219,-77.4761 8224.1883,-64.0972\"/>\n<polygon fill=\"#000000\" stroke=\"#000000\" points=\"8227.7032,-63.9357 8224.7809,-53.7518 8220.7147,-63.5353 8227.7032,-63.9357\"/>\n<text text-anchor=\"middle\" x=\"8228.8209\" y=\"-75.5401\" font-family=\"Times,serif\" font-size=\"14.00\" fill=\"#000000\">&gt;</text>\n</g>\n<!-- leaf7 -->\n<g id=\"node55\" class=\"node\">\n<title>leaf7</title>\n<ellipse fill=\"none\" stroke=\"#000000\" cx=\"8547.3209\" cy=\"-26.8701\" rx=\"151.1419\" ry=\"26.7407\"/>\n<text text-anchor=\"middle\" x=\"8547.3209\" y=\"-30.6701\" font-family=\"Times,serif\" font-size=\"14.00\" fill=\"#000000\">leaf_index: 7</text>\n<text text-anchor=\"middle\" x=\"8547.3209\" y=\"-15.6701\" font-family=\"Times,serif\" font-size=\"14.00\" fill=\"#000000\">leaf_value: 0.3596213700495049</text>\n</g>\n<!-- split12&#45;&gt;leaf7 -->\n<g id=\"edge50\" class=\"edge\">\n<title>split12&#45;&gt;leaf7</title>\n<path fill=\"none\" stroke=\"#000000\" d=\"M8551.7757,-104.637C8551.0688,-92.2976 8550.2198,-77.4761 8549.4534,-64.0972\"/>\n<polygon fill=\"#000000\" stroke=\"#000000\" points=\"8552.927,-63.5353 8548.8608,-53.7518 8545.9385,-63.9357 8552.927,-63.5353\"/>\n<text text-anchor=\"middle\" x=\"8559.8209\" y=\"-75.5401\" font-family=\"Times,serif\" font-size=\"14.00\" fill=\"#000000\">&lt;=</text>\n</g>\n<!-- leaf13 -->\n<g id=\"node56\" class=\"node\">\n<title>leaf13</title>\n<ellipse fill=\"none\" stroke=\"#000000\" cx=\"8862.3209\" cy=\"-26.8701\" rx=\"145.8282\" ry=\"26.7407\"/>\n<text text-anchor=\"middle\" x=\"8862.3209\" y=\"-30.6701\" font-family=\"Times,serif\" font-size=\"14.00\" fill=\"#000000\">leaf_index: 13</text>\n<text text-anchor=\"middle\" x=\"8862.3209\" y=\"-15.6701\" font-family=\"Times,serif\" font-size=\"14.00\" fill=\"#000000\">leaf_value: 0.368009096444157</text>\n</g>\n<!-- split12&#45;&gt;leaf13 -->\n<g id=\"edge51\" class=\"edge\">\n<title>split12&#45;&gt;leaf13</title>\n<path fill=\"none\" stroke=\"#000000\" d=\"M8623.4377,-107.843C8670.8469,-91.773 8733.5475,-70.5197 8782.8155,-53.8196\"/>\n<polygon fill=\"#000000\" stroke=\"#000000\" points=\"8784.1343,-57.0682 8792.4814,-50.5432 8781.8871,-50.4387 8784.1343,-57.0682\"/>\n<text text-anchor=\"middle\" x=\"8731.8209\" y=\"-75.5401\" font-family=\"Times,serif\" font-size=\"14.00\" fill=\"#000000\">&gt;</text>\n</g>\n<!-- split14 -->\n<g id=\"node58\" class=\"node\">\n<title>split14</title>\n<ellipse fill=\"none\" stroke=\"#000000\" cx=\"9331.3209\" cy=\"-131.6102\" rx=\"152.9705\" ry=\"26.7407\"/>\n<text text-anchor=\"middle\" x=\"9331.3209\" y=\"-135.4102\" font-family=\"Times,serif\" font-size=\"14.00\" fill=\"#000000\">split_feature_name: diff_avg_ask</text>\n<text text-anchor=\"middle\" x=\"9331.3209\" y=\"-120.4102\" font-family=\"Times,serif\" font-size=\"14.00\" fill=\"#000000\">threshold: 0.20664045321862096</text>\n</g>\n<!-- split5&#45;&gt;split14 -->\n<g id=\"edge56\" class=\"edge\">\n<title>split5&#45;&gt;split14</title>\n<path fill=\"none\" stroke=\"#000000\" d=\"M9331.3209,-209.3771C9331.3209,-197.0377 9331.3209,-182.2162 9331.3209,-168.8373\"/>\n<polygon fill=\"#000000\" stroke=\"#000000\" points=\"9334.8209,-168.4919 9331.3209,-158.4919 9327.8209,-168.492 9334.8209,-168.4919\"/>\n<text text-anchor=\"middle\" x=\"9339.8209\" y=\"-180.2802\" font-family=\"Times,serif\" font-size=\"14.00\" fill=\"#000000\">&lt;=</text>\n</g>\n<!-- split10 -->\n<g id=\"node61\" class=\"node\">\n<title>split10</title>\n<ellipse fill=\"none\" stroke=\"#000000\" cx=\"9834.3209\" cy=\"-131.6102\" rx=\"150.7276\" ry=\"26.7407\"/>\n<text text-anchor=\"middle\" x=\"9834.3209\" y=\"-135.4102\" font-family=\"Times,serif\" font-size=\"14.00\" fill=\"#000000\">split_feature_name: diff_avg_ask</text>\n<text text-anchor=\"middle\" x=\"9834.3209\" y=\"-120.4102\" font-family=\"Times,serif\" font-size=\"14.00\" fill=\"#000000\">threshold: &#45;0.2346615852191706</text>\n</g>\n<!-- split5&#45;&gt;split10 -->\n<g id=\"edge59\" class=\"edge\">\n<title>split5&#45;&gt;split10</title>\n<path fill=\"none\" stroke=\"#000000\" d=\"M9430.998,-215.5944C9516.2134,-197.85 9638.5902,-172.3673 9726.1608,-154.1324\"/>\n<polygon fill=\"#000000\" stroke=\"#000000\" points=\"9727.0499,-157.5225 9736.1264,-152.0573 9725.6228,-150.6695 9727.0499,-157.5225\"/>\n<text text-anchor=\"middle\" x=\"9617.8209\" y=\"-180.2802\" font-family=\"Times,serif\" font-size=\"14.00\" fill=\"#000000\">&gt;</text>\n</g>\n<!-- leaf4 -->\n<g id=\"node59\" class=\"node\">\n<title>leaf4</title>\n<ellipse fill=\"none\" stroke=\"#000000\" cx=\"9177.3209\" cy=\"-26.8701\" rx=\"151.1419\" ry=\"26.7407\"/>\n<text text-anchor=\"middle\" x=\"9177.3209\" y=\"-30.6701\" font-family=\"Times,serif\" font-size=\"14.00\" fill=\"#000000\">leaf_index: 4</text>\n<text text-anchor=\"middle\" x=\"9177.3209\" y=\"-15.6701\" font-family=\"Times,serif\" font-size=\"14.00\" fill=\"#000000\">leaf_value: 0.3508272242175172</text>\n</g>\n<!-- split14&#45;&gt;leaf4 -->\n<g id=\"edge54\" class=\"edge\">\n<title>split14&#45;&gt;leaf4</title>\n<path fill=\"none\" stroke=\"#000000\" d=\"M9292.8574,-105.45C9272.0154,-91.2747 9246.0981,-73.6476 9224.095,-58.6826\"/>\n<polygon fill=\"#000000\" stroke=\"#000000\" points=\"9225.7978,-55.6079 9215.5606,-52.8781 9221.861,-61.396 9225.7978,-55.6079\"/>\n<text text-anchor=\"middle\" x=\"9272.8209\" y=\"-75.5401\" font-family=\"Times,serif\" font-size=\"14.00\" fill=\"#000000\">&lt;=</text>\n</g>\n<!-- leaf15 -->\n<g id=\"node60\" class=\"node\">\n<title>leaf15</title>\n<ellipse fill=\"none\" stroke=\"#000000\" cx=\"9503.3209\" cy=\"-26.8701\" rx=\"156.0415\" ry=\"26.7407\"/>\n<text text-anchor=\"middle\" x=\"9503.3209\" y=\"-30.6701\" font-family=\"Times,serif\" font-size=\"14.00\" fill=\"#000000\">leaf_index: 15</text>\n<text text-anchor=\"middle\" x=\"9503.3209\" y=\"-15.6701\" font-family=\"Times,serif\" font-size=\"14.00\" fill=\"#000000\">leaf_value: 0.34294398861759895</text>\n</g>\n<!-- split14&#45;&gt;leaf15 -->\n<g id=\"edge55\" class=\"edge\">\n<title>split14&#45;&gt;leaf15</title>\n<path fill=\"none\" stroke=\"#000000\" d=\"M9373.8377,-105.7194C9397.5087,-91.3048 9427.1439,-73.2583 9452.0873,-58.0689\"/>\n<polygon fill=\"#000000\" stroke=\"#000000\" points=\"9453.9764,-61.0165 9460.697,-52.826 9450.3356,-55.0378 9453.9764,-61.0165\"/>\n<text text-anchor=\"middle\" x=\"9432.8209\" y=\"-75.5401\" font-family=\"Times,serif\" font-size=\"14.00\" fill=\"#000000\">&gt;</text>\n</g>\n<!-- leaf6 -->\n<g id=\"node62\" class=\"node\">\n<title>leaf6</title>\n<ellipse fill=\"none\" stroke=\"#000000\" cx=\"9834.3209\" cy=\"-26.8701\" rx=\"156.0415\" ry=\"26.7407\"/>\n<text text-anchor=\"middle\" x=\"9834.3209\" y=\"-30.6701\" font-family=\"Times,serif\" font-size=\"14.00\" fill=\"#000000\">leaf_index: 6</text>\n<text text-anchor=\"middle\" x=\"9834.3209\" y=\"-15.6701\" font-family=\"Times,serif\" font-size=\"14.00\" fill=\"#000000\">leaf_value: 0.36438853655682507</text>\n</g>\n<!-- split10&#45;&gt;leaf6 -->\n<g id=\"edge57\" class=\"edge\">\n<title>split10&#45;&gt;leaf6</title>\n<path fill=\"none\" stroke=\"#000000\" d=\"M9834.3209,-104.637C9834.3209,-92.2976 9834.3209,-77.4761 9834.3209,-64.0972\"/>\n<polygon fill=\"#000000\" stroke=\"#000000\" points=\"9837.8209,-63.7518 9834.3209,-53.7518 9830.8209,-63.7519 9837.8209,-63.7518\"/>\n<text text-anchor=\"middle\" x=\"9842.8209\" y=\"-75.5401\" font-family=\"Times,serif\" font-size=\"14.00\" fill=\"#000000\">&lt;=</text>\n</g>\n<!-- leaf11 -->\n<g id=\"node63\" class=\"node\">\n<title>leaf11</title>\n<ellipse fill=\"none\" stroke=\"#000000\" cx=\"10165.3209\" cy=\"-26.8701\" rx=\"156.0415\" ry=\"26.7407\"/>\n<text text-anchor=\"middle\" x=\"10165.3209\" y=\"-30.6701\" font-family=\"Times,serif\" font-size=\"14.00\" fill=\"#000000\">leaf_index: 11</text>\n<text text-anchor=\"middle\" x=\"10165.3209\" y=\"-15.6701\" font-family=\"Times,serif\" font-size=\"14.00\" fill=\"#000000\">leaf_value: 0.35329324184173255</text>\n</g>\n<!-- split10&#45;&gt;leaf11 -->\n<g id=\"edge58\" class=\"edge\">\n<title>split10&#45;&gt;leaf11</title>\n<path fill=\"none\" stroke=\"#000000\" d=\"M9908.6037,-108.1044C9959.6535,-91.9505 10027.5424,-70.468 10080.6838,-53.6522\"/>\n<polygon fill=\"#000000\" stroke=\"#000000\" points=\"10081.9494,-56.9229 10090.4275,-50.569 10079.8375,-50.249 10081.9494,-56.9229\"/>\n<text text-anchor=\"middle\" x=\"10024.8209\" y=\"-75.5401\" font-family=\"Times,serif\" font-size=\"14.00\" fill=\"#000000\">&gt;</text>\n</g>\n</g>\n</svg>\n"
          },
          "metadata": {
            "tags": []
          },
          "execution_count": 49
        }
      ]
    },
    {
      "cell_type": "code",
      "metadata": {
        "id": "C386xY_B_kJX",
        "colab_type": "code",
        "outputId": "785d378f-19c4-4d6a-fc51-30c7d6b1f946",
        "colab": {
          "base_uri": "https://localhost:8080/",
          "height": 232
        }
      },
      "source": [
        "#check eff sprread\n",
        "print(X_train.columns)\n",
        "d_train = lgb.Dataset(X_train, label=y_train)\n",
        "param = {\"max_depth\": 5, \"learning_rate\": 0.1, \"num_leaves\": 900, \"n_estimators\": 100}\n",
        "model2 = lgb.train(params=param,train_set=d_train)\n",
        "# print(‘Plot feature importances…’)\n",
        "plt.figure(figsize=(50,25))\n",
        "ax = lgb.plot_importance(model2, max_num_features=33)\n",
        "plt.show()"
      ],
      "execution_count": 0,
      "outputs": [
        {
          "output_type": "error",
          "ename": "NameError",
          "evalue": "ignored",
          "traceback": [
            "\u001b[0;31m---------------------------------------------------------------------------\u001b[0m",
            "\u001b[0;31mNameError\u001b[0m                                 Traceback (most recent call last)",
            "\u001b[0;32m<ipython-input-1-c3fb56b96c6e>\u001b[0m in \u001b[0;36m<module>\u001b[0;34m()\u001b[0m\n\u001b[0;32m----> 1\u001b[0;31m \u001b[0mprint\u001b[0m\u001b[0;34m(\u001b[0m\u001b[0mX_train\u001b[0m\u001b[0;34m.\u001b[0m\u001b[0mcolumns\u001b[0m\u001b[0;34m)\u001b[0m\u001b[0;34m\u001b[0m\u001b[0;34m\u001b[0m\u001b[0m\n\u001b[0m\u001b[1;32m      2\u001b[0m \u001b[0md_train\u001b[0m \u001b[0;34m=\u001b[0m \u001b[0mlgb\u001b[0m\u001b[0;34m.\u001b[0m\u001b[0mDataset\u001b[0m\u001b[0;34m(\u001b[0m\u001b[0mX_train\u001b[0m\u001b[0;34m,\u001b[0m \u001b[0mlabel\u001b[0m\u001b[0;34m=\u001b[0m\u001b[0my_train\u001b[0m\u001b[0;34m)\u001b[0m\u001b[0;34m\u001b[0m\u001b[0;34m\u001b[0m\u001b[0m\n\u001b[1;32m      3\u001b[0m \u001b[0mparam\u001b[0m \u001b[0;34m=\u001b[0m \u001b[0;34m{\u001b[0m\u001b[0;34m\"max_depth\"\u001b[0m\u001b[0;34m:\u001b[0m \u001b[0;36m5\u001b[0m\u001b[0;34m,\u001b[0m \u001b[0;34m\"learning_rate\"\u001b[0m\u001b[0;34m:\u001b[0m \u001b[0;36m0.1\u001b[0m\u001b[0;34m,\u001b[0m \u001b[0;34m\"num_leaves\"\u001b[0m\u001b[0;34m:\u001b[0m \u001b[0;36m900\u001b[0m\u001b[0;34m,\u001b[0m \u001b[0;34m\"n_estimators\"\u001b[0m\u001b[0;34m:\u001b[0m \u001b[0;36m100\u001b[0m\u001b[0;34m}\u001b[0m\u001b[0;34m\u001b[0m\u001b[0;34m\u001b[0m\u001b[0m\n\u001b[1;32m      4\u001b[0m \u001b[0mmodel2\u001b[0m \u001b[0;34m=\u001b[0m \u001b[0mlgb\u001b[0m\u001b[0;34m.\u001b[0m\u001b[0mtrain\u001b[0m\u001b[0;34m(\u001b[0m\u001b[0mparams\u001b[0m\u001b[0;34m=\u001b[0m\u001b[0mparam\u001b[0m\u001b[0;34m,\u001b[0m\u001b[0mtrain_set\u001b[0m\u001b[0;34m=\u001b[0m\u001b[0md_train\u001b[0m\u001b[0;34m)\u001b[0m\u001b[0;34m\u001b[0m\u001b[0;34m\u001b[0m\u001b[0m\n\u001b[1;32m      5\u001b[0m \u001b[0;31m# print(‘Plot feature importances…’)\u001b[0m\u001b[0;34m\u001b[0m\u001b[0;34m\u001b[0m\u001b[0;34m\u001b[0m\u001b[0m\n",
            "\u001b[0;31mNameError\u001b[0m: name 'X_train' is not defined"
          ]
        }
      ]
    },
    {
      "cell_type": "code",
      "metadata": {
        "id": "4ErCE-VRdUSe",
        "colab_type": "code",
        "outputId": "7b99399a-5156-42a2-9593-25b10684cea6",
        "colab": {
          "base_uri": "https://localhost:8080/",
          "height": 232
        }
      },
      "source": [
        "model_3 = Sequential([\n",
        "      Dense(1000, activation='relu',input_shape=(21,)),\n",
        "      Dropout(0.2),\n",
        "      Dense(500, activation='relu'),\n",
        "      Dropout(0.1),\n",
        "      Dense(200, activation='relu'),\n",
        "      Dense(1, activation='sigmoid'),\n",
        "  ])\n",
        "model_3.compile(optimizer='adam',\n",
        "                loss='binary_crossentropy',\n",
        "                metrics=['accuracy'])\n",
        "hist_3 = model_3.fit(X_train, y_train,\n",
        "            batch_size=32, epochs=10,\n",
        "            validation_data=(X_test, y_test))"
      ],
      "execution_count": 0,
      "outputs": [
        {
          "output_type": "error",
          "ename": "NameError",
          "evalue": "ignored",
          "traceback": [
            "\u001b[0;31m---------------------------------------------------------------------------\u001b[0m",
            "\u001b[0;31mNameError\u001b[0m                                 Traceback (most recent call last)",
            "\u001b[0;32m<ipython-input-5-1961ecb4b325>\u001b[0m in \u001b[0;36m<module>\u001b[0;34m()\u001b[0m\n\u001b[0;32m----> 1\u001b[0;31m model_3 = Sequential([\n\u001b[0m\u001b[1;32m      2\u001b[0m       \u001b[0mDense\u001b[0m\u001b[0;34m(\u001b[0m\u001b[0;36m1000\u001b[0m\u001b[0;34m,\u001b[0m \u001b[0mactivation\u001b[0m\u001b[0;34m=\u001b[0m\u001b[0;34m'relu'\u001b[0m\u001b[0;34m,\u001b[0m\u001b[0minput_shape\u001b[0m\u001b[0;34m=\u001b[0m\u001b[0;34m(\u001b[0m\u001b[0;36m21\u001b[0m\u001b[0;34m,\u001b[0m\u001b[0;34m)\u001b[0m\u001b[0;34m)\u001b[0m\u001b[0;34m,\u001b[0m\u001b[0;34m\u001b[0m\u001b[0;34m\u001b[0m\u001b[0m\n\u001b[1;32m      3\u001b[0m       \u001b[0mDropout\u001b[0m\u001b[0;34m(\u001b[0m\u001b[0;36m0.2\u001b[0m\u001b[0;34m)\u001b[0m\u001b[0;34m,\u001b[0m\u001b[0;34m\u001b[0m\u001b[0;34m\u001b[0m\u001b[0m\n\u001b[1;32m      4\u001b[0m       \u001b[0mDense\u001b[0m\u001b[0;34m(\u001b[0m\u001b[0;36m500\u001b[0m\u001b[0;34m,\u001b[0m \u001b[0mactivation\u001b[0m\u001b[0;34m=\u001b[0m\u001b[0;34m'relu'\u001b[0m\u001b[0;34m)\u001b[0m\u001b[0;34m,\u001b[0m\u001b[0;34m\u001b[0m\u001b[0;34m\u001b[0m\u001b[0m\n\u001b[1;32m      5\u001b[0m       \u001b[0mDropout\u001b[0m\u001b[0;34m(\u001b[0m\u001b[0;36m0.1\u001b[0m\u001b[0;34m)\u001b[0m\u001b[0;34m,\u001b[0m\u001b[0;34m\u001b[0m\u001b[0;34m\u001b[0m\u001b[0m\n",
            "\u001b[0;31mNameError\u001b[0m: name 'Sequential' is not defined"
          ]
        }
      ]
    },
    {
      "cell_type": "code",
      "metadata": {
        "id": "4tqkGQ_alQB-",
        "colab_type": "code",
        "outputId": "7d8a8bee-93d8-44ad-faa0-08387697b692",
        "colab": {
          "base_uri": "https://localhost:8080/",
          "height": 275
        }
      },
      "source": [
        "model_3 = Sequential([\n",
        "      Dense(5000, activation='relu',input_shape=(21,)),\n",
        "      Dropout(0.1),\n",
        "      Dense(5000, activation='relu'),\n",
        "      Dropout(0.1),\n",
        "      Dense(5000, activation='relu'),\n",
        "      Dense(1, activation='sigmoid'),\n",
        "  ])\n",
        "model_3.compile(optimizer='adam',\n",
        "                loss='binary_crossentropy',\n",
        "                metrics=['accuracy',auroc])\n",
        "hist_3 = model_3.fit(X_train, y_train,\n",
        "            batch_size=32, epochs=10,\n",
        "            validation_data=(X_test, y_test))"
      ],
      "execution_count": 0,
      "outputs": [
        {
          "output_type": "stream",
          "text": [
            "WARNING:tensorflow:From /usr/local/lib/python3.6/dist-packages/keras/optimizers.py:793: The name tf.train.Optimizer is deprecated. Please use tf.compat.v1.train.Optimizer instead.\n",
            "\n",
            "WARNING:tensorflow:From /usr/local/lib/python3.6/dist-packages/keras/backend/tensorflow_backend.py:3657: The name tf.log is deprecated. Please use tf.math.log instead.\n",
            "\n",
            "WARNING:tensorflow:From /usr/local/lib/python3.6/dist-packages/tensorflow_core/python/ops/nn_impl.py:183: where (from tensorflow.python.ops.array_ops) is deprecated and will be removed in a future version.\n",
            "Instructions for updating:\n",
            "Use tf.where in 2.0, which has the same broadcast rule as np.where\n",
            "WARNING:tensorflow:From /usr/local/lib/python3.6/dist-packages/keras/backend/tensorflow_backend.py:1033: The name tf.assign_add is deprecated. Please use tf.compat.v1.assign_add instead.\n",
            "\n",
            "WARNING:tensorflow:From /usr/local/lib/python3.6/dist-packages/keras/backend/tensorflow_backend.py:1020: The name tf.assign is deprecated. Please use tf.compat.v1.assign instead.\n",
            "\n",
            "Train on 473904 samples, validate on 118476 samples\n",
            "Epoch 1/10\n",
            " 54336/473904 [==>...........................] - ETA: 2:54:38 - loss: 0.6305 - acc: 0.6532 - auroc: 0.6433"
          ],
          "name": "stdout"
        }
      ]
    },
    {
      "cell_type": "code",
      "metadata": {
        "id": "7wV29xaGJhT0",
        "colab_type": "code",
        "outputId": "d0129232-eb19-484e-d26e-f9e3162a9509",
        "colab": {
          "base_uri": "https://localhost:8080/",
          "height": 479
        }
      },
      "source": [
        "\n",
        "\n",
        "\n",
        "\n",
        "\n",
        "import tensorflow as tf\n",
        "\n",
        "probbs = model_3.predict_proba(X_test)\n",
        "from sklearn.metrics import roc_auc_score\n",
        "\n",
        "def auroc(y_true, y_pred):\n",
        "    return tf.py_func(roc_auc_score, (y_true, y_pred), tf.double)\n",
        "\n",
        "auroc(y_test,probbs)"
      ],
      "execution_count": 0,
      "outputs": [
        {
          "output_type": "stream",
          "text": [
            "WARNING:tensorflow:From /usr/local/lib/python3.6/dist-packages/keras/backend/tensorflow_backend.py:3005: The name tf.Session is deprecated. Please use tf.compat.v1.Session instead.\n",
            "\n",
            "WARNING:tensorflow:From /usr/local/lib/python3.6/dist-packages/keras/backend/tensorflow_backend.py:190: The name tf.get_default_session is deprecated. Please use tf.compat.v1.get_default_session instead.\n",
            "\n",
            "WARNING:tensorflow:From /usr/local/lib/python3.6/dist-packages/keras/backend/tensorflow_backend.py:197: The name tf.ConfigProto is deprecated. Please use tf.compat.v1.ConfigProto instead.\n",
            "\n",
            "WARNING:tensorflow:From /usr/local/lib/python3.6/dist-packages/keras/backend/tensorflow_backend.py:207: The name tf.global_variables is deprecated. Please use tf.compat.v1.global_variables instead.\n",
            "\n",
            "WARNING:tensorflow:From /usr/local/lib/python3.6/dist-packages/keras/backend/tensorflow_backend.py:216: The name tf.is_variable_initialized is deprecated. Please use tf.compat.v1.is_variable_initialized instead.\n",
            "\n",
            "WARNING:tensorflow:From /usr/local/lib/python3.6/dist-packages/keras/backend/tensorflow_backend.py:223: The name tf.variables_initializer is deprecated. Please use tf.compat.v1.variables_initializer instead.\n",
            "\n",
            "WARNING:tensorflow:From <ipython-input-8-fb05f748c1e4>:12: py_func (from tensorflow.python.ops.script_ops) is deprecated and will be removed in a future version.\n",
            "Instructions for updating:\n",
            "tf.py_func is deprecated in TF V2. Instead, there are two\n",
            "    options available in V2.\n",
            "    - tf.py_function takes a python function which manipulates tf eager\n",
            "    tensors instead of numpy arrays. It's easy to convert a tf eager tensor to\n",
            "    an ndarray (just call tensor.numpy()) but having access to eager tensors\n",
            "    means `tf.py_function`s can use accelerators such as GPUs as well as\n",
            "    being differentiable using a gradient tape.\n",
            "    - tf.numpy_function maintains the semantics of the deprecated tf.py_func\n",
            "    (it is not differentiable, and manipulates numpy arrays). It drops the\n",
            "    stateful argument making all functions stateful.\n",
            "    \n"
          ],
          "name": "stdout"
        },
        {
          "output_type": "execute_result",
          "data": {
            "text/plain": [
              "<tf.Tensor 'PyFunc:0' shape=<unknown> dtype=float64>"
            ]
          },
          "metadata": {
            "tags": []
          },
          "execution_count": 8
        }
      ]
    },
    {
      "cell_type": "code",
      "metadata": {
        "id": "6GHfUiLQlCFW",
        "colab_type": "code",
        "outputId": "4d645ec4-e18a-42a9-d9f5-52289aa0fdf3",
        "colab": {
          "base_uri": "https://localhost:8080/",
          "height": 232
        }
      },
      "source": [
        "#predict on test\n",
        "test_df = pd.read_csv('test.csv')\n",
        "\n",
        "df_test = test_df.fillna(test_df.median())\n",
        "\n",
        "\n",
        "df_test['diff'] = (df_test['last_price'] - df_test['mid'])\n",
        "df_test['avg_bid'] = (df_test['bid1'] * df_test['bid1vol'] + df_test['bid2'] * df_test['bid2vol'] + df_test['bid3'] * df_test['bid3vol'] + df_test['bid4'] * df_test['bid4vol'] + df_test['bid5'] * df_test['bid5vol']) / (df_test['bid1vol'] + df_test['bid2vol'] + df_test['bid3vol'] + df_test['bid4vol'] + df_test['bid5vol'])\n",
        "df_test['avg_ask'] = (df_test['ask1'] * df_test['ask1vol'] + df_test['ask2'] * df_test['ask2vol'] + df_test['ask3'] * df_test['ask3vol'] + df_test['ask4'] * df_test['ask4vol'] + df_test['ask5'] * df_test['ask5vol']) / (df_test['ask1vol'] + df_test['ask2vol'] + df_test['ask3vol'] + df_test['ask4vol'] + df_test['ask5vol'])\n",
        "df_test['diff_avg_bid'] = (df_test['mid'] - df_test['avg_bid'])\n",
        "df_test['diff_avg_ask'] = (df_test['mid'] - df_test['avg_ask'])\n",
        "df_test = df_test.drop(['id', 'bid1', 'bid2', 'bid3', 'bid4', 'bid5', 'ask1', 'ask2','ask3','ask4','ask5'], axis=1)\n",
        "normalized_X_test =(df_test-df_test.mean())/df_test.std()\n",
        "probbs = model_3.predict_proba(normalized_X_test)\n",
        "test_df['Predicted'] = probbs\n",
        "header = [\"id\", \"Predicted\"]\n",
        "test_df.to_csv('output.csv', columns = header,index=False)\n"
      ],
      "execution_count": 0,
      "outputs": [
        {
          "output_type": "error",
          "ename": "NameError",
          "evalue": "ignored",
          "traceback": [
            "\u001b[0;31m---------------------------------------------------------------------------\u001b[0m",
            "\u001b[0;31mNameError\u001b[0m                                 Traceback (most recent call last)",
            "\u001b[0;32m<ipython-input-2-96464c32b565>\u001b[0m in \u001b[0;36m<module>\u001b[0;34m()\u001b[0m\n\u001b[0;32m----> 1\u001b[0;31m \u001b[0mtest_df\u001b[0m \u001b[0;34m=\u001b[0m \u001b[0mpd\u001b[0m\u001b[0;34m.\u001b[0m\u001b[0mread_csv\u001b[0m\u001b[0;34m(\u001b[0m\u001b[0;34m'test.csv'\u001b[0m\u001b[0;34m)\u001b[0m\u001b[0;34m\u001b[0m\u001b[0;34m\u001b[0m\u001b[0m\n\u001b[0m\u001b[1;32m      2\u001b[0m \u001b[0;34m\u001b[0m\u001b[0m\n\u001b[1;32m      3\u001b[0m \u001b[0mdf_test\u001b[0m \u001b[0;34m=\u001b[0m \u001b[0mtest_df\u001b[0m\u001b[0;34m.\u001b[0m\u001b[0mfillna\u001b[0m\u001b[0;34m(\u001b[0m\u001b[0mtest_df\u001b[0m\u001b[0;34m.\u001b[0m\u001b[0mmedian\u001b[0m\u001b[0;34m(\u001b[0m\u001b[0;34m)\u001b[0m\u001b[0;34m)\u001b[0m\u001b[0;34m\u001b[0m\u001b[0;34m\u001b[0m\u001b[0m\n\u001b[1;32m      4\u001b[0m \u001b[0;34m\u001b[0m\u001b[0m\n\u001b[1;32m      5\u001b[0m \u001b[0;34m\u001b[0m\u001b[0m\n",
            "\u001b[0;31mNameError\u001b[0m: name 'pd' is not defined"
          ]
        }
      ]
    },
    {
      "cell_type": "code",
      "metadata": {
        "id": "dj1n-ylAoDdd",
        "colab_type": "code",
        "colab": {}
      },
      "source": [
        "normalized_X.columns"
      ],
      "execution_count": 0,
      "outputs": []
    },
    {
      "cell_type": "code",
      "metadata": {
        "id": "2k4lSG5N8lZe",
        "colab_type": "code",
        "outputId": "84755928-186b-4c3e-81ea-d49f97382ba7",
        "colab": {
          "base_uri": "https://localhost:8080/",
          "height": 119
        }
      },
      "source": [
        "\n",
        "\n",
        "\n",
        "\n",
        "\n",
        "normalized_X_test.columns"
      ],
      "execution_count": 0,
      "outputs": [
        {
          "output_type": "execute_result",
          "data": {
            "text/plain": [
              "Index(['Predicted', 'ask1vol', 'ask2vol', 'ask3vol', 'ask4vol', 'ask5vol',\n",
              "       'avg_ask', 'avg_bid', 'bid1vol', 'bid2vol', 'bid3vol', 'bid4vol',\n",
              "       'bid5vol', 'closed_position_qty', 'd_open_interest', 'diff',\n",
              "       'diff_avg_ask', 'diff_avg_bid', 'last_price', 'mid',\n",
              "       'opened_position_qty ', 'probs', 'transacted_qty'],\n",
              "      dtype='object')"
            ]
          },
          "metadata": {
            "tags": []
          },
          "execution_count": 49
        }
      ]
    },
    {
      "cell_type": "code",
      "metadata": {
        "id": "G4tHkyOH6RlB",
        "colab_type": "code",
        "outputId": "fa004537-3964-46f6-f0e7-53e7aa3fd16a",
        "colab": {
          "base_uri": "https://localhost:8080/",
          "height": 164
        }
      },
      "source": [
        "np.array(test_df['id'],probbs)"
      ],
      "execution_count": 0,
      "outputs": [
        {
          "output_type": "error",
          "ename": "TypeError",
          "evalue": "ignored",
          "traceback": [
            "\u001b[0;31m---------------------------------------------------------------------------\u001b[0m",
            "\u001b[0;31mTypeError\u001b[0m                                 Traceback (most recent call last)",
            "\u001b[0;32m<ipython-input-19-7c26cfd594a3>\u001b[0m in \u001b[0;36m<module>\u001b[0;34m()\u001b[0m\n\u001b[0;32m----> 1\u001b[0;31m \u001b[0mnp\u001b[0m\u001b[0;34m.\u001b[0m\u001b[0marray\u001b[0m\u001b[0;34m(\u001b[0m\u001b[0mtest_df\u001b[0m\u001b[0;34m[\u001b[0m\u001b[0;34m'id'\u001b[0m\u001b[0;34m]\u001b[0m\u001b[0;34m,\u001b[0m\u001b[0mprobbs\u001b[0m\u001b[0;34m)\u001b[0m\u001b[0;34m\u001b[0m\u001b[0;34m\u001b[0m\u001b[0m\n\u001b[0m",
            "\u001b[0;31mTypeError\u001b[0m: data type not understood"
          ]
        }
      ]
    },
    {
      "cell_type": "code",
      "metadata": {
        "id": "9Fi1vgja6o1I",
        "colab_type": "code",
        "colab": {}
      },
      "source": [
        "test_df['Predicted'] = probbs"
      ],
      "execution_count": 0,
      "outputs": []
    },
    {
      "cell_type": "code",
      "metadata": {
        "id": "_KCns0hR6sYe",
        "colab_type": "code",
        "outputId": "097629f7-1db5-4c55-c0c8-ff9cdd94c841",
        "colab": {
          "base_uri": "https://localhost:8080/",
          "height": 34
        }
      },
      "source": [
        "len(test_df['id'])"
      ],
      "execution_count": 0,
      "outputs": [
        {
          "output_type": "execute_result",
          "data": {
            "text/plain": [
              "191859"
            ]
          },
          "metadata": {
            "tags": []
          },
          "execution_count": 22
        }
      ]
    },
    {
      "cell_type": "code",
      "metadata": {
        "id": "mBawXlG061pb",
        "colab_type": "code",
        "outputId": "43a2a423-64d4-46c4-adcc-4747ee3e38ce",
        "colab": {
          "base_uri": "https://localhost:8080/",
          "height": 34
        }
      },
      "source": [
        "len(probbs)"
      ],
      "execution_count": 0,
      "outputs": [
        {
          "output_type": "execute_result",
          "data": {
            "text/plain": [
              "592380"
            ]
          },
          "metadata": {
            "tags": []
          },
          "execution_count": 23
        }
      ]
    },
    {
      "cell_type": "code",
      "metadata": {
        "id": "uLdLO8nn63GP",
        "colab_type": "code",
        "colab": {}
      },
      "source": [
        "test_df['Predicted'] = probbs\n",
        "header = [\"id\", \"Predicted\"]\n",
        "test_df.to_csv('output.csv', columns = header,index=False)"
      ],
      "execution_count": 0,
      "outputs": []
    },
    {
      "cell_type": "code",
      "metadata": {
        "id": "IqXHEUwM7fiU",
        "colab_type": "code",
        "outputId": "e609e600-87da-4d8d-9748-9d000b8b3ecf",
        "colab": {
          "base_uri": "https://localhost:8080/",
          "height": 419
        }
      },
      "source": [
        "pd.read_csv('output.csv')"
      ],
      "execution_count": 0,
      "outputs": [
        {
          "output_type": "execute_result",
          "data": {
            "text/html": [
              "<div>\n",
              "<style scoped>\n",
              "    .dataframe tbody tr th:only-of-type {\n",
              "        vertical-align: middle;\n",
              "    }\n",
              "\n",
              "    .dataframe tbody tr th {\n",
              "        vertical-align: top;\n",
              "    }\n",
              "\n",
              "    .dataframe thead th {\n",
              "        text-align: right;\n",
              "    }\n",
              "</style>\n",
              "<table border=\"1\" class=\"dataframe\">\n",
              "  <thead>\n",
              "    <tr style=\"text-align: right;\">\n",
              "      <th></th>\n",
              "      <th>id</th>\n",
              "      <th>Predicted</th>\n",
              "    </tr>\n",
              "  </thead>\n",
              "  <tbody>\n",
              "    <tr>\n",
              "      <th>0</th>\n",
              "      <td>592380</td>\n",
              "      <td>2.704272e-01</td>\n",
              "    </tr>\n",
              "    <tr>\n",
              "      <th>1</th>\n",
              "      <td>592381</td>\n",
              "      <td>0.000000e+00</td>\n",
              "    </tr>\n",
              "    <tr>\n",
              "      <th>2</th>\n",
              "      <td>592382</td>\n",
              "      <td>0.000000e+00</td>\n",
              "    </tr>\n",
              "    <tr>\n",
              "      <th>3</th>\n",
              "      <td>592383</td>\n",
              "      <td>7.152557e-05</td>\n",
              "    </tr>\n",
              "    <tr>\n",
              "      <th>4</th>\n",
              "      <td>592384</td>\n",
              "      <td>0.000000e+00</td>\n",
              "    </tr>\n",
              "    <tr>\n",
              "      <th>...</th>\n",
              "      <td>...</td>\n",
              "      <td>...</td>\n",
              "    </tr>\n",
              "    <tr>\n",
              "      <th>191854</th>\n",
              "      <td>784234</td>\n",
              "      <td>5.960464e-08</td>\n",
              "    </tr>\n",
              "    <tr>\n",
              "      <th>191855</th>\n",
              "      <td>784235</td>\n",
              "      <td>0.000000e+00</td>\n",
              "    </tr>\n",
              "    <tr>\n",
              "      <th>191856</th>\n",
              "      <td>784236</td>\n",
              "      <td>0.000000e+00</td>\n",
              "    </tr>\n",
              "    <tr>\n",
              "      <th>191857</th>\n",
              "      <td>784237</td>\n",
              "      <td>0.000000e+00</td>\n",
              "    </tr>\n",
              "    <tr>\n",
              "      <th>191858</th>\n",
              "      <td>784238</td>\n",
              "      <td>0.000000e+00</td>\n",
              "    </tr>\n",
              "  </tbody>\n",
              "</table>\n",
              "<p>191859 rows × 2 columns</p>\n",
              "</div>"
            ],
            "text/plain": [
              "            id     Predicted\n",
              "0       592380  2.704272e-01\n",
              "1       592381  0.000000e+00\n",
              "2       592382  0.000000e+00\n",
              "3       592383  7.152557e-05\n",
              "4       592384  0.000000e+00\n",
              "...        ...           ...\n",
              "191854  784234  5.960464e-08\n",
              "191855  784235  0.000000e+00\n",
              "191856  784236  0.000000e+00\n",
              "191857  784237  0.000000e+00\n",
              "191858  784238  0.000000e+00\n",
              "\n",
              "[191859 rows x 2 columns]"
            ]
          },
          "metadata": {
            "tags": []
          },
          "execution_count": 45
        }
      ]
    },
    {
      "cell_type": "code",
      "metadata": {
        "id": "rYL6OFsh737o",
        "colab_type": "code",
        "outputId": "10ca174b-8d40-4195-c089-6ce5ce873989",
        "colab": {
          "base_uri": "https://localhost:8080/",
          "height": 443
        }
      },
      "source": [
        "from sklearn.ensemble import RandomForestClassifier\n",
        "from boruta import BorutaPy\n",
        "rfc = RandomForestClassifier(n_estimators=1000, n_jobs=-1, class_weight='balanced')\n",
        "boruta_selector = BorutaPy(rfc, n_estimators='auto', verbose=2)\n",
        "# x=X_train.iloc[:,:].values\n",
        "# y=y_train.iloc[:,0].values\n",
        "boruta_selector.fit(X_train.values,y_train.values)\n",
        "# print(“==============BORUTA==============”)\n",
        "print (boruta_selector.n_features_)"
      ],
      "execution_count": 0,
      "outputs": [
        {
          "output_type": "stream",
          "text": [
            "Iteration: \t1 / 100\n",
            "Confirmed: \t0\n",
            "Tentative: \t32\n",
            "Rejected: \t0\n"
          ],
          "name": "stdout"
        },
        {
          "output_type": "error",
          "ename": "KeyboardInterrupt",
          "evalue": "ignored",
          "traceback": [
            "\u001b[0;31m---------------------------------------------------------------------------\u001b[0m",
            "\u001b[0;31mKeyboardInterrupt\u001b[0m                         Traceback (most recent call last)",
            "\u001b[0;32m<ipython-input-29-6953a9a6f821>\u001b[0m in \u001b[0;36m<module>\u001b[0;34m()\u001b[0m\n\u001b[1;32m      5\u001b[0m \u001b[0;31m# x=X_train.iloc[:,:].values\u001b[0m\u001b[0;34m\u001b[0m\u001b[0;34m\u001b[0m\u001b[0;34m\u001b[0m\u001b[0m\n\u001b[1;32m      6\u001b[0m \u001b[0;31m# y=y_train.iloc[:,0].values\u001b[0m\u001b[0;34m\u001b[0m\u001b[0;34m\u001b[0m\u001b[0;34m\u001b[0m\u001b[0m\n\u001b[0;32m----> 7\u001b[0;31m \u001b[0mboruta_selector\u001b[0m\u001b[0;34m.\u001b[0m\u001b[0mfit\u001b[0m\u001b[0;34m(\u001b[0m\u001b[0mX_train\u001b[0m\u001b[0;34m.\u001b[0m\u001b[0mvalues\u001b[0m\u001b[0;34m,\u001b[0m\u001b[0my_train\u001b[0m\u001b[0;34m.\u001b[0m\u001b[0mvalues\u001b[0m\u001b[0;34m)\u001b[0m\u001b[0;34m\u001b[0m\u001b[0;34m\u001b[0m\u001b[0m\n\u001b[0m\u001b[1;32m      8\u001b[0m \u001b[0;31m# print(“==============BORUTA==============”)\u001b[0m\u001b[0;34m\u001b[0m\u001b[0;34m\u001b[0m\u001b[0;34m\u001b[0m\u001b[0m\n\u001b[1;32m      9\u001b[0m \u001b[0mprint\u001b[0m \u001b[0;34m(\u001b[0m\u001b[0mboruta_selector\u001b[0m\u001b[0;34m.\u001b[0m\u001b[0mn_features_\u001b[0m\u001b[0;34m)\u001b[0m\u001b[0;34m\u001b[0m\u001b[0;34m\u001b[0m\u001b[0m\n",
            "\u001b[0;32m/usr/local/lib/python3.6/dist-packages/boruta/boruta_py.py\u001b[0m in \u001b[0;36mfit\u001b[0;34m(self, X, y)\u001b[0m\n\u001b[1;32m    199\u001b[0m         \"\"\"\n\u001b[1;32m    200\u001b[0m \u001b[0;34m\u001b[0m\u001b[0m\n\u001b[0;32m--> 201\u001b[0;31m         \u001b[0;32mreturn\u001b[0m \u001b[0mself\u001b[0m\u001b[0;34m.\u001b[0m\u001b[0m_fit\u001b[0m\u001b[0;34m(\u001b[0m\u001b[0mX\u001b[0m\u001b[0;34m,\u001b[0m \u001b[0my\u001b[0m\u001b[0;34m)\u001b[0m\u001b[0;34m\u001b[0m\u001b[0;34m\u001b[0m\u001b[0m\n\u001b[0m\u001b[1;32m    202\u001b[0m \u001b[0;34m\u001b[0m\u001b[0m\n\u001b[1;32m    203\u001b[0m     \u001b[0;32mdef\u001b[0m \u001b[0mtransform\u001b[0m\u001b[0;34m(\u001b[0m\u001b[0mself\u001b[0m\u001b[0;34m,\u001b[0m \u001b[0mX\u001b[0m\u001b[0;34m,\u001b[0m \u001b[0mweak\u001b[0m\u001b[0;34m=\u001b[0m\u001b[0;32mFalse\u001b[0m\u001b[0;34m)\u001b[0m\u001b[0;34m:\u001b[0m\u001b[0;34m\u001b[0m\u001b[0;34m\u001b[0m\u001b[0m\n",
            "\u001b[0;32m/usr/local/lib/python3.6/dist-packages/boruta/boruta_py.py\u001b[0m in \u001b[0;36m_fit\u001b[0;34m(self, X, y)\u001b[0m\n\u001b[1;32m    283\u001b[0m \u001b[0;34m\u001b[0m\u001b[0m\n\u001b[1;32m    284\u001b[0m             \u001b[0;31m# add shadow attributes, shuffle them and train estimator, get imps\u001b[0m\u001b[0;34m\u001b[0m\u001b[0;34m\u001b[0m\u001b[0;34m\u001b[0m\u001b[0m\n\u001b[0;32m--> 285\u001b[0;31m             \u001b[0mcur_imp\u001b[0m \u001b[0;34m=\u001b[0m \u001b[0mself\u001b[0m\u001b[0;34m.\u001b[0m\u001b[0m_add_shadows_get_imps\u001b[0m\u001b[0;34m(\u001b[0m\u001b[0mX\u001b[0m\u001b[0;34m,\u001b[0m \u001b[0my\u001b[0m\u001b[0;34m,\u001b[0m \u001b[0mdec_reg\u001b[0m\u001b[0;34m)\u001b[0m\u001b[0;34m\u001b[0m\u001b[0;34m\u001b[0m\u001b[0m\n\u001b[0m\u001b[1;32m    286\u001b[0m \u001b[0;34m\u001b[0m\u001b[0m\n\u001b[1;32m    287\u001b[0m             \u001b[0;31m# get the threshold of shadow importances we will use for rejection\u001b[0m\u001b[0;34m\u001b[0m\u001b[0;34m\u001b[0m\u001b[0;34m\u001b[0m\u001b[0m\n",
            "\u001b[0;32m/usr/local/lib/python3.6/dist-packages/boruta/boruta_py.py\u001b[0m in \u001b[0;36m_add_shadows_get_imps\u001b[0;34m(self, X, y, dec_reg)\u001b[0m\n\u001b[1;32m    410\u001b[0m         \u001b[0mx_sha\u001b[0m \u001b[0;34m=\u001b[0m \u001b[0mnp\u001b[0m\u001b[0;34m.\u001b[0m\u001b[0mapply_along_axis\u001b[0m\u001b[0;34m(\u001b[0m\u001b[0mself\u001b[0m\u001b[0;34m.\u001b[0m\u001b[0m_get_shuffle\u001b[0m\u001b[0;34m,\u001b[0m \u001b[0;36m0\u001b[0m\u001b[0;34m,\u001b[0m \u001b[0mx_sha\u001b[0m\u001b[0;34m)\u001b[0m\u001b[0;34m\u001b[0m\u001b[0;34m\u001b[0m\u001b[0m\n\u001b[1;32m    411\u001b[0m         \u001b[0;31m# get importance of the merged matrix\u001b[0m\u001b[0;34m\u001b[0m\u001b[0;34m\u001b[0m\u001b[0;34m\u001b[0m\u001b[0m\n\u001b[0;32m--> 412\u001b[0;31m         \u001b[0mimp\u001b[0m \u001b[0;34m=\u001b[0m \u001b[0mself\u001b[0m\u001b[0;34m.\u001b[0m\u001b[0m_get_imp\u001b[0m\u001b[0;34m(\u001b[0m\u001b[0mnp\u001b[0m\u001b[0;34m.\u001b[0m\u001b[0mhstack\u001b[0m\u001b[0;34m(\u001b[0m\u001b[0;34m(\u001b[0m\u001b[0mx_cur\u001b[0m\u001b[0;34m,\u001b[0m \u001b[0mx_sha\u001b[0m\u001b[0;34m)\u001b[0m\u001b[0;34m)\u001b[0m\u001b[0;34m,\u001b[0m \u001b[0my\u001b[0m\u001b[0;34m)\u001b[0m\u001b[0;34m\u001b[0m\u001b[0;34m\u001b[0m\u001b[0m\n\u001b[0m\u001b[1;32m    413\u001b[0m         \u001b[0;31m# separate importances of real and shadow features\u001b[0m\u001b[0;34m\u001b[0m\u001b[0;34m\u001b[0m\u001b[0;34m\u001b[0m\u001b[0m\n\u001b[1;32m    414\u001b[0m         \u001b[0mimp_sha\u001b[0m \u001b[0;34m=\u001b[0m \u001b[0mimp\u001b[0m\u001b[0;34m[\u001b[0m\u001b[0mx_cur_w\u001b[0m\u001b[0;34m:\u001b[0m\u001b[0;34m]\u001b[0m\u001b[0;34m\u001b[0m\u001b[0;34m\u001b[0m\u001b[0m\n",
            "\u001b[0;32m/usr/local/lib/python3.6/dist-packages/boruta/boruta_py.py\u001b[0m in \u001b[0;36m_get_imp\u001b[0;34m(self, X, y)\u001b[0m\n\u001b[1;32m    382\u001b[0m     \u001b[0;32mdef\u001b[0m \u001b[0m_get_imp\u001b[0m\u001b[0;34m(\u001b[0m\u001b[0mself\u001b[0m\u001b[0;34m,\u001b[0m \u001b[0mX\u001b[0m\u001b[0;34m,\u001b[0m \u001b[0my\u001b[0m\u001b[0;34m)\u001b[0m\u001b[0;34m:\u001b[0m\u001b[0;34m\u001b[0m\u001b[0;34m\u001b[0m\u001b[0m\n\u001b[1;32m    383\u001b[0m         \u001b[0;32mtry\u001b[0m\u001b[0;34m:\u001b[0m\u001b[0;34m\u001b[0m\u001b[0;34m\u001b[0m\u001b[0m\n\u001b[0;32m--> 384\u001b[0;31m             \u001b[0mself\u001b[0m\u001b[0;34m.\u001b[0m\u001b[0mestimator\u001b[0m\u001b[0;34m.\u001b[0m\u001b[0mfit\u001b[0m\u001b[0;34m(\u001b[0m\u001b[0mX\u001b[0m\u001b[0;34m,\u001b[0m \u001b[0my\u001b[0m\u001b[0;34m)\u001b[0m\u001b[0;34m\u001b[0m\u001b[0;34m\u001b[0m\u001b[0m\n\u001b[0m\u001b[1;32m    385\u001b[0m         \u001b[0;32mexcept\u001b[0m \u001b[0mException\u001b[0m \u001b[0;32mas\u001b[0m \u001b[0me\u001b[0m\u001b[0;34m:\u001b[0m\u001b[0;34m\u001b[0m\u001b[0;34m\u001b[0m\u001b[0m\n\u001b[1;32m    386\u001b[0m             raise ValueError('Please check your X and y variable. The provided'\n",
            "\u001b[0;32m/usr/local/lib/python3.6/dist-packages/sklearn/ensemble/_forest.py\u001b[0m in \u001b[0;36mfit\u001b[0;34m(self, X, y, sample_weight)\u001b[0m\n\u001b[1;32m    381\u001b[0m                     \u001b[0mverbose\u001b[0m\u001b[0;34m=\u001b[0m\u001b[0mself\u001b[0m\u001b[0;34m.\u001b[0m\u001b[0mverbose\u001b[0m\u001b[0;34m,\u001b[0m \u001b[0mclass_weight\u001b[0m\u001b[0;34m=\u001b[0m\u001b[0mself\u001b[0m\u001b[0;34m.\u001b[0m\u001b[0mclass_weight\u001b[0m\u001b[0;34m,\u001b[0m\u001b[0;34m\u001b[0m\u001b[0;34m\u001b[0m\u001b[0m\n\u001b[1;32m    382\u001b[0m                     n_samples_bootstrap=n_samples_bootstrap)\n\u001b[0;32m--> 383\u001b[0;31m                 for i, t in enumerate(trees))\n\u001b[0m\u001b[1;32m    384\u001b[0m \u001b[0;34m\u001b[0m\u001b[0m\n\u001b[1;32m    385\u001b[0m             \u001b[0;31m# Collect newly grown trees\u001b[0m\u001b[0;34m\u001b[0m\u001b[0;34m\u001b[0m\u001b[0;34m\u001b[0m\u001b[0m\n",
            "\u001b[0;32m/usr/local/lib/python3.6/dist-packages/joblib/parallel.py\u001b[0m in \u001b[0;36m__call__\u001b[0;34m(self, iterable)\u001b[0m\n\u001b[1;32m   1015\u001b[0m \u001b[0;34m\u001b[0m\u001b[0m\n\u001b[1;32m   1016\u001b[0m             \u001b[0;32mwith\u001b[0m \u001b[0mself\u001b[0m\u001b[0;34m.\u001b[0m\u001b[0m_backend\u001b[0m\u001b[0;34m.\u001b[0m\u001b[0mretrieval_context\u001b[0m\u001b[0;34m(\u001b[0m\u001b[0;34m)\u001b[0m\u001b[0;34m:\u001b[0m\u001b[0;34m\u001b[0m\u001b[0;34m\u001b[0m\u001b[0m\n\u001b[0;32m-> 1017\u001b[0;31m                 \u001b[0mself\u001b[0m\u001b[0;34m.\u001b[0m\u001b[0mretrieve\u001b[0m\u001b[0;34m(\u001b[0m\u001b[0;34m)\u001b[0m\u001b[0;34m\u001b[0m\u001b[0;34m\u001b[0m\u001b[0m\n\u001b[0m\u001b[1;32m   1018\u001b[0m             \u001b[0;31m# Make sure that we get a last message telling us we are done\u001b[0m\u001b[0;34m\u001b[0m\u001b[0;34m\u001b[0m\u001b[0;34m\u001b[0m\u001b[0m\n\u001b[1;32m   1019\u001b[0m             \u001b[0melapsed_time\u001b[0m \u001b[0;34m=\u001b[0m \u001b[0mtime\u001b[0m\u001b[0;34m.\u001b[0m\u001b[0mtime\u001b[0m\u001b[0;34m(\u001b[0m\u001b[0;34m)\u001b[0m \u001b[0;34m-\u001b[0m \u001b[0mself\u001b[0m\u001b[0;34m.\u001b[0m\u001b[0m_start_time\u001b[0m\u001b[0;34m\u001b[0m\u001b[0;34m\u001b[0m\u001b[0m\n",
            "\u001b[0;32m/usr/local/lib/python3.6/dist-packages/joblib/parallel.py\u001b[0m in \u001b[0;36mretrieve\u001b[0;34m(self)\u001b[0m\n\u001b[1;32m    907\u001b[0m             \u001b[0;32mtry\u001b[0m\u001b[0;34m:\u001b[0m\u001b[0;34m\u001b[0m\u001b[0;34m\u001b[0m\u001b[0m\n\u001b[1;32m    908\u001b[0m                 \u001b[0;32mif\u001b[0m \u001b[0mgetattr\u001b[0m\u001b[0;34m(\u001b[0m\u001b[0mself\u001b[0m\u001b[0;34m.\u001b[0m\u001b[0m_backend\u001b[0m\u001b[0;34m,\u001b[0m \u001b[0;34m'supports_timeout'\u001b[0m\u001b[0;34m,\u001b[0m \u001b[0;32mFalse\u001b[0m\u001b[0;34m)\u001b[0m\u001b[0;34m:\u001b[0m\u001b[0;34m\u001b[0m\u001b[0;34m\u001b[0m\u001b[0m\n\u001b[0;32m--> 909\u001b[0;31m                     \u001b[0mself\u001b[0m\u001b[0;34m.\u001b[0m\u001b[0m_output\u001b[0m\u001b[0;34m.\u001b[0m\u001b[0mextend\u001b[0m\u001b[0;34m(\u001b[0m\u001b[0mjob\u001b[0m\u001b[0;34m.\u001b[0m\u001b[0mget\u001b[0m\u001b[0;34m(\u001b[0m\u001b[0mtimeout\u001b[0m\u001b[0;34m=\u001b[0m\u001b[0mself\u001b[0m\u001b[0;34m.\u001b[0m\u001b[0mtimeout\u001b[0m\u001b[0;34m)\u001b[0m\u001b[0;34m)\u001b[0m\u001b[0;34m\u001b[0m\u001b[0;34m\u001b[0m\u001b[0m\n\u001b[0m\u001b[1;32m    910\u001b[0m                 \u001b[0;32melse\u001b[0m\u001b[0;34m:\u001b[0m\u001b[0;34m\u001b[0m\u001b[0;34m\u001b[0m\u001b[0m\n\u001b[1;32m    911\u001b[0m                     \u001b[0mself\u001b[0m\u001b[0;34m.\u001b[0m\u001b[0m_output\u001b[0m\u001b[0;34m.\u001b[0m\u001b[0mextend\u001b[0m\u001b[0;34m(\u001b[0m\u001b[0mjob\u001b[0m\u001b[0;34m.\u001b[0m\u001b[0mget\u001b[0m\u001b[0;34m(\u001b[0m\u001b[0;34m)\u001b[0m\u001b[0;34m)\u001b[0m\u001b[0;34m\u001b[0m\u001b[0;34m\u001b[0m\u001b[0m\n",
            "\u001b[0;32m/usr/lib/python3.6/multiprocessing/pool.py\u001b[0m in \u001b[0;36mget\u001b[0;34m(self, timeout)\u001b[0m\n\u001b[1;32m    636\u001b[0m \u001b[0;34m\u001b[0m\u001b[0m\n\u001b[1;32m    637\u001b[0m     \u001b[0;32mdef\u001b[0m \u001b[0mget\u001b[0m\u001b[0;34m(\u001b[0m\u001b[0mself\u001b[0m\u001b[0;34m,\u001b[0m \u001b[0mtimeout\u001b[0m\u001b[0;34m=\u001b[0m\u001b[0;32mNone\u001b[0m\u001b[0;34m)\u001b[0m\u001b[0;34m:\u001b[0m\u001b[0;34m\u001b[0m\u001b[0;34m\u001b[0m\u001b[0m\n\u001b[0;32m--> 638\u001b[0;31m         \u001b[0mself\u001b[0m\u001b[0;34m.\u001b[0m\u001b[0mwait\u001b[0m\u001b[0;34m(\u001b[0m\u001b[0mtimeout\u001b[0m\u001b[0;34m)\u001b[0m\u001b[0;34m\u001b[0m\u001b[0;34m\u001b[0m\u001b[0m\n\u001b[0m\u001b[1;32m    639\u001b[0m         \u001b[0;32mif\u001b[0m \u001b[0;32mnot\u001b[0m \u001b[0mself\u001b[0m\u001b[0;34m.\u001b[0m\u001b[0mready\u001b[0m\u001b[0;34m(\u001b[0m\u001b[0;34m)\u001b[0m\u001b[0;34m:\u001b[0m\u001b[0;34m\u001b[0m\u001b[0;34m\u001b[0m\u001b[0m\n\u001b[1;32m    640\u001b[0m             \u001b[0;32mraise\u001b[0m \u001b[0mTimeoutError\u001b[0m\u001b[0;34m\u001b[0m\u001b[0;34m\u001b[0m\u001b[0m\n",
            "\u001b[0;32m/usr/lib/python3.6/multiprocessing/pool.py\u001b[0m in \u001b[0;36mwait\u001b[0;34m(self, timeout)\u001b[0m\n\u001b[1;32m    633\u001b[0m \u001b[0;34m\u001b[0m\u001b[0m\n\u001b[1;32m    634\u001b[0m     \u001b[0;32mdef\u001b[0m \u001b[0mwait\u001b[0m\u001b[0;34m(\u001b[0m\u001b[0mself\u001b[0m\u001b[0;34m,\u001b[0m \u001b[0mtimeout\u001b[0m\u001b[0;34m=\u001b[0m\u001b[0;32mNone\u001b[0m\u001b[0;34m)\u001b[0m\u001b[0;34m:\u001b[0m\u001b[0;34m\u001b[0m\u001b[0;34m\u001b[0m\u001b[0m\n\u001b[0;32m--> 635\u001b[0;31m         \u001b[0mself\u001b[0m\u001b[0;34m.\u001b[0m\u001b[0m_event\u001b[0m\u001b[0;34m.\u001b[0m\u001b[0mwait\u001b[0m\u001b[0;34m(\u001b[0m\u001b[0mtimeout\u001b[0m\u001b[0;34m)\u001b[0m\u001b[0;34m\u001b[0m\u001b[0;34m\u001b[0m\u001b[0m\n\u001b[0m\u001b[1;32m    636\u001b[0m \u001b[0;34m\u001b[0m\u001b[0m\n\u001b[1;32m    637\u001b[0m     \u001b[0;32mdef\u001b[0m \u001b[0mget\u001b[0m\u001b[0;34m(\u001b[0m\u001b[0mself\u001b[0m\u001b[0;34m,\u001b[0m \u001b[0mtimeout\u001b[0m\u001b[0;34m=\u001b[0m\u001b[0;32mNone\u001b[0m\u001b[0;34m)\u001b[0m\u001b[0;34m:\u001b[0m\u001b[0;34m\u001b[0m\u001b[0;34m\u001b[0m\u001b[0m\n",
            "\u001b[0;32m/usr/lib/python3.6/threading.py\u001b[0m in \u001b[0;36mwait\u001b[0;34m(self, timeout)\u001b[0m\n\u001b[1;32m    549\u001b[0m             \u001b[0msignaled\u001b[0m \u001b[0;34m=\u001b[0m \u001b[0mself\u001b[0m\u001b[0;34m.\u001b[0m\u001b[0m_flag\u001b[0m\u001b[0;34m\u001b[0m\u001b[0;34m\u001b[0m\u001b[0m\n\u001b[1;32m    550\u001b[0m             \u001b[0;32mif\u001b[0m \u001b[0;32mnot\u001b[0m \u001b[0msignaled\u001b[0m\u001b[0;34m:\u001b[0m\u001b[0;34m\u001b[0m\u001b[0;34m\u001b[0m\u001b[0m\n\u001b[0;32m--> 551\u001b[0;31m                 \u001b[0msignaled\u001b[0m \u001b[0;34m=\u001b[0m \u001b[0mself\u001b[0m\u001b[0;34m.\u001b[0m\u001b[0m_cond\u001b[0m\u001b[0;34m.\u001b[0m\u001b[0mwait\u001b[0m\u001b[0;34m(\u001b[0m\u001b[0mtimeout\u001b[0m\u001b[0;34m)\u001b[0m\u001b[0;34m\u001b[0m\u001b[0;34m\u001b[0m\u001b[0m\n\u001b[0m\u001b[1;32m    552\u001b[0m             \u001b[0;32mreturn\u001b[0m \u001b[0msignaled\u001b[0m\u001b[0;34m\u001b[0m\u001b[0;34m\u001b[0m\u001b[0m\n\u001b[1;32m    553\u001b[0m \u001b[0;34m\u001b[0m\u001b[0m\n",
            "\u001b[0;32m/usr/lib/python3.6/threading.py\u001b[0m in \u001b[0;36mwait\u001b[0;34m(self, timeout)\u001b[0m\n\u001b[1;32m    293\u001b[0m         \u001b[0;32mtry\u001b[0m\u001b[0;34m:\u001b[0m    \u001b[0;31m# restore state no matter what (e.g., KeyboardInterrupt)\u001b[0m\u001b[0;34m\u001b[0m\u001b[0;34m\u001b[0m\u001b[0m\n\u001b[1;32m    294\u001b[0m             \u001b[0;32mif\u001b[0m \u001b[0mtimeout\u001b[0m \u001b[0;32mis\u001b[0m \u001b[0;32mNone\u001b[0m\u001b[0;34m:\u001b[0m\u001b[0;34m\u001b[0m\u001b[0;34m\u001b[0m\u001b[0m\n\u001b[0;32m--> 295\u001b[0;31m                 \u001b[0mwaiter\u001b[0m\u001b[0;34m.\u001b[0m\u001b[0macquire\u001b[0m\u001b[0;34m(\u001b[0m\u001b[0;34m)\u001b[0m\u001b[0;34m\u001b[0m\u001b[0;34m\u001b[0m\u001b[0m\n\u001b[0m\u001b[1;32m    296\u001b[0m                 \u001b[0mgotit\u001b[0m \u001b[0;34m=\u001b[0m \u001b[0;32mTrue\u001b[0m\u001b[0;34m\u001b[0m\u001b[0;34m\u001b[0m\u001b[0m\n\u001b[1;32m    297\u001b[0m             \u001b[0;32melse\u001b[0m\u001b[0;34m:\u001b[0m\u001b[0;34m\u001b[0m\u001b[0;34m\u001b[0m\u001b[0m\n",
            "\u001b[0;31mKeyboardInterrupt\u001b[0m: "
          ]
        }
      ]
    },
    {
      "cell_type": "code",
      "metadata": {
        "id": "8Djk73cc8x4x",
        "colab_type": "code",
        "outputId": "91b5a188-bf2c-4c77-f28e-7473241282e1",
        "colab": {
          "base_uri": "https://localhost:8080/",
          "height": 190
        }
      },
      "source": [
        "pip install boruta"
      ],
      "execution_count": 0,
      "outputs": [
        {
          "output_type": "stream",
          "text": [
            "Collecting boruta\n",
            "\u001b[?25l  Downloading https://files.pythonhosted.org/packages/b2/11/583f4eac99d802c79af9217e1eff56027742a69e6c866b295cce6a5a8fc2/Boruta-0.3-py3-none-any.whl (56kB)\n",
            "\r\u001b[K     |█████▉                          | 10kB 29.3MB/s eta 0:00:01\r\u001b[K     |███████████▋                    | 20kB 6.3MB/s eta 0:00:01\r\u001b[K     |█████████████████▍              | 30kB 7.5MB/s eta 0:00:01\r\u001b[K     |███████████████████████▏        | 40kB 5.9MB/s eta 0:00:01\r\u001b[K     |█████████████████████████████   | 51kB 7.1MB/s eta 0:00:01\r\u001b[K     |████████████████████████████████| 61kB 5.2MB/s \n",
            "\u001b[?25hRequirement already satisfied: scipy>=0.17.0 in /usr/local/lib/python3.6/dist-packages (from boruta) (1.4.1)\n",
            "Requirement already satisfied: numpy>=1.10.4 in /usr/local/lib/python3.6/dist-packages (from boruta) (1.17.5)\n",
            "Requirement already satisfied: scikit-learn>=0.17.1 in /usr/local/lib/python3.6/dist-packages (from boruta) (0.22.1)\n",
            "Requirement already satisfied: joblib>=0.11 in /usr/local/lib/python3.6/dist-packages (from scikit-learn>=0.17.1->boruta) (0.14.1)\n",
            "Installing collected packages: boruta\n",
            "Successfully installed boruta-0.3\n"
          ],
          "name": "stdout"
        }
      ]
    },
    {
      "cell_type": "code",
      "metadata": {
        "id": "F-mIfwkX84eQ",
        "colab_type": "code",
        "colab": {}
      },
      "source": [
        ""
      ],
      "execution_count": 0,
      "outputs": []
    }
  ]
}