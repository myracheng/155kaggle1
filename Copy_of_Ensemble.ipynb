{
  "nbformat": 4,
  "nbformat_minor": 0,
  "metadata": {
    "accelerator": "GPU",
    "colab": {
      "name": "Copy of Ensemble.ipynb",
      "provenance": [],
      "collapsed_sections": [],
      "toc_visible": true,
      "machine_shape": "hm",
      "include_colab_link": true
    },
    "kernelspec": {
      "name": "python3",
      "display_name": "Python 3"
    },
    "language_info": {
      "codemirror_mode": {
        "name": "ipython",
        "version": 3
      },
      "file_extension": ".py",
      "mimetype": "text/x-python",
      "name": "python",
      "nbconvert_exporter": "python",
      "pygments_lexer": "ipython3",
      "version": "3.7.3"
    }
  },
  "cells": [
    {
      "cell_type": "markdown",
      "metadata": {
        "id": "view-in-github",
        "colab_type": "text"
      },
      "source": [
        "<a href=\"https://colab.research.google.com/github/myracheng/155kaggle1/blob/master/Copy_of_Ensemble.ipynb\" target=\"_parent\"><img src=\"https://colab.research.google.com/assets/colab-badge.svg\" alt=\"Open In Colab\"/></a>"
      ]
    },
    {
      "cell_type": "code",
      "metadata": {
        "colab_type": "code",
        "id": "Ag5XD4I2Rxvq",
        "outputId": "27422010-5672-46f8-bb2b-2eb4084b1ebc",
        "colab": {
          "base_uri": "https://localhost:8080/",
          "height": 202
        }
      },
      "source": [
        "# Load the Drive helper and mount\n",
        "from google.colab import drive\n",
        "\n",
        "# This will prompt for authorization.\n",
        "drive.mount('/content/drive')\n",
        "\n",
        "import keras\n",
        "from keras.models import Sequential\n",
        "from keras.layers import Conv2D, Dense, Flatten, MaxPooling2D, Dropout,Activation,LSTM\n",
        "from keras.callbacks import EarlyStopping\n",
        "from keras.losses import sparse_categorical_crossentropy\n",
        "from keras.optimizers import SGD\n",
        "from sklearn.svm import *\n",
        "from sklearn.linear_model import LogisticRegression\n",
        "from sklearn.model_selection import train_test_split, learning_curve, validation_curve, cross_val_score\n",
        "\n",
        "from sklearn.ensemble import GradientBoostingClassifier,VotingClassifier,RandomForestClassifier,AdaBoostClassifier\n",
        "from lightgbm import LGBMClassifier\n",
        "from xgboost import XGBClassifier\n",
        "from sklearn.metrics import  roc_auc_score\n",
        "from sklearn.ensemble import VotingClassifier\n",
        "import xgboost as xgb\n",
        "\n",
        "import pandas as pd"
      ],
      "execution_count": 0,
      "outputs": [
        {
          "output_type": "stream",
          "text": [
            "Go to this URL in a browser: https://accounts.google.com/o/oauth2/auth?client_id=947318989803-6bn6qk8qdgf4n4g3pfee6491hc0brc4i.apps.googleusercontent.com&redirect_uri=urn%3aietf%3awg%3aoauth%3a2.0%3aoob&response_type=code&scope=email%20https%3a%2f%2fwww.googleapis.com%2fauth%2fdocs.test%20https%3a%2f%2fwww.googleapis.com%2fauth%2fdrive%20https%3a%2f%2fwww.googleapis.com%2fauth%2fdrive.photos.readonly%20https%3a%2f%2fwww.googleapis.com%2fauth%2fpeopleapi.readonly\n",
            "\n",
            "Enter your authorization code:\n",
            "··········\n",
            "Mounted at /content/drive\n"
          ],
          "name": "stdout"
        },
        {
          "output_type": "stream",
          "text": [
            "Using TensorFlow backend.\n"
          ],
          "name": "stderr"
        },
        {
          "output_type": "display_data",
          "data": {
            "text/html": [
              "<p style=\"color: red;\">\n",
              "The default version of TensorFlow in Colab will soon switch to TensorFlow 2.x.<br>\n",
              "We recommend you <a href=\"https://www.tensorflow.org/guide/migrate\" target=\"_blank\">upgrade</a> now \n",
              "or ensure your notebook will continue to use TensorFlow 1.x via the <code>%tensorflow_version 1.x</code> magic:\n",
              "<a href=\"https://colab.research.google.com/notebooks/tensorflow_version.ipynb\" target=\"_blank\">more info</a>.</p>\n"
            ],
            "text/plain": [
              "<IPython.core.display.HTML object>"
            ]
          },
          "metadata": {
            "tags": []
          }
        }
      ]
    },
    {
      "cell_type": "code",
      "metadata": {
        "colab_type": "code",
        "id": "F7MphF4EXkSo",
        "colab": {}
      },
      "source": [
        "def add_fields(df, with_y):\n",
        "  df = df.fillna(0)\n",
        "  df2 = pd.DataFrame()\n",
        "\n",
        "  df2['diff_bid1'] = df['last_price'] - df['bid1']\n",
        "  df2['diff_bid2'] = df['last_price'] - df['bid2']\n",
        "  df2['diff_bid3'] = df['last_price'] - df['bid3']\n",
        "  df2['diff_bid4'] = df['last_price'] - df['bid4']\n",
        "  df2['diff_bid5'] = df['last_price'] - df['bid5']\n",
        "\n",
        "  df2['diff_ask1'] = df['last_price'] - df['ask1']\n",
        "  df2['diff_ask2'] = df['last_price'] - df['ask2']\n",
        "  df2['diff_ask3'] = df['last_price'] - df['ask3']\n",
        "  df2['diff_ask4'] = df['last_price'] - df['ask4']\n",
        "  df2['diff_ask5'] = df['last_price'] - df['ask5']\n",
        "\n",
        "  df2['diff_mid_bid1'] = df['mid'] - df['bid1']\n",
        "  df2['diff_mid_bid2'] = df['mid'] - df['bid2']\n",
        "  df2['diff_mid_bid3'] = df['mid'] - df['bid3']\n",
        "  df2['diff_mid_bid4'] = df['mid'] - df['bid4']\n",
        "  df2['diff_mid_bid5'] = df['mid'] - df['bid5']\n",
        "\n",
        "  df2['diff_mid_ask1'] = df['mid'] - df['ask1']\n",
        "  df2['diff_mid_ask2'] = df['mid'] - df['ask2']\n",
        "  df2['diff_mid_ask3'] = df['mid'] - df['ask3']\n",
        "  df2['diff_mid_ask4'] = df['mid'] - df['ask4']\n",
        "  df2['diff_mid_ask5'] = df['mid'] - df['ask5']\n",
        "\n",
        "  df2['mid_diff'] = df['last_price'] - df['mid']\n",
        "  df2['best_offer_last_price_diff'] = df2['diff_bid1'] + df2['diff_ask1']\n",
        "\n",
        "  df['avg_bid'] = (df['bid1'] * df['bid1vol'] + df['bid2'] * df['bid2vol'] + df['bid3'] * df['bid3vol'] + df['bid4'] * df['bid4vol'] + df['bid5'] * df['bid5vol']) / (df['bid1vol'] + df['bid2vol'] + df['bid3vol'] + df['bid4vol'] + df['bid5vol'])\n",
        "  df['avg_ask'] = (df['ask1'] * df['ask1vol'] + df['ask2'] * df['ask2vol'] + df['ask3'] * df['ask3vol'] + df['ask4'] * df['ask4vol'] + df['ask5'] * df['ask5vol']) / (df['ask1vol'] + df['ask2vol'] + df['ask3vol'] + df['ask4vol'] + df['ask5vol'])\n",
        "\n",
        "  df2['avg_bid_last_price_diff'] = df['avg_bid'] - df['last_price']\n",
        "  df2['avg_ask_last_price_diff'] = df['avg_ask'] - df['last_price']\n",
        "  df2['avg_bid_mid_diff'] = df['avg_bid'] - df['mid']\n",
        "  df2['avg_ask_mid_diff'] = df['avg_ask'] - df['mid']\n",
        "\n",
        "  df2['best_offer_diff'] = df['bid1'] - df['ask1']\n",
        "  df2['best_offer_vol_diff'] = df['bid1vol'] - df['ask1vol']\n",
        "  df2['best_offer_tot_diff'] = df['bid1'] * df['bid1vol'] - df['ask1'] * df['ask1vol']\n",
        "\n",
        "  df['avg_best_offer'] = (df['bid1'] * df['bid1vol'] + df['ask1'] * df['ask1vol']) / (df['bid1vol'] + df['ask1vol'])\n",
        "  df2['mid_avg_best_offer_diff'] = df['mid'] - df['avg_best_offer']\n",
        "  df2['last_price_avg_best_offer_diff'] = df['last_price'] - df['avg_best_offer']\n",
        "\n",
        "  df2['tot_bid_vol'] = df['bid1vol'] + df['bid2vol'] + df['bid3vol'] + df['bid4vol'] + df['bid5vol'] \n",
        "  df2['tot_ask_vol'] = df['ask1vol'] + df['ask2vol'] + df['ask3vol'] + df['ask4vol'] + df['ask5vol'] \n",
        "  df2['tot_offer_vol_diff'] = df2['tot_bid_vol'] - df2['tot_ask_vol']\n",
        "\n",
        "  df2['closed_tot_bid_diff'] = df2['tot_bid_vol'] - df['closed_position_qty']\n",
        "  df2['closed_tot_ask_diff'] = df2['tot_ask_vol'] - df['closed_position_qty']\n",
        "  df2['opened_tot_bid_diff'] = df2['tot_bid_vol'] - df['opened_position_qty ']\n",
        "  df2['opened_tot_ask_diff'] = df2['tot_ask_vol'] - df['opened_position_qty ']\n",
        "\n",
        "  df2['d_open_interest'] = df['d_open_interest'] \n",
        "  df2['transacted_qty'] = df['transacted_qty'] \n",
        "\n",
        "  if with_y == True:\n",
        "    y = df['y']\n",
        "  else:\n",
        "    y = []\n",
        "\n",
        "  X = df2.loc[:, df2.columns != 'y']  \n",
        "  return X, y"
      ],
      "execution_count": 0,
      "outputs": []
    },
    {
      "cell_type": "code",
      "metadata": {
        "id": "a7El7lFzBJga",
        "colab_type": "code",
        "outputId": "a826639b-140d-42fa-8d72-3282075f717f",
        "colab": {
          "base_uri": "https://localhost:8080/",
          "height": 153
        }
      },
      "source": [
        "from zipfile import ZipFile \n",
        "file_name = \"drive/My Drive/train.csv.zip\"\n",
        "  \n",
        "# # opening the zip file in READ mode \n",
        "with ZipFile(file_name, 'r') as zipF: \n",
        "    # printing all the contents of the zip file \n",
        "    zipF.printdir() \n",
        "  \n",
        "    # extracting all the files \n",
        "    print('Extracting all the files now...') \n",
        "    data = zipF.extract('train.csv') \n",
        "    print('Done!')\n",
        "\n",
        "file_name = \"drive/My Drive/test.csv.zip\"\n",
        "  \n",
        "# # opening the zip file in READ mode \n",
        "with ZipFile(file_name, 'r') as zipF: \n",
        "    # printing all the contents of the zip file \n",
        "    zipF.printdir() \n",
        "  \n",
        "    # extracting all the files \n",
        "    print('Extracting all the files now...') \n",
        "    data = zipF.extract('test.csv') \n",
        "    print('Done!')"
      ],
      "execution_count": 0,
      "outputs": [
        {
          "output_type": "stream",
          "text": [
            "File Name                                             Modified             Size\n",
            "train.csv                                      2020-02-09 10:27:26     77009507\n",
            "Extracting all the files now...\n",
            "Done!\n",
            "File Name                                             Modified             Size\n",
            "test.csv                                       2020-02-09 10:27:26     24378147\n",
            "Extracting all the files now...\n",
            "Done!\n"
          ],
          "name": "stdout"
        }
      ]
    },
    {
      "cell_type": "markdown",
      "metadata": {
        "id": "DG7go3Yo0Rly",
        "colab_type": "text"
      },
      "source": [
        "# Create Training Set\n"
      ]
    },
    {
      "cell_type": "code",
      "metadata": {
        "id": "Iefs3cyGcKZJ",
        "colab_type": "code",
        "colab": {}
      },
      "source": [
        "train_df = pd.read_csv('train.csv', index_col=0)\n",
        "train_df, y = add_fields(train_df, with_y=True)\n",
        "\n",
        "X_train, X_test, y_train, y_test = train_test_split(train_df, y, test_size=0.2, random_state=0)\n"
      ],
      "execution_count": 0,
      "outputs": []
    },
    {
      "cell_type": "markdown",
      "metadata": {
        "id": "WThA6X7r0aQi",
        "colab_type": "text"
      },
      "source": [
        "# Train Ensemble Model\n"
      ]
    },
    {
      "cell_type": "code",
      "metadata": {
        "id": "pVjgxuelBNuY",
        "colab_type": "code",
        "colab": {}
      },
      "source": [
        "from sklearn.svm import *\n",
        "from sklearn.ensemble import BaggingClassifier"
      ],
      "execution_count": 0,
      "outputs": []
    },
    {
      "cell_type": "code",
      "metadata": {
        "id": "IAR_kSyBPh3r",
        "colab_type": "code",
        "colab": {}
      },
      "source": [
        "clf1 = GradientBoostingClassifier()\n",
        "clf2 = RandomForestClassifier()\n",
        "clf3 = LogisticRegression()\n",
        "clf4 = AdaBoostClassifier()\n",
        "clf5 = LGBMClassifier()\n",
        "clf6 = XGBClassifier()\n",
        "clf7 = SVC()\n",
        "clf8 = BaggingClassifier()\n",
        "eclf1 = VotingClassifier(estimators=[('gb', clf1), ('rf', clf2), ('logreg', clf3), ('ada', clf4),('lgbm', clf5),('xgb', clf6),('svc',clf7),('bbc',clf8)], voting='soft')\n",
        "eclf1 = eclf1.fit(X_train, y_train)\n",
        "print(eclf1.score(X_test, y_test))"
      ],
      "execution_count": 0,
      "outputs": []
    },
    {
      "cell_type": "markdown",
      "metadata": {
        "id": "Kh8UJ7kcc1ZB",
        "colab_type": "text"
      },
      "source": [
        ""
      ]
    },
    {
      "cell_type": "code",
      "metadata": {
        "id": "Q6roGjctZ5zN",
        "colab_type": "code",
        "colab": {}
      },
      "source": [
        "y_probs = eclf1.predict_proba(X_test)\n",
        "print(roc_auc_score(y_test, y_probs[:,1]))"
      ],
      "execution_count": 0,
      "outputs": []
    },
    {
      "cell_type": "markdown",
      "metadata": {
        "id": "O_2Ky-fUDXEH",
        "colab_type": "text"
      },
      "source": [
        ""
      ]
    },
    {
      "cell_type": "markdown",
      "metadata": {
        "id": "0Ngk2gYpYPAk",
        "colab_type": "text"
      },
      "source": [
        ""
      ]
    },
    {
      "cell_type": "markdown",
      "metadata": {
        "id": "Z3ycfceXYPgO",
        "colab_type": "text"
      },
      "source": [
        "# Create .csv of Test Set\n",
        "\n"
      ]
    },
    {
      "cell_type": "code",
      "metadata": {
        "scrolled": true,
        "id": "Z5-ZBScDPBr0",
        "colab_type": "code",
        "colab": {}
      },
      "source": [
        "test_df = pd.read_csv('test.csv', index_col=0)\n",
        "test_df, __ = add_fields(test_df, with_y=False)\n",
        "\n",
        "eclf1 = eclf1.fit(train_df, y)\n",
        "probbs = eclf1.predict_proba(test_df)\n",
        "test_df['Predicted'] = probbs[:, 1]\n",
        "\n",
        "header = [\"id\", \"Predicted\"]\n",
        "test_df['id']=test_df.index\n",
        "test_df.to_csv('output.csv', columns = header,index=False)"
      ],
      "execution_count": 0,
      "outputs": []
    },
    {
      "cell_type": "code",
      "metadata": {
        "id": "YNdE2ZgHV_1O",
        "colab_type": "code",
        "colab": {}
      },
      "source": [
        ""
      ],
      "execution_count": 0,
      "outputs": []
    }
  ]
}